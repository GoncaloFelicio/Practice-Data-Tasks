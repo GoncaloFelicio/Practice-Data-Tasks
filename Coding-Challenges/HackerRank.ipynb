{
 "cells": [
  {
   "cell_type": "markdown",
   "metadata": {},
   "source": [
    "Challenges from HackerRank website"
   ]
  },
  {
   "cell_type": "markdown",
   "metadata": {},
   "source": [
    "### Lonely Integer\n",
    "Given an array of integers, where all elements but one occur twice, find the unique element"
   ]
  },
  {
   "cell_type": "code",
   "execution_count": 14,
   "metadata": {},
   "outputs": [
    {
     "data": {
      "text/plain": [
       "4"
      ]
     },
     "execution_count": 14,
     "metadata": {},
     "output_type": "execute_result"
    }
   ],
   "source": [
    "a = [1,2,3,4,1,2,3]\n",
    "\n",
    "def lonelyinteger(a):\n",
    "    xor_zero = 0\n",
    "    for num in a:\n",
    "        xor_zero ^= num\n",
    "    return xor_zero\n",
    "\n",
    "lonelyinteger(a)"
   ]
  },
  {
   "cell_type": "markdown",
   "metadata": {},
   "source": [
    "Using the XOR operation to null the duplicates and keep the only unique value  \n",
    "This only works if all the elements have a single duplicate and only one element is unique"
   ]
  },
  {
   "cell_type": "code",
   "execution_count": 38,
   "metadata": {},
   "outputs": [
    {
     "data": {
      "text/plain": [
       "4"
      ]
     },
     "execution_count": 38,
     "metadata": {},
     "output_type": "execute_result"
    }
   ],
   "source": [
    "def lonelyinteger2(a):\n",
    "    unique_set = set()\n",
    "    for num in a:\n",
    "        if num in unique_set:\n",
    "            unique_set.remove(num)\n",
    "        else:\n",
    "            unique_set.add(num)\n",
    "    return unique_set.pop()\n",
    "\n",
    "lonelyinteger2(a)"
   ]
  },
  {
   "cell_type": "markdown",
   "metadata": {},
   "source": [
    "For this case, can use a set or a list. Advantage of set is that it guarantees uniqueness of vallues inside, also membership testing, insertion and deletion are much more performant with set type"
   ]
  },
  {
   "cell_type": "markdown",
   "metadata": {},
   "source": [
    "### Diagonal Difference\n",
    "Given a square matrix, calculate the absolute difference between the sums of its diagonals."
   ]
  },
  {
   "cell_type": "code",
   "execution_count": 73,
   "metadata": {},
   "outputs": [
    {
     "data": {
      "text/plain": [
       "[[1, 2, 3], [4, 5, 6], [9, 8, 9]]"
      ]
     },
     "execution_count": 73,
     "metadata": {},
     "output_type": "execute_result"
    }
   ],
   "source": [
    "#input\n",
    "arr = [[1, 2, 3],\n",
    "       [4,5,6],\n",
    "       [9,8,9]]\n",
    "arr"
   ]
  },
  {
   "cell_type": "code",
   "execution_count": 74,
   "metadata": {},
   "outputs": [
    {
     "name": "stdout",
     "output_type": "stream",
     "text": [
      "0 [1, 2, 3]\n",
      "1\n",
      "2 [1, 2, 3]\n",
      "3\n",
      "1 [4, 5, 6]\n",
      "6\n",
      "1 [4, 5, 6]\n",
      "8\n",
      "2 [9, 8, 9]\n",
      "15\n",
      "0 [9, 8, 9]\n",
      "17\n"
     ]
    },
    {
     "data": {
      "text/plain": [
       "2"
      ]
     },
     "execution_count": 74,
     "metadata": {},
     "output_type": "execute_result"
    }
   ],
   "source": [
    "n=len(arr)\n",
    "left_sum = 0\n",
    "right_sum = 0\n",
    "\n",
    "for idx, row in enumerate(arr):\n",
    "    print(idx, row)\n",
    "    left_sum += row[idx]\n",
    "    print(left_sum)\n",
    "    print(n-1-idx, row)\n",
    "    right_sum += row[n-1-idx]\n",
    "    print(right_sum)\n",
    "\n",
    "abs(left_sum-right_sum)\n",
    "\n"
   ]
  },
  {
   "cell_type": "code",
   "execution_count": 79,
   "metadata": {},
   "outputs": [
    {
     "data": {
      "text/plain": [
       "2"
      ]
     },
     "execution_count": 79,
     "metadata": {},
     "output_type": "execute_result"
    }
   ],
   "source": [
    "# another solution, cleaner\n",
    "n = len(arr)\n",
    "left_sum = 0\n",
    "right_sum = 0\n",
    "\n",
    "for i in range(n):\n",
    "    left_sum += arr[i][i]\n",
    "    right_sum += arr[i][n-1-i]\n",
    "\n",
    "abs(left_sum - right_sum)"
   ]
  },
  {
   "cell_type": "markdown",
   "metadata": {},
   "source": [
    "### Comparison Sorting\n",
    "Given a list of integers, count and return the number of times each value appears as an array of integers."
   ]
  },
  {
   "cell_type": "code",
   "execution_count": 84,
   "metadata": {},
   "outputs": [
    {
     "data": {
      "text/plain": [
       "[63,\n",
       " 25,\n",
       " 73,\n",
       " 1,\n",
       " 98,\n",
       " 73,\n",
       " 56,\n",
       " 84,\n",
       " 86,\n",
       " 57,\n",
       " 16,\n",
       " 83,\n",
       " 8,\n",
       " 25,\n",
       " 81,\n",
       " 56,\n",
       " 9,\n",
       " 53,\n",
       " 98,\n",
       " 67,\n",
       " 99,\n",
       " 12,\n",
       " 83,\n",
       " 89,\n",
       " 80,\n",
       " 91,\n",
       " 39,\n",
       " 86,\n",
       " 76,\n",
       " 85,\n",
       " 74,\n",
       " 39,\n",
       " 25,\n",
       " 90,\n",
       " 59,\n",
       " 10,\n",
       " 94,\n",
       " 32,\n",
       " 44,\n",
       " 3,\n",
       " 89,\n",
       " 30,\n",
       " 27,\n",
       " 79,\n",
       " 46,\n",
       " 96,\n",
       " 27,\n",
       " 32,\n",
       " 18,\n",
       " 21,\n",
       " 92,\n",
       " 69,\n",
       " 81,\n",
       " 40,\n",
       " 40,\n",
       " 34,\n",
       " 68,\n",
       " 78,\n",
       " 24,\n",
       " 87,\n",
       " 42,\n",
       " 69,\n",
       " 23,\n",
       " 41,\n",
       " 78,\n",
       " 22,\n",
       " 6,\n",
       " 90,\n",
       " 99,\n",
       " 89,\n",
       " 50,\n",
       " 30,\n",
       " 20,\n",
       " 1,\n",
       " 43,\n",
       " 3,\n",
       " 70,\n",
       " 95,\n",
       " 33,\n",
       " 46,\n",
       " 44,\n",
       " 9,\n",
       " 69,\n",
       " 48,\n",
       " 33,\n",
       " 60,\n",
       " 65,\n",
       " 16,\n",
       " 82,\n",
       " 67,\n",
       " 61,\n",
       " 32,\n",
       " 21,\n",
       " 79,\n",
       " 75,\n",
       " 75,\n",
       " 13,\n",
       " 87,\n",
       " 70,\n",
       " 33]"
      ]
     },
     "execution_count": 84,
     "metadata": {},
     "output_type": "execute_result"
    }
   ],
   "source": [
    "# input\n",
    "n = 100\n",
    "int_str = \"63 25 73 1 98 73 56 84 86 57 16 83 8 25 81 56 9 53 98 67 99 12 83 89 80 91 39 86 76 85 74 39 25 90 59 10 94 32 44 3 89 30 27 79 46 96 27 32 18 21 92 69 81 40 40 34 68 78 24 87 42 69 23 41 78 22 6 90 99 89 50 30 20 1 43 3 70 95 33 46 44 9 69 48 33 60 65 16 82 67 61 32 21 79 75 75 13 87 70 33\" \n",
    "int_list = list(map(int, int_str.split()))\n",
    "int_list"
   ]
  },
  {
   "cell_type": "code",
   "execution_count": 101,
   "metadata": {},
   "outputs": [
    {
     "data": {
      "text/plain": [
       "100"
      ]
     },
     "execution_count": 101,
     "metadata": {},
     "output_type": "execute_result"
    }
   ],
   "source": [
    "zeros_list = [0] * 100\n",
    "len(zeros_list)"
   ]
  },
  {
   "cell_type": "code",
   "execution_count": 102,
   "metadata": {},
   "outputs": [
    {
     "data": {
      "text/plain": [
       "[0,\n",
       " 2,\n",
       " 0,\n",
       " 2,\n",
       " 0,\n",
       " 0,\n",
       " 1,\n",
       " 0,\n",
       " 1,\n",
       " 2,\n",
       " 1,\n",
       " 0,\n",
       " 1,\n",
       " 1,\n",
       " 0,\n",
       " 0,\n",
       " 2,\n",
       " 0,\n",
       " 1,\n",
       " 0,\n",
       " 1,\n",
       " 2,\n",
       " 1,\n",
       " 1,\n",
       " 1,\n",
       " 3,\n",
       " 0,\n",
       " 2,\n",
       " 0,\n",
       " 0,\n",
       " 2,\n",
       " 0,\n",
       " 3,\n",
       " 3,\n",
       " 1,\n",
       " 0,\n",
       " 0,\n",
       " 0,\n",
       " 0,\n",
       " 2,\n",
       " 2,\n",
       " 1,\n",
       " 1,\n",
       " 1,\n",
       " 2,\n",
       " 0,\n",
       " 2,\n",
       " 0,\n",
       " 1,\n",
       " 0,\n",
       " 1,\n",
       " 0,\n",
       " 0,\n",
       " 1,\n",
       " 0,\n",
       " 0,\n",
       " 2,\n",
       " 1,\n",
       " 0,\n",
       " 1,\n",
       " 1,\n",
       " 1,\n",
       " 0,\n",
       " 1,\n",
       " 0,\n",
       " 1,\n",
       " 0,\n",
       " 2,\n",
       " 1,\n",
       " 3,\n",
       " 2,\n",
       " 0,\n",
       " 0,\n",
       " 2,\n",
       " 1,\n",
       " 2,\n",
       " 1,\n",
       " 0,\n",
       " 2,\n",
       " 2,\n",
       " 1,\n",
       " 2,\n",
       " 1,\n",
       " 2,\n",
       " 1,\n",
       " 1,\n",
       " 2,\n",
       " 2,\n",
       " 0,\n",
       " 3,\n",
       " 2,\n",
       " 1,\n",
       " 1,\n",
       " 0,\n",
       " 1,\n",
       " 1,\n",
       " 1,\n",
       " 0,\n",
       " 2,\n",
       " 2]"
      ]
     },
     "execution_count": 102,
     "metadata": {},
     "output_type": "execute_result"
    }
   ],
   "source": [
    "for num in int_list:\n",
    "    zeros_list[num] += 1\n",
    "zeros_list"
   ]
  },
  {
   "cell_type": "markdown",
   "metadata": {},
   "source": [
    "### Merge two sorted linked lists\n",
    "Given pointers to the heads of two sorted linked lists, merge them into a single, sorted linked list. Either head pointer may be null meaning that the corresponding list is empty."
   ]
  },
  {
   "cell_type": "code",
   "execution_count": 152,
   "metadata": {},
   "outputs": [],
   "source": [
    "class SinglyLinkedListNode:\n",
    "    def __init__(self, data):\n",
    "        self.data = data\n",
    "        self.next = None\n",
    "\n",
    "dummy = SinglyLinkedListNode(0)"
   ]
  },
  {
   "cell_type": "code",
   "execution_count": 122,
   "metadata": {},
   "outputs": [],
   "source": [
    "def insert_node(head, data):\n",
    "    new_node = SinglyLinkedListNode(data)\n",
    "    if head is None:\n",
    "        return new_node\n",
    "    else:\n",
    "        current = head\n",
    "        while current.next:\n",
    "            current = current.next\n",
    "        current.next = new_node\n",
    "    return head"
   ]
  },
  {
   "cell_type": "code",
   "execution_count": 156,
   "metadata": {},
   "outputs": [],
   "source": [
    "# Create Linked List A: 1 -> 3 -> 7\n",
    "headA = None\n",
    "headA = insert_node(headA, 1)\n",
    "headA = insert_node(headA, 3)\n",
    "headA = insert_node(headA, 7)\n",
    "\n",
    "# Create Linked List B: 1 -> 2\n",
    "headB = None\n",
    "headB = insert_node(headB, 1)\n",
    "headB = insert_node(headB, 2)"
   ]
  },
  {
   "cell_type": "code",
   "execution_count": 160,
   "metadata": {},
   "outputs": [
    {
     "name": "stdout",
     "output_type": "stream",
     "text": [
      "Input List:\n",
      "1 -> 3 -> 7 -> NULL\n"
     ]
    }
   ],
   "source": [
    "merged_head = headA\n",
    "print(\"Input List:\")\n",
    "while merged_head is not None:\n",
    "    print(merged_head.data, end=\" -> \")\n",
    "    merged_head = merged_head.next\n",
    "print(\"NULL\")"
   ]
  },
  {
   "cell_type": "code",
   "execution_count": 163,
   "metadata": {},
   "outputs": [],
   "source": [
    "def mergeLists(head1, head2):\n",
    "    dummy = SinglyLinkedListNode(0)\n",
    "    current = dummy\n",
    "    \n",
    "    while head1 is not None and head2 is not None:\n",
    "        if head1.data < head2.data:\n",
    "            current.next = head1\n",
    "            print(f\"Adding {head1.data} from list 1\")\n",
    "            head1 = head1.next\n",
    "        else:\n",
    "            current.next = head2\n",
    "            print(f\"Adding {head2.data} from list 2\")\n",
    "            head2 = head2.next\n",
    "            \n",
    "        current = current.next # move to next node\n",
    "\n",
    "    if head1 is not None:\n",
    "        current.next = head1\n",
    "        print(f\"Appending remaining list 1 starting with {head1.data}\")\n",
    "    elif head2 is not None:\n",
    "        current.next = head2\n",
    "        print(f\"Appending remaining list 2 starting with {head2.data}\")\n",
    "\n",
    "    # Print the merged list starting from dummy's next node\n",
    "    merged_head = dummy.next\n",
    "    print(\"Merged List:\")\n",
    "    while merged_head is not None:\n",
    "        print(merged_head.data, end=\" -> \")\n",
    "        merged_head = merged_head.next\n",
    "    print(\"NULL\")\n",
    "    \n",
    "    return dummy.next"
   ]
  },
  {
   "cell_type": "code",
   "execution_count": 164,
   "metadata": {},
   "outputs": [
    {
     "name": "stdout",
     "output_type": "stream",
     "text": [
      "Adding 1 from list 2\n",
      "Adding 1 from list 1\n",
      "Adding 2 from list 2\n",
      "Appending remaining list 1 starting with 3\n",
      "Merged List:\n",
      "1 -> 1 -> 2 -> 3 -> 7 -> NULL\n"
     ]
    },
    {
     "data": {
      "text/plain": [
       "<__main__.SinglyLinkedListNode at 0x1111ab60d60>"
      ]
     },
     "execution_count": 164,
     "metadata": {},
     "output_type": "execute_result"
    }
   ],
   "source": [
    "mergeLists(headA, headB)"
   ]
  },
  {
   "cell_type": "markdown",
   "metadata": {},
   "source": [
    "### Queue using Two Stacks\n",
    "you must first implement a queue using two stacks. Then process  queries, where each query is one of the following  types:"
   ]
  },
  {
   "cell_type": "markdown",
   "metadata": {},
   "source": [
    "1 x: Enqueue element  into the end of the queue.  \n",
    "2: Dequeue the element at the front of the queue.  \n",
    "3: Print the element at the front of the queue.  \n",
    "\n",
    "STDIN   Function   \n",
    "-- --  \n",
    "10      q = 10 (number of queries)    \n",
    "1 42    1st query, enqueue 42    \n",
    "2       dequeue front element  \n",
    "1 14    enqueue 42  \n",
    "3       print the front element  \n",
    "1 28    enqueue 28  \n",
    "3       print the front element  \n",
    "1 60    enqueue 60  \n",
    "1 78    enqueue 78  \n",
    "2       dequeue front element  \n",
    "2       dequeue front element  \n",
    "-- -- \n",
    "Thought Process:  \n",
    "    Create a class that holds the queue elements and has functions for each query type, 1, 2 and 3\n",
    "    create 2 stacks in the class, stack one for enqueu elements, stack 2 for the dequeued elements.\n",
    "    Use list type for queues, very simple to manipulate elements."
   ]
  },
  {
   "cell_type": "code",
   "execution_count": 25,
   "metadata": {},
   "outputs": [],
   "source": [
    "class QueueTwoStacks:\n",
    "    def __init__(self):\n",
    "        self.stack1 = []\n",
    "        self.stack2 = []\n",
    "\n",
    "    def enqueue(self, data): # O(1)\n",
    "        print(f'Enqueue item: {data}')\n",
    "        self.stack1.append(data)\n",
    "        print(f'Queue1: {self.stack1}')\n",
    "        \n",
    "    # def dequeue(self): # O(n)\n",
    "    #     removed_item = self.stack1.pop(0) \n",
    "    #     print(f'Dequeue front element: {removed_item}')\n",
    "    #     print(f'Queue: {self.stack1}')\n",
    "    #     self.stack2.append(removed_item)\n",
    "\n",
    "    def dequeue(self): #O(1)\n",
    "        if not self.stack2: # Check stack 2 is empty\n",
    "            while self.stack1: # For all elements in stack1\n",
    "                self.stack2.append(self.stack1.pop()) # using pop() is O(1) complexity and reverses the order into stack2\n",
    "        if not self.stack2: # Check if stack 2 still empty, only occurs if stack1 was also empty, an error\n",
    "            raise IndexError(\"Can't dequeue and empty queue.\")\n",
    "        \n",
    "        dequeue_item = self.stack2.pop() # O(1)\n",
    "        print(f'Dequeue front element: {dequeue_item}')\n",
    "        print(f'Queue2: {self.stack2}')\n",
    "        return dequeue_item # Beacuse stack2 is the reverse of stack1, removes the 1st element in queue\n",
    "\n",
    "    def show_data(self):\n",
    "        # print(f'Printing value at head: {self.stack1[0]}')\n",
    "        # return self.stack1[0]\n",
    "        if not self.stack2: # Check stack 2 is empty\n",
    "            while self.stack1: # For all elements in stack1\n",
    "                self.stack2.append(self.stack1.pop()) # using pop() is O(1) complexity and reverses the order into stack2\n",
    "        if not self.stack2: # Check if stack 2 still empty, only occurs if stack1 was also empty, an error\n",
    "            raise IndexError(\"Can't dequeue and empty queue.\")\n",
    "        \n",
    "        print(f'Printing value at head: {self.stack2[-1]}') # Must handle stack2, as stack1 remains unchanged\n",
    "        return self.stack2[-1]\n",
    "    "
   ]
  },
  {
   "cell_type": "markdown",
   "metadata": {},
   "source": [
    "In the commented out queue method, the first one created, stack 2 serves no use, and because of pop(0), the complexity is always O(n).  \n",
    "But, using just pop() complexity is O(1), because only last element is removed in this case, while first case, the element 0 is removed and all elements are moved one step left. Therefore using a solution with only pop() gives performance, and this requires 2 stacks indeed. The better performance is immediately clear running the tests, they finish much faster,"
   ]
  },
  {
   "cell_type": "code",
   "execution_count": 28,
   "metadata": {},
   "outputs": [],
   "source": [
    "def process_queries(queries):\n",
    "    queue = QueueTwoStacks()\n",
    "    results = []\n",
    "\n",
    "    print(f'Number of queries: {len(queries)}')\n",
    "    for query in queries:\n",
    "        if query[0] == 1:\n",
    "            queue.enqueue(query[1])\n",
    "        elif query[0] == 2:\n",
    "            queue.dequeue()\n",
    "        elif query[0] == 3:\n",
    "            front_item = queue.show_data()\n",
    "            results.append(front_item)\n",
    "            print(f'Current result: {results}')\n",
    "        else:\n",
    "            print('Query type: {query[0]} not appropriate. Use \"1\", \"2\" or \"3\".')\n",
    "    return results"
   ]
  },
  {
   "cell_type": "code",
   "execution_count": 29,
   "metadata": {},
   "outputs": [
    {
     "name": "stdout",
     "output_type": "stream",
     "text": [
      "Number of queries: 10\n",
      "Enqueue item: 76\n",
      "Queue1: [76]\n",
      "Enqueue item: 33\n",
      "Queue1: [76, 33]\n",
      "Dequeue front element: 76\n",
      "Queue2: [33]\n",
      "Enqueue item: 23\n",
      "Queue1: [23]\n",
      "Enqueue item: 97\n",
      "Queue1: [23, 97]\n",
      "Enqueue item: 21\n",
      "Queue1: [23, 97, 21]\n",
      "Printing value at head: 33\n",
      "Current result: [33]\n",
      "Printing value at head: 33\n",
      "Current result: [33, 33]\n",
      "Enqueue item: 74\n",
      "Queue1: [23, 97, 21, 74]\n",
      "Printing value at head: 33\n",
      "Current result: [33, 33, 33]\n",
      "33\n",
      "33\n",
      "33\n"
     ]
    }
   ],
   "source": [
    "# Test input\n",
    "if __name__ == \"__main__\":\n",
    "    input_data = [\n",
    "        [1, 76],   # Enqueue 42\n",
    "        [1, 33],       # Dequeue\n",
    "        [2],   # Enqueue 14\n",
    "        [1, 23],       # Print front element (should be 14)\n",
    "        [1, 97],   # Enqueue 28\n",
    "        [1,21],       # Print front element (should be 14)\n",
    "        [3],   # Enqueue 60\n",
    "        [3],   # Enqueue 78\n",
    "        [1, 74],       # Dequeue (should remove 14)\n",
    "        [3]        # Dequeue (should remove 28)\n",
    "    ]\n",
    "\n",
    "    results = process_queries(input_data)\n",
    "    for result in results:\n",
    "        print(result)  # Output results for print operations"
   ]
  },
  {
   "cell_type": "code",
   "execution_count": 3,
   "metadata": {},
   "outputs": [
    {
     "name": "stdout",
     "output_type": "stream",
     "text": [
      "Enter your queries (format: '1 x', '2', or '3'):\n"
     ]
    }
   ],
   "source": [
    "# Input section\n",
    "n = int(input(\"Enter number of queries: \"))  # Read number of queries\n",
    "queries = []\n",
    "\n",
    "print(\"Enter your queries (format: '1 x', '2', or '3'):\")\n",
    "for _ in range(n):\n",
    "    query = list(map(int, input().strip().split()))  # Read each query\n",
    "    queries.append(query)"
   ]
  },
  {
   "cell_type": "markdown",
   "metadata": {},
   "source": [
    "This input code is meant for HackerRank website, as each test is run with the stdin, so the input data is accepted and formatted this way"
   ]
  },
  {
   "cell_type": "markdown",
   "metadata": {},
   "source": [
    "### Balanced Brackets\n",
    "Given  strings of brackets, determine whether each sequence of brackets is balanced. If a string is balanced, return YES. Otherwise, return NO."
   ]
  },
  {
   "cell_type": "code",
   "execution_count": 31,
   "metadata": {},
   "outputs": [],
   "source": [
    "#Input sample\n",
    "s1 = '{[()]}'  # Return 'YES'\n",
    "s2 = '{[(])}' # Return 'NO'\n",
    "s3 ='{{[[(())]]}}' # Return 'YES'"
   ]
  },
  {
   "cell_type": "code",
   "execution_count": null,
   "metadata": {},
   "outputs": [],
   "source": []
  },
  {
   "cell_type": "code",
   "execution_count": null,
   "metadata": {},
   "outputs": [],
   "source": []
  },
  {
   "cell_type": "code",
   "execution_count": null,
   "metadata": {},
   "outputs": [],
   "source": []
  },
  {
   "cell_type": "markdown",
   "metadata": {},
   "source": []
  }
 ],
 "metadata": {
  "kernelspec": {
   "display_name": "Python 3",
   "language": "python",
   "name": "python3"
  },
  "language_info": {
   "codemirror_mode": {
    "name": "ipython",
    "version": 3
   },
   "file_extension": ".py",
   "mimetype": "text/x-python",
   "name": "python",
   "nbconvert_exporter": "python",
   "pygments_lexer": "ipython3",
   "version": "3.13.0"
  }
 },
 "nbformat": 4,
 "nbformat_minor": 2
}
