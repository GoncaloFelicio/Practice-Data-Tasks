{
 "cells": [
  {
   "cell_type": "markdown",
   "metadata": {},
   "source": [
    "Challenges from HackerRank website"
   ]
  },
  {
   "cell_type": "markdown",
   "metadata": {},
   "source": [
    "### Lonely Integer\n",
    "Given an array of integers, where all elements but one occur twice, find the unique element"
   ]
  },
  {
   "cell_type": "code",
   "execution_count": 14,
   "metadata": {},
   "outputs": [
    {
     "data": {
      "text/plain": [
       "4"
      ]
     },
     "execution_count": 14,
     "metadata": {},
     "output_type": "execute_result"
    }
   ],
   "source": [
    "a = [1,2,3,4,1,2,3]\n",
    "\n",
    "def lonelyinteger(a):\n",
    "    xor_zero = 0\n",
    "    for num in a:\n",
    "        xor_zero ^= num\n",
    "    return xor_zero\n",
    "\n",
    "lonelyinteger(a)"
   ]
  },
  {
   "cell_type": "markdown",
   "metadata": {},
   "source": [
    "Using the XOR operation to null the duplicates and keep the only unique value  \n",
    "This only works if all the elements have a single duplicate and only one element is unique"
   ]
  },
  {
   "cell_type": "code",
   "execution_count": 38,
   "metadata": {},
   "outputs": [
    {
     "data": {
      "text/plain": [
       "4"
      ]
     },
     "execution_count": 38,
     "metadata": {},
     "output_type": "execute_result"
    }
   ],
   "source": [
    "def lonelyinteger2(a):\n",
    "    unique_set = set()\n",
    "    for num in a:\n",
    "        if num in unique_set:\n",
    "            unique_set.remove(num)\n",
    "        else:\n",
    "            unique_set.add(num)\n",
    "    return unique_set.pop()\n",
    "\n",
    "lonelyinteger2(a)"
   ]
  },
  {
   "cell_type": "markdown",
   "metadata": {},
   "source": [
    "For this case, can use a set or a list. Advantage of set is that it guarantees uniqueness of vallues inside, also membership testing, insertion and deletion are much more performant with set type"
   ]
  },
  {
   "cell_type": "markdown",
   "metadata": {},
   "source": [
    "### Diagonal Difference\n",
    "Given a square matrix, calculate the absolute difference between the sums of its diagonals."
   ]
  },
  {
   "cell_type": "code",
   "execution_count": 73,
   "metadata": {},
   "outputs": [
    {
     "data": {
      "text/plain": [
       "[[1, 2, 3], [4, 5, 6], [9, 8, 9]]"
      ]
     },
     "execution_count": 73,
     "metadata": {},
     "output_type": "execute_result"
    }
   ],
   "source": [
    "#input\n",
    "arr = [[1, 2, 3],\n",
    "       [4,5,6],\n",
    "       [9,8,9]]\n",
    "arr"
   ]
  },
  {
   "cell_type": "code",
   "execution_count": 74,
   "metadata": {},
   "outputs": [
    {
     "name": "stdout",
     "output_type": "stream",
     "text": [
      "0 [1, 2, 3]\n",
      "1\n",
      "2 [1, 2, 3]\n",
      "3\n",
      "1 [4, 5, 6]\n",
      "6\n",
      "1 [4, 5, 6]\n",
      "8\n",
      "2 [9, 8, 9]\n",
      "15\n",
      "0 [9, 8, 9]\n",
      "17\n"
     ]
    },
    {
     "data": {
      "text/plain": [
       "2"
      ]
     },
     "execution_count": 74,
     "metadata": {},
     "output_type": "execute_result"
    }
   ],
   "source": [
    "n=len(arr)\n",
    "left_sum = 0\n",
    "right_sum = 0\n",
    "\n",
    "for idx, row in enumerate(arr):\n",
    "    print(idx, row)\n",
    "    left_sum += row[idx]\n",
    "    print(left_sum)\n",
    "    print(n-1-idx, row)\n",
    "    right_sum += row[n-1-idx]\n",
    "    print(right_sum)\n",
    "\n",
    "abs(left_sum-right_sum)\n",
    "\n"
   ]
  },
  {
   "cell_type": "code",
   "execution_count": 79,
   "metadata": {},
   "outputs": [
    {
     "data": {
      "text/plain": [
       "2"
      ]
     },
     "execution_count": 79,
     "metadata": {},
     "output_type": "execute_result"
    }
   ],
   "source": [
    "# another solution, cleaner\n",
    "n = len(arr)\n",
    "left_sum = 0\n",
    "right_sum = 0\n",
    "\n",
    "for i in range(n):\n",
    "    left_sum += arr[i][i]\n",
    "    right_sum += arr[i][n-1-i]\n",
    "\n",
    "abs(left_sum - right_sum)"
   ]
  },
  {
   "cell_type": "markdown",
   "metadata": {},
   "source": [
    "### Comparison Sorting\n",
    "Given a list of integers, count and return the number of times each value appears as an array of integers."
   ]
  },
  {
   "cell_type": "code",
   "execution_count": 84,
   "metadata": {},
   "outputs": [
    {
     "data": {
      "text/plain": [
       "[63,\n",
       " 25,\n",
       " 73,\n",
       " 1,\n",
       " 98,\n",
       " 73,\n",
       " 56,\n",
       " 84,\n",
       " 86,\n",
       " 57,\n",
       " 16,\n",
       " 83,\n",
       " 8,\n",
       " 25,\n",
       " 81,\n",
       " 56,\n",
       " 9,\n",
       " 53,\n",
       " 98,\n",
       " 67,\n",
       " 99,\n",
       " 12,\n",
       " 83,\n",
       " 89,\n",
       " 80,\n",
       " 91,\n",
       " 39,\n",
       " 86,\n",
       " 76,\n",
       " 85,\n",
       " 74,\n",
       " 39,\n",
       " 25,\n",
       " 90,\n",
       " 59,\n",
       " 10,\n",
       " 94,\n",
       " 32,\n",
       " 44,\n",
       " 3,\n",
       " 89,\n",
       " 30,\n",
       " 27,\n",
       " 79,\n",
       " 46,\n",
       " 96,\n",
       " 27,\n",
       " 32,\n",
       " 18,\n",
       " 21,\n",
       " 92,\n",
       " 69,\n",
       " 81,\n",
       " 40,\n",
       " 40,\n",
       " 34,\n",
       " 68,\n",
       " 78,\n",
       " 24,\n",
       " 87,\n",
       " 42,\n",
       " 69,\n",
       " 23,\n",
       " 41,\n",
       " 78,\n",
       " 22,\n",
       " 6,\n",
       " 90,\n",
       " 99,\n",
       " 89,\n",
       " 50,\n",
       " 30,\n",
       " 20,\n",
       " 1,\n",
       " 43,\n",
       " 3,\n",
       " 70,\n",
       " 95,\n",
       " 33,\n",
       " 46,\n",
       " 44,\n",
       " 9,\n",
       " 69,\n",
       " 48,\n",
       " 33,\n",
       " 60,\n",
       " 65,\n",
       " 16,\n",
       " 82,\n",
       " 67,\n",
       " 61,\n",
       " 32,\n",
       " 21,\n",
       " 79,\n",
       " 75,\n",
       " 75,\n",
       " 13,\n",
       " 87,\n",
       " 70,\n",
       " 33]"
      ]
     },
     "execution_count": 84,
     "metadata": {},
     "output_type": "execute_result"
    }
   ],
   "source": [
    "# input\n",
    "n = 100\n",
    "int_str = \"63 25 73 1 98 73 56 84 86 57 16 83 8 25 81 56 9 53 98 67 99 12 83 89 80 91 39 86 76 85 74 39 25 90 59 10 94 32 44 3 89 30 27 79 46 96 27 32 18 21 92 69 81 40 40 34 68 78 24 87 42 69 23 41 78 22 6 90 99 89 50 30 20 1 43 3 70 95 33 46 44 9 69 48 33 60 65 16 82 67 61 32 21 79 75 75 13 87 70 33\" \n",
    "int_list = list(map(int, int_str.split()))\n",
    "int_list"
   ]
  },
  {
   "cell_type": "code",
   "execution_count": 101,
   "metadata": {},
   "outputs": [
    {
     "data": {
      "text/plain": [
       "100"
      ]
     },
     "execution_count": 101,
     "metadata": {},
     "output_type": "execute_result"
    }
   ],
   "source": [
    "zeros_list = [0] * 100\n",
    "len(zeros_list)"
   ]
  },
  {
   "cell_type": "code",
   "execution_count": 102,
   "metadata": {},
   "outputs": [
    {
     "data": {
      "text/plain": [
       "[0,\n",
       " 2,\n",
       " 0,\n",
       " 2,\n",
       " 0,\n",
       " 0,\n",
       " 1,\n",
       " 0,\n",
       " 1,\n",
       " 2,\n",
       " 1,\n",
       " 0,\n",
       " 1,\n",
       " 1,\n",
       " 0,\n",
       " 0,\n",
       " 2,\n",
       " 0,\n",
       " 1,\n",
       " 0,\n",
       " 1,\n",
       " 2,\n",
       " 1,\n",
       " 1,\n",
       " 1,\n",
       " 3,\n",
       " 0,\n",
       " 2,\n",
       " 0,\n",
       " 0,\n",
       " 2,\n",
       " 0,\n",
       " 3,\n",
       " 3,\n",
       " 1,\n",
       " 0,\n",
       " 0,\n",
       " 0,\n",
       " 0,\n",
       " 2,\n",
       " 2,\n",
       " 1,\n",
       " 1,\n",
       " 1,\n",
       " 2,\n",
       " 0,\n",
       " 2,\n",
       " 0,\n",
       " 1,\n",
       " 0,\n",
       " 1,\n",
       " 0,\n",
       " 0,\n",
       " 1,\n",
       " 0,\n",
       " 0,\n",
       " 2,\n",
       " 1,\n",
       " 0,\n",
       " 1,\n",
       " 1,\n",
       " 1,\n",
       " 0,\n",
       " 1,\n",
       " 0,\n",
       " 1,\n",
       " 0,\n",
       " 2,\n",
       " 1,\n",
       " 3,\n",
       " 2,\n",
       " 0,\n",
       " 0,\n",
       " 2,\n",
       " 1,\n",
       " 2,\n",
       " 1,\n",
       " 0,\n",
       " 2,\n",
       " 2,\n",
       " 1,\n",
       " 2,\n",
       " 1,\n",
       " 2,\n",
       " 1,\n",
       " 1,\n",
       " 2,\n",
       " 2,\n",
       " 0,\n",
       " 3,\n",
       " 2,\n",
       " 1,\n",
       " 1,\n",
       " 0,\n",
       " 1,\n",
       " 1,\n",
       " 1,\n",
       " 0,\n",
       " 2,\n",
       " 2]"
      ]
     },
     "execution_count": 102,
     "metadata": {},
     "output_type": "execute_result"
    }
   ],
   "source": [
    "for num in int_list:\n",
    "    zeros_list[num] += 1\n",
    "zeros_list"
   ]
  },
  {
   "cell_type": "code",
   "execution_count": 103,
   "metadata": {},
   "outputs": [],
   "source": [
    "class SinglyLinkedListNode:\n",
    "    def __init__(self, data):\n",
    "        self.data = data\n",
    "        self.next = None\n",
    "\n",
    "dummy = SinglyLinkedListNode(0)"
   ]
  },
  {
   "cell_type": "code",
   "execution_count": 108,
   "metadata": {},
   "outputs": [],
   "source": [
    "dummy.next"
   ]
  },
  {
   "cell_type": "code",
   "execution_count": null,
   "metadata": {},
   "outputs": [],
   "source": []
  }
 ],
 "metadata": {
  "kernelspec": {
   "display_name": "Python 3",
   "language": "python",
   "name": "python3"
  },
  "language_info": {
   "codemirror_mode": {
    "name": "ipython",
    "version": 3
   },
   "file_extension": ".py",
   "mimetype": "text/x-python",
   "name": "python",
   "nbconvert_exporter": "python",
   "pygments_lexer": "ipython3",
   "version": "3.13.0"
  }
 },
 "nbformat": 4,
 "nbformat_minor": 2
}
