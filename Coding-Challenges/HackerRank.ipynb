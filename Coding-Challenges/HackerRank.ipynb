{
 "cells": [
  {
   "cell_type": "markdown",
   "metadata": {},
   "source": [
    "Challenges from HackerRank website"
   ]
  },
  {
   "cell_type": "markdown",
   "metadata": {},
   "source": [
    "### Lonely Integer\n",
    "Given an array of integers, where all elements but one occur twice, find the unique element"
   ]
  },
  {
   "cell_type": "code",
   "execution_count": 14,
   "metadata": {},
   "outputs": [
    {
     "data": {
      "text/plain": [
       "4"
      ]
     },
     "execution_count": 14,
     "metadata": {},
     "output_type": "execute_result"
    }
   ],
   "source": [
    "a = [1,2,3,4,1,2,3]\n",
    "\n",
    "def lonelyinteger(a):\n",
    "    xor_zero = 0\n",
    "    for num in a:\n",
    "        xor_zero ^= num\n",
    "    return xor_zero\n",
    "\n",
    "lonelyinteger(a)"
   ]
  },
  {
   "cell_type": "markdown",
   "metadata": {},
   "source": [
    "Using the XOR operation to null the duplicates and keep the only unique value  \n",
    "This only works if all the elements have a single duplicate and only one element is unique"
   ]
  },
  {
   "cell_type": "code",
   "execution_count": 38,
   "metadata": {},
   "outputs": [
    {
     "data": {
      "text/plain": [
       "4"
      ]
     },
     "execution_count": 38,
     "metadata": {},
     "output_type": "execute_result"
    }
   ],
   "source": [
    "def lonelyinteger2(a):\n",
    "    unique_set = set()\n",
    "    for num in a:\n",
    "        if num in unique_set:\n",
    "            unique_set.remove(num)\n",
    "        else:\n",
    "            unique_set.add(num)\n",
    "    return unique_set.pop()\n",
    "\n",
    "lonelyinteger2(a)"
   ]
  },
  {
   "cell_type": "markdown",
   "metadata": {},
   "source": [
    "For this case, can use a set or a list. Advantage of set is that it guarantees uniqueness of vallues inside, also membership testing, insertion and deletion are much more performant with set type"
   ]
  },
  {
   "cell_type": "markdown",
   "metadata": {},
   "source": [
    "### Diagonal Difference\n",
    "Given a square matrix, calculate the absolute difference between the sums of its diagonals."
   ]
  },
  {
   "cell_type": "code",
   "execution_count": 73,
   "metadata": {},
   "outputs": [
    {
     "data": {
      "text/plain": [
       "[[1, 2, 3], [4, 5, 6], [9, 8, 9]]"
      ]
     },
     "execution_count": 73,
     "metadata": {},
     "output_type": "execute_result"
    }
   ],
   "source": [
    "#input\n",
    "arr = [[1, 2, 3],\n",
    "       [4,5,6],\n",
    "       [9,8,9]]\n",
    "arr"
   ]
  },
  {
   "cell_type": "code",
   "execution_count": 74,
   "metadata": {},
   "outputs": [
    {
     "name": "stdout",
     "output_type": "stream",
     "text": [
      "0 [1, 2, 3]\n",
      "1\n",
      "2 [1, 2, 3]\n",
      "3\n",
      "1 [4, 5, 6]\n",
      "6\n",
      "1 [4, 5, 6]\n",
      "8\n",
      "2 [9, 8, 9]\n",
      "15\n",
      "0 [9, 8, 9]\n",
      "17\n"
     ]
    },
    {
     "data": {
      "text/plain": [
       "2"
      ]
     },
     "execution_count": 74,
     "metadata": {},
     "output_type": "execute_result"
    }
   ],
   "source": [
    "n=len(arr)\n",
    "left_sum = 0\n",
    "right_sum = 0\n",
    "\n",
    "for idx, row in enumerate(arr):\n",
    "    print(idx, row)\n",
    "    left_sum += row[idx]\n",
    "    print(left_sum)\n",
    "    print(n-1-idx, row)\n",
    "    right_sum += row[n-1-idx]\n",
    "    print(right_sum)\n",
    "\n",
    "abs(left_sum-right_sum)\n",
    "\n"
   ]
  },
  {
   "cell_type": "code",
   "execution_count": 79,
   "metadata": {},
   "outputs": [
    {
     "data": {
      "text/plain": [
       "2"
      ]
     },
     "execution_count": 79,
     "metadata": {},
     "output_type": "execute_result"
    }
   ],
   "source": [
    "# another solution, cleaner\n",
    "n = len(arr)\n",
    "left_sum = 0\n",
    "right_sum = 0\n",
    "\n",
    "for i in range(n):\n",
    "    left_sum += arr[i][i]\n",
    "    right_sum += arr[i][n-1-i]\n",
    "\n",
    "abs(left_sum - right_sum)"
   ]
  },
  {
   "cell_type": "markdown",
   "metadata": {},
   "source": [
    "### Comparison Sorting\n",
    "Given a list of integers, count and return the number of times each value appears as an array of integers."
   ]
  },
  {
   "cell_type": "code",
   "execution_count": 84,
   "metadata": {},
   "outputs": [
    {
     "data": {
      "text/plain": [
       "[63,\n",
       " 25,\n",
       " 73,\n",
       " 1,\n",
       " 98,\n",
       " 73,\n",
       " 56,\n",
       " 84,\n",
       " 86,\n",
       " 57,\n",
       " 16,\n",
       " 83,\n",
       " 8,\n",
       " 25,\n",
       " 81,\n",
       " 56,\n",
       " 9,\n",
       " 53,\n",
       " 98,\n",
       " 67,\n",
       " 99,\n",
       " 12,\n",
       " 83,\n",
       " 89,\n",
       " 80,\n",
       " 91,\n",
       " 39,\n",
       " 86,\n",
       " 76,\n",
       " 85,\n",
       " 74,\n",
       " 39,\n",
       " 25,\n",
       " 90,\n",
       " 59,\n",
       " 10,\n",
       " 94,\n",
       " 32,\n",
       " 44,\n",
       " 3,\n",
       " 89,\n",
       " 30,\n",
       " 27,\n",
       " 79,\n",
       " 46,\n",
       " 96,\n",
       " 27,\n",
       " 32,\n",
       " 18,\n",
       " 21,\n",
       " 92,\n",
       " 69,\n",
       " 81,\n",
       " 40,\n",
       " 40,\n",
       " 34,\n",
       " 68,\n",
       " 78,\n",
       " 24,\n",
       " 87,\n",
       " 42,\n",
       " 69,\n",
       " 23,\n",
       " 41,\n",
       " 78,\n",
       " 22,\n",
       " 6,\n",
       " 90,\n",
       " 99,\n",
       " 89,\n",
       " 50,\n",
       " 30,\n",
       " 20,\n",
       " 1,\n",
       " 43,\n",
       " 3,\n",
       " 70,\n",
       " 95,\n",
       " 33,\n",
       " 46,\n",
       " 44,\n",
       " 9,\n",
       " 69,\n",
       " 48,\n",
       " 33,\n",
       " 60,\n",
       " 65,\n",
       " 16,\n",
       " 82,\n",
       " 67,\n",
       " 61,\n",
       " 32,\n",
       " 21,\n",
       " 79,\n",
       " 75,\n",
       " 75,\n",
       " 13,\n",
       " 87,\n",
       " 70,\n",
       " 33]"
      ]
     },
     "execution_count": 84,
     "metadata": {},
     "output_type": "execute_result"
    }
   ],
   "source": [
    "# input\n",
    "n = 100\n",
    "int_str = \"63 25 73 1 98 73 56 84 86 57 16 83 8 25 81 56 9 53 98 67 99 12 83 89 80 91 39 86 76 85 74 39 25 90 59 10 94 32 44 3 89 30 27 79 46 96 27 32 18 21 92 69 81 40 40 34 68 78 24 87 42 69 23 41 78 22 6 90 99 89 50 30 20 1 43 3 70 95 33 46 44 9 69 48 33 60 65 16 82 67 61 32 21 79 75 75 13 87 70 33\" \n",
    "int_list = list(map(int, int_str.split()))\n",
    "int_list"
   ]
  },
  {
   "cell_type": "code",
   "execution_count": 101,
   "metadata": {},
   "outputs": [
    {
     "data": {
      "text/plain": [
       "100"
      ]
     },
     "execution_count": 101,
     "metadata": {},
     "output_type": "execute_result"
    }
   ],
   "source": [
    "zeros_list = [0] * 100\n",
    "len(zeros_list)"
   ]
  },
  {
   "cell_type": "code",
   "execution_count": 102,
   "metadata": {},
   "outputs": [
    {
     "data": {
      "text/plain": [
       "[0,\n",
       " 2,\n",
       " 0,\n",
       " 2,\n",
       " 0,\n",
       " 0,\n",
       " 1,\n",
       " 0,\n",
       " 1,\n",
       " 2,\n",
       " 1,\n",
       " 0,\n",
       " 1,\n",
       " 1,\n",
       " 0,\n",
       " 0,\n",
       " 2,\n",
       " 0,\n",
       " 1,\n",
       " 0,\n",
       " 1,\n",
       " 2,\n",
       " 1,\n",
       " 1,\n",
       " 1,\n",
       " 3,\n",
       " 0,\n",
       " 2,\n",
       " 0,\n",
       " 0,\n",
       " 2,\n",
       " 0,\n",
       " 3,\n",
       " 3,\n",
       " 1,\n",
       " 0,\n",
       " 0,\n",
       " 0,\n",
       " 0,\n",
       " 2,\n",
       " 2,\n",
       " 1,\n",
       " 1,\n",
       " 1,\n",
       " 2,\n",
       " 0,\n",
       " 2,\n",
       " 0,\n",
       " 1,\n",
       " 0,\n",
       " 1,\n",
       " 0,\n",
       " 0,\n",
       " 1,\n",
       " 0,\n",
       " 0,\n",
       " 2,\n",
       " 1,\n",
       " 0,\n",
       " 1,\n",
       " 1,\n",
       " 1,\n",
       " 0,\n",
       " 1,\n",
       " 0,\n",
       " 1,\n",
       " 0,\n",
       " 2,\n",
       " 1,\n",
       " 3,\n",
       " 2,\n",
       " 0,\n",
       " 0,\n",
       " 2,\n",
       " 1,\n",
       " 2,\n",
       " 1,\n",
       " 0,\n",
       " 2,\n",
       " 2,\n",
       " 1,\n",
       " 2,\n",
       " 1,\n",
       " 2,\n",
       " 1,\n",
       " 1,\n",
       " 2,\n",
       " 2,\n",
       " 0,\n",
       " 3,\n",
       " 2,\n",
       " 1,\n",
       " 1,\n",
       " 0,\n",
       " 1,\n",
       " 1,\n",
       " 1,\n",
       " 0,\n",
       " 2,\n",
       " 2]"
      ]
     },
     "execution_count": 102,
     "metadata": {},
     "output_type": "execute_result"
    }
   ],
   "source": [
    "for num in int_list:\n",
    "    zeros_list[num] += 1\n",
    "zeros_list"
   ]
  },
  {
   "cell_type": "markdown",
   "metadata": {},
   "source": [
    "### Merge two sorted linked lists\n",
    "Given pointers to the heads of two sorted linked lists, merge them into a single, sorted linked list. Either head pointer may be null meaning that the corresponding list is empty."
   ]
  },
  {
   "cell_type": "code",
   "execution_count": 152,
   "metadata": {},
   "outputs": [],
   "source": [
    "class SinglyLinkedListNode:\n",
    "    def __init__(self, data):\n",
    "        self.data = data\n",
    "        self.next = None\n",
    "\n",
    "dummy = SinglyLinkedListNode(0)"
   ]
  },
  {
   "cell_type": "code",
   "execution_count": 122,
   "metadata": {},
   "outputs": [],
   "source": [
    "def insert_node(head, data):\n",
    "    new_node = SinglyLinkedListNode(data)\n",
    "    if head is None:\n",
    "        return new_node\n",
    "    else:\n",
    "        current = head\n",
    "        while current.next:\n",
    "            current = current.next\n",
    "        current.next = new_node\n",
    "    return head"
   ]
  },
  {
   "cell_type": "code",
   "execution_count": 156,
   "metadata": {},
   "outputs": [],
   "source": [
    "# Create Linked List A: 1 -> 3 -> 7\n",
    "headA = None\n",
    "headA = insert_node(headA, 1)\n",
    "headA = insert_node(headA, 3)\n",
    "headA = insert_node(headA, 7)\n",
    "\n",
    "# Create Linked List B: 1 -> 2\n",
    "headB = None\n",
    "headB = insert_node(headB, 1)\n",
    "headB = insert_node(headB, 2)"
   ]
  },
  {
   "cell_type": "code",
   "execution_count": 160,
   "metadata": {},
   "outputs": [
    {
     "name": "stdout",
     "output_type": "stream",
     "text": [
      "Input List:\n",
      "1 -> 3 -> 7 -> NULL\n"
     ]
    }
   ],
   "source": [
    "merged_head = headA\n",
    "print(\"Input List:\")\n",
    "while merged_head is not None:\n",
    "    print(merged_head.data, end=\" -> \")\n",
    "    merged_head = merged_head.next\n",
    "print(\"NULL\")"
   ]
  },
  {
   "cell_type": "code",
   "execution_count": 163,
   "metadata": {},
   "outputs": [],
   "source": [
    "def mergeLists(head1, head2):\n",
    "    dummy = SinglyLinkedListNode(0)\n",
    "    current = dummy\n",
    "    \n",
    "    while head1 is not None and head2 is not None:\n",
    "        if head1.data < head2.data:\n",
    "            current.next = head1\n",
    "            print(f\"Adding {head1.data} from list 1\")\n",
    "            head1 = head1.next\n",
    "        else:\n",
    "            current.next = head2\n",
    "            print(f\"Adding {head2.data} from list 2\")\n",
    "            head2 = head2.next\n",
    "            \n",
    "        current = current.next # move to next node\n",
    "\n",
    "    if head1 is not None:\n",
    "        current.next = head1\n",
    "        print(f\"Appending remaining list 1 starting with {head1.data}\")\n",
    "    elif head2 is not None:\n",
    "        current.next = head2\n",
    "        print(f\"Appending remaining list 2 starting with {head2.data}\")\n",
    "\n",
    "    # Print the merged list starting from dummy's next node\n",
    "    merged_head = dummy.next\n",
    "    print(\"Merged List:\")\n",
    "    while merged_head is not None:\n",
    "        print(merged_head.data, end=\" -> \")\n",
    "        merged_head = merged_head.next\n",
    "    print(\"NULL\")\n",
    "    \n",
    "    return dummy.next"
   ]
  },
  {
   "cell_type": "code",
   "execution_count": 164,
   "metadata": {},
   "outputs": [
    {
     "name": "stdout",
     "output_type": "stream",
     "text": [
      "Adding 1 from list 2\n",
      "Adding 1 from list 1\n",
      "Adding 2 from list 2\n",
      "Appending remaining list 1 starting with 3\n",
      "Merged List:\n",
      "1 -> 1 -> 2 -> 3 -> 7 -> NULL\n"
     ]
    },
    {
     "data": {
      "text/plain": [
       "<__main__.SinglyLinkedListNode at 0x1111ab60d60>"
      ]
     },
     "execution_count": 164,
     "metadata": {},
     "output_type": "execute_result"
    }
   ],
   "source": [
    "mergeLists(headA, headB)"
   ]
  },
  {
   "cell_type": "markdown",
   "metadata": {},
   "source": [
    "### Queue using Two Stacks\n",
    "you must first implement a queue using two stacks. Then process  queries, where each query is one of the following  types:"
   ]
  },
  {
   "cell_type": "markdown",
   "metadata": {},
   "source": [
    "1 x: Enqueue element  into the end of the queue.  \n",
    "2: Dequeue the element at the front of the queue.  \n",
    "3: Print the element at the front of the queue.  \n",
    "\n",
    "STDIN   Function   \n",
    "-- --  \n",
    "10      q = 10 (number of queries)    \n",
    "1 42    1st query, enqueue 42    \n",
    "2       dequeue front element  \n",
    "1 14    enqueue 42  \n",
    "3       print the front element  \n",
    "1 28    enqueue 28  \n",
    "3       print the front element  \n",
    "1 60    enqueue 60  \n",
    "1 78    enqueue 78  \n",
    "2       dequeue front element  \n",
    "2       dequeue front element  \n",
    "-- -- \n",
    "Thought Process:  \n",
    "    Create a class that holds the queue elements and has functions for each query type, 1, 2 and 3\n",
    "    create 2 stacks in the class, stack one for enqueu elements, stack 2 for the dequeued elements.\n",
    "    Use list type for queues, very simple to manipulate elements."
   ]
  },
  {
   "cell_type": "code",
   "execution_count": 25,
   "metadata": {},
   "outputs": [],
   "source": [
    "class QueueTwoStacks:\n",
    "    def __init__(self):\n",
    "        self.stack1 = []\n",
    "        self.stack2 = []\n",
    "\n",
    "    def enqueue(self, data): # O(1)\n",
    "        print(f'Enqueue item: {data}')\n",
    "        self.stack1.append(data)\n",
    "        print(f'Queue1: {self.stack1}')\n",
    "        \n",
    "    # def dequeue(self): # O(n)\n",
    "    #     removed_item = self.stack1.pop(0) \n",
    "    #     print(f'Dequeue front element: {removed_item}')\n",
    "    #     print(f'Queue: {self.stack1}')\n",
    "    #     self.stack2.append(removed_item)\n",
    "\n",
    "    def dequeue(self): #O(1)\n",
    "        if not self.stack2: # Check stack 2 is empty\n",
    "            while self.stack1: # For all elements in stack1\n",
    "                self.stack2.append(self.stack1.pop()) # using pop() is O(1) complexity and reverses the order into stack2\n",
    "        if not self.stack2: # Check if stack 2 still empty, only occurs if stack1 was also empty, an error\n",
    "            raise IndexError(\"Can't dequeue and empty queue.\")\n",
    "        \n",
    "        dequeue_item = self.stack2.pop() # O(1)\n",
    "        print(f'Dequeue front element: {dequeue_item}')\n",
    "        print(f'Queue2: {self.stack2}')\n",
    "        return dequeue_item # Beacuse stack2 is the reverse of stack1, removes the 1st element in queue\n",
    "\n",
    "    def show_data(self):\n",
    "        # print(f'Printing value at head: {self.stack1[0]}')\n",
    "        # return self.stack1[0]\n",
    "        if not self.stack2: # Check stack 2 is empty\n",
    "            while self.stack1: # For all elements in stack1\n",
    "                self.stack2.append(self.stack1.pop()) # using pop() is O(1) complexity and reverses the order into stack2\n",
    "        if not self.stack2: # Check if stack 2 still empty, only occurs if stack1 was also empty, an error\n",
    "            raise IndexError(\"Can't dequeue and empty queue.\")\n",
    "        \n",
    "        print(f'Printing value at head: {self.stack2[-1]}') # Must handle stack2, as stack1 remains unchanged\n",
    "        return self.stack2[-1]"
   ]
  },
  {
   "cell_type": "markdown",
   "metadata": {},
   "source": [
    "In the commented out queue method, the first one created, stack 2 serves no use, and because of pop(0), the complexity is always O(n).  \n",
    "But, using just pop() complexity is O(1), because only last element is removed in this case, while first case, the element 0 is removed and all elements are moved one step left. Therefore using a solution with only pop() gives performance, and this requires 2 stacks indeed. The better performance is immediately clear running the tests, they finish much faster,"
   ]
  },
  {
   "cell_type": "code",
   "execution_count": 28,
   "metadata": {},
   "outputs": [],
   "source": [
    "def process_queries(queries):\n",
    "    queue = QueueTwoStacks()\n",
    "    results = []\n",
    "\n",
    "    print(f'Number of queries: {len(queries)}')\n",
    "    for query in queries:\n",
    "        if query[0] == 1:\n",
    "            queue.enqueue(query[1])\n",
    "        elif query[0] == 2:\n",
    "            queue.dequeue()\n",
    "        elif query[0] == 3:\n",
    "            front_item = queue.show_data()\n",
    "            results.append(front_item)\n",
    "            print(f'Current result: {results}')\n",
    "        else:\n",
    "            print('Query type: {query[0]} not appropriate. Use \"1\", \"2\" or \"3\".')\n",
    "    return results"
   ]
  },
  {
   "cell_type": "code",
   "execution_count": 29,
   "metadata": {},
   "outputs": [
    {
     "name": "stdout",
     "output_type": "stream",
     "text": [
      "Number of queries: 10\n",
      "Enqueue item: 76\n",
      "Queue1: [76]\n",
      "Enqueue item: 33\n",
      "Queue1: [76, 33]\n",
      "Dequeue front element: 76\n",
      "Queue2: [33]\n",
      "Enqueue item: 23\n",
      "Queue1: [23]\n",
      "Enqueue item: 97\n",
      "Queue1: [23, 97]\n",
      "Enqueue item: 21\n",
      "Queue1: [23, 97, 21]\n",
      "Printing value at head: 33\n",
      "Current result: [33]\n",
      "Printing value at head: 33\n",
      "Current result: [33, 33]\n",
      "Enqueue item: 74\n",
      "Queue1: [23, 97, 21, 74]\n",
      "Printing value at head: 33\n",
      "Current result: [33, 33, 33]\n",
      "33\n",
      "33\n",
      "33\n"
     ]
    }
   ],
   "source": [
    "# Test input\n",
    "if __name__ == \"__main__\":\n",
    "    input_data = [\n",
    "        [1, 76],   # Enqueue 42\n",
    "        [1, 33],       # Dequeue\n",
    "        [2],   # Enqueue 14\n",
    "        [1, 23],       # Print front element (should be 14)\n",
    "        [1, 97],   # Enqueue 28\n",
    "        [1,21],       # Print front element (should be 14)\n",
    "        [3],   # Enqueue 60\n",
    "        [3],   # Enqueue 78\n",
    "        [1, 74],       # Dequeue (should remove 14)\n",
    "        [3]        # Dequeue (should remove 28)\n",
    "    ]\n",
    "\n",
    "    results = process_queries(input_data)\n",
    "    for result in results:\n",
    "        print(result)  # Output results for print operations"
   ]
  },
  {
   "cell_type": "code",
   "execution_count": 3,
   "metadata": {},
   "outputs": [
    {
     "name": "stdout",
     "output_type": "stream",
     "text": [
      "Enter your queries (format: '1 x', '2', or '3'):\n"
     ]
    }
   ],
   "source": [
    "# Input section\n",
    "n = int(input(\"Enter number of queries: \"))  # Read number of queries\n",
    "queries = []\n",
    "\n",
    "print(\"Enter your queries (format: '1 x', '2', or '3'):\")\n",
    "for _ in range(n):\n",
    "    query = list(map(int, input().strip().split()))  # Read each query\n",
    "    queries.append(query)"
   ]
  },
  {
   "cell_type": "markdown",
   "metadata": {},
   "source": []
  },
  {
   "cell_type": "markdown",
   "metadata": {},
   "source": [
    "This input code is meant for HackerRank website, as each test is run with the stdin, so the input data is accepted and formatted this way"
   ]
  },
  {
   "cell_type": "markdown",
   "metadata": {},
   "source": [
    "### Balanced Brackets\n",
    "Given  strings of brackets, determine whether each sequence of brackets is balanced. If a string is balanced, return YES. Otherwise, return NO."
   ]
  },
  {
   "cell_type": "code",
   "execution_count": 86,
   "metadata": {},
   "outputs": [],
   "source": [
    "#Input sample\n",
    "s1 = '{[()]}'  # Return 'YES'\n",
    "s2 = '{[(])}' # Return 'NO'\n",
    "s3 ='{{[[(())]]}}' # Return 'YES'"
   ]
  },
  {
   "cell_type": "code",
   "execution_count": 87,
   "metadata": {},
   "outputs": [],
   "source": [
    "def isBalanced(s):\n",
    "    matches = []\n",
    "    n = len(s)\n",
    "    r = n // 2\n",
    "\n",
    "    for i in range(r):\n",
    "        match_b = s[i] + s[n-1-i]\n",
    "        matches.append(match_b)\n",
    "\n",
    "    for match in matches:\n",
    "        if match not in ['{}', '[]', '()']:\n",
    "            return 'NO'\n",
    "    \n",
    "    return 'YES'"
   ]
  },
  {
   "cell_type": "code",
   "execution_count": 84,
   "metadata": {},
   "outputs": [
    {
     "name": "stdout",
     "output_type": "stream",
     "text": [
      "3\n",
      "{[()]}\n",
      "YES\n",
      "{[(])}\n",
      "NO\n",
      "{{[[(())]]}}\n",
      "YES\n"
     ]
    }
   ],
   "source": [
    "# Test Input\n",
    "if __name__ == '__main__':\n",
    "\n",
    "    input_data = [\n",
    "        '{[()]}',\n",
    "        '{[(])}',\n",
    "        '{{[[(())]]}}'\n",
    "    ]\n",
    "\n",
    "    t = int(input().strip())\n",
    "    print(t)\n",
    "\n",
    "    for i in range(t):\n",
    "        print(input_data[i])\n",
    "        result = isBalanced(input_data[i])\n",
    "        print(result)\n"
   ]
  },
  {
   "cell_type": "markdown",
   "metadata": {},
   "source": [
    "This works only for strings that are mirrored! But brackets can be balanced and not mirrored.  \n",
    "Example: {(([])[])[]}"
   ]
  },
  {
   "cell_type": "code",
   "execution_count": 89,
   "metadata": {},
   "outputs": [
    {
     "data": {
      "text/plain": [
       "'NO'"
      ]
     },
     "execution_count": 89,
     "metadata": {},
     "output_type": "execute_result"
    }
   ],
   "source": [
    "s4 = '{(([])[])[]}' # Balanced but not a mirror, should return 'YES'\n",
    "isBalanced(s4)"
   ]
  },
  {
   "cell_type": "markdown",
   "metadata": {},
   "source": [
    "Another approach that works correctly is to keep a bracket pairs reference and a stack with the opening brackets in order of appearance. if a closing bracket is read, compare with the most recent bracket in the stack. it must match the bracket pairs reference. then remove this bracket from the stack, the second most recent opening bracket is now the one read. '{(([])[])[]}' This is using the logic that when closing brackets appear, it must have the respective opening bracket appear right before it, and then removing from the stack, allows for the next bracket match."
   ]
  },
  {
   "cell_type": "code",
   "execution_count": 91,
   "metadata": {},
   "outputs": [],
   "source": [
    "def isBalanced(s):\n",
    "    bracket_pairs = {']': '[', '}': '{', ')': '('}\n",
    "    stack = []\n",
    "    for char in s:\n",
    "        if char in bracket_pairs.values(): # if its an opening bracket\n",
    "            stack.append(char)\n",
    "        elif char in bracket_pairs.keys(): # if its a closing bracket\n",
    "            if not stack or bracket_pairs[char] != stack[-1]: # checks if there is a matching opening bracket\n",
    "                return 'NO'\n",
    "            stack.pop()\n",
    "    return 'YES' if not stack else 'NO' # checks if all opened brackets were closed"
   ]
  },
  {
   "cell_type": "code",
   "execution_count": 95,
   "metadata": {},
   "outputs": [
    {
     "data": {
      "text/plain": [
       "'YES'"
      ]
     },
     "execution_count": 95,
     "metadata": {},
     "output_type": "execute_result"
    }
   ],
   "source": [
    "isBalanced(s4)"
   ]
  },
  {
   "cell_type": "markdown",
   "metadata": {},
   "source": [
    "### Text Editor\n",
    "Implement a simple text editor. The editor initially contains an empty string, . Perform  operations of the following  types"
   ]
  },
  {
   "cell_type": "markdown",
   "metadata": {},
   "source": [
    "S is initially empty  \n",
    "1 abc - Append string abc to the end of string S  \n",
    "2 3 - Delete the 3 character of string S  \n",
    "3 4 - Print the 4 character of string S  \n",
    "4 undo - Undo the last (not previously undone) operation of type 1 or 2, reverting  to the state it was in prior to that operation   "
   ]
  },
  {
   "cell_type": "code",
   "execution_count": 3,
   "metadata": {},
   "outputs": [
    {
     "name": "stdout",
     "output_type": "stream",
     "text": [
      "Enter your queries (format: '1 abc', '2 3', '3 4' or '4'):\n"
     ]
    }
   ],
   "source": [
    "# Input section\n",
    "n = int(input(\"Enter number of queries: \"))  # Read number of queries\n",
    "queries = []\n",
    "\n",
    "print(\"Enter your queries (format: '1 abc', '2 3', '3 4' or '4'):\")\n",
    "for _ in range(n):\n",
    "    query = list(input().strip().split())  # Read each query into a list of lists with type string\n",
    "    processed_query = [int(item) if item.isdigit() else item for item in query]\n",
    "    queries.append(processed_query)"
   ]
  },
  {
   "cell_type": "code",
   "execution_count": 1,
   "metadata": {},
   "outputs": [
    {
     "ename": "NameError",
     "evalue": "name 'queries' is not defined",
     "output_type": "error",
     "traceback": [
      "\u001b[1;31m---------------------------------------------------------------------------\u001b[0m",
      "\u001b[1;31mNameError\u001b[0m                                 Traceback (most recent call last)",
      "Cell \u001b[1;32mIn[1], line 1\u001b[0m\n\u001b[1;32m----> 1\u001b[0m \u001b[43mqueries\u001b[49m\n",
      "\u001b[1;31mNameError\u001b[0m: name 'queries' is not defined"
     ]
    }
   ],
   "source": [
    "queries"
   ]
  },
  {
   "cell_type": "code",
   "execution_count": 27,
   "metadata": {},
   "outputs": [],
   "source": [
    "# test Input\n",
    "S = 'abcde' # initial string\n",
    "# queries\n",
    "input_data = [\n",
    "    [1, 'fg'],\n",
    "    [3, 6],\n",
    "    [2, 5],\n",
    "    [4],\n",
    "    [3, 7],\n",
    "    [4],\n",
    "    [3, 4]\n",
    "]\n",
    "# Expected Output:\n",
    "# f\n",
    "# g\n",
    "# d"
   ]
  },
  {
   "cell_type": "markdown",
   "metadata": {},
   "source": [
    "Thought process: Create a class TextEditor that holds functions for each operation type, the append, delete, print, undo. A stack that holds the operations performed and last version of S, to be able to undo them, the variable S that is modified. A function to process the queries by type, calling the respective class methods on the variable S. A results variable to store the prints and output at the end. "
   ]
  },
  {
   "cell_type": "code",
   "execution_count": 30,
   "metadata": {},
   "outputs": [],
   "source": [
    "class TextEditor():\n",
    "    def __init__(self, S: str=None):\n",
    "        if not S:\n",
    "            self.S = [] # Initialize S as empty list\n",
    "        else:\n",
    "            self.S = list(S)\n",
    "        self.previou_states = [] # Initialize previous states list as empty\n",
    "\n",
    "    def append(self, W: str) -> None:\n",
    "        # Append string W to the end of S\n",
    "        self.previou_states.append(''.join(self.S))\n",
    "        self.S.extend(W) # adds each character in W to the list\n",
    "\n",
    "    def delete(self, k: int) -> None:\n",
    "        # Delete the last k characters of S\n",
    "        self.previou_states.append(''.join(self.S))\n",
    "        self.S = self.S[:-k] \n",
    "\n",
    "    def print_char(self, k: int) -> str:\n",
    "        # Print character K to results\n",
    "        return self.S[k - 1]\n",
    "    \n",
    "    def undo(self):\n",
    "        if self.previou_states:\n",
    "            # Undo the last operation of type 1 or 2\n",
    "            last_state = self.previou_states.pop()\n",
    "            self.S = list(last_state)"
   ]
  },
  {
   "cell_type": "code",
   "execution_count": 23,
   "metadata": {},
   "outputs": [],
   "source": [
    "def process_queries(queries, S=None):\n",
    "    editor = TextEditor(S)\n",
    "    results = []\n",
    "\n",
    "    for query in queries:\n",
    "        if query[0] == 1:\n",
    "            editor.append(query[1])\n",
    "        elif query[0] == 2:\n",
    "            editor.delete(query[1])\n",
    "        elif query[0] == 3:\n",
    "            res = editor.print_char(query[1])\n",
    "            results.append(res)\n",
    "        elif query[0] == 4:\n",
    "            editor.undo()\n",
    "        else:\n",
    "            raise ValueError('Query type not supported.')\n",
    "    \n",
    "    return results"
   ]
  },
  {
   "cell_type": "code",
   "execution_count": 29,
   "metadata": {},
   "outputs": [
    {
     "name": "stdout",
     "output_type": "stream",
     "text": [
      "f\n",
      "g\n",
      "d\n"
     ]
    }
   ],
   "source": [
    "if __name__ == \"__main__\":\n",
    "    # test Input\n",
    "    S = 'abcde' # initial string\n",
    "    # queries\n",
    "    input_data = [\n",
    "        [1, 'fg'],\n",
    "        [3, 6],\n",
    "        [2, 5],\n",
    "        [4],\n",
    "        [3, 7],\n",
    "        [4],\n",
    "        [3, 4]\n",
    "    ]\n",
    "    \n",
    "    results = process_queries(input_data, S)\n",
    "    for result in results:\n",
    "        print(result)  # Output results for print operations"
   ]
  },
  {
   "cell_type": "markdown",
   "metadata": {},
   "source": [
    "Worked perfectly and passed all tests, not bad if I say so myself.  \n",
    "Checking improvements. The best one in terms of performance is to change the initial use of the string type for S to a list type, as strings are immutable, it creates one every time a modification is made. Lists are better for performance with deleting and appending. Then when i need the string i can just join all the list elements.  \n",
    "Modifications for this already present. Can also add Error handling, like index k out of bounds and things like that to improve robustness"
   ]
  },
  {
   "cell_type": "markdown",
   "metadata": {},
   "source": [
    "### Lego Blocks\n",
    "You have an infinite number of 4 types of lego blocks of sizes given as (1 x 1 x [1:4]):\n",
    "Using these blocks, you want to make a wall of height  and width n x m. "
   ]
  },
  {
   "cell_type": "markdown",
   "metadata": {},
   "source": [
    "Features of the wall are:\n",
    "\n",
    "- The wall should not have any holes in it.\n",
    "- The wall you build should be one solid structure, so there should not be a straight vertical break across all rows of bricks.\n",
    "- The bricks must be laid horizontally.\n",
    "\n",
    "How many ways can the wall be built?\n",
    "\n",
    "STDIN   Function\n",
    "-----   --------\n",
    "4       t = 4\n",
    "2 2     n = 2, m = 2    3\n",
    "3 2     n = 3, m = 2    7\n",
    "2 3     n = 2, m = 3    9\n",
    "4 4     n = 4, m = 4    3375"
   ]
  },
  {
   "cell_type": "code",
   "execution_count": 23,
   "metadata": {},
   "outputs": [],
   "source": [
    "# Test input\n",
    "input_data = [\n",
    "    [2,2],\n",
    "    [3,2],\n",
    "    [2,3],\n",
    "    [4,4]\n",
    "]"
   ]
  },
  {
   "cell_type": "markdown",
   "metadata": {},
   "source": [
    "Thought process. This is a mathematical combinatorial problem, beyond the point of programming, so instead i'll just get the mathematical solution and then implement it in python.\n",
    "\n",
    "Calculate single row configurations:  \n",
    "f[w]=f[w−1]+f[w−2]+f[w−3]+f[w−4]\n",
    "\n",
    "Calculate Total Ways Ignoring Vertical Breaks:  \n",
    "pn[w]=f[w]**H\n",
    "\n",
    "Calculate Solid Walls:  \n",
    "gn[w]=pn[w]− (i=1)∑(w−1) { gn[i]⋅pn[w−i] }"
   ]
  },
  {
   "cell_type": "code",
   "execution_count": 11,
   "metadata": {},
   "outputs": [],
   "source": [
    "def legoBlocks(H, W):\n",
    "    f = [0] * (W + 1) # Initialize array of zeros for function f\n",
    "    f[0] = 1 # Base value, width zero is 1 block, negative width not considered\n",
    "    MOD = 10**9 + 7\n",
    "    \n",
    "    # Calculate single row configurations\n",
    "    for w in range(1, W + 1): # recurrently fill the array f\n",
    "        if w >= 1:\n",
    "            f[w] += f[w - 1]\n",
    "        if w >= 2:\n",
    "            f[w] += f[w - 2]\n",
    "        if w >= 3:\n",
    "            f[w] += f[w - 3]\n",
    "        if w >= 4:\n",
    "            f[w] += f[w - 4]\n",
    "        f[w] %= MOD # from the problem description\n",
    "    \n",
    "    # Calculate total ways ignoring vertical breaks\n",
    "    pn = [0] * (W + 1) \n",
    "    for w in range(W + 1):\n",
    "        pn[w] = pow(f[w], H, MOD)\n",
    "\n",
    "    # Calculate Solid Walls\n",
    "    gn = [0] * (W + 1)\n",
    "    for w in range(1, W + 1):\n",
    "        gn[w] = pn[w]\n",
    "        for i in range(1, w):\n",
    "            gn[w] -= gn[i]*pn[w -i]\n",
    "            gn[w] %= MOD\n",
    "    \n",
    "    print(f'f(n): {f}')\n",
    "    print(f'pn(n): {pn}')\n",
    "    print(f'gn(n): {gn}')\n",
    "\n",
    "    return gn[W]"
   ]
  },
  {
   "cell_type": "code",
   "execution_count": 21,
   "metadata": {},
   "outputs": [
    {
     "name": "stdout",
     "output_type": "stream",
     "text": [
      "f(n): [1, 1, 2, 4, 8, 15, 29, 56]\n",
      "pn(n): [1, 1, 4, 16, 64, 225, 841, 3136]\n",
      "gn(n): [0, 1, 3, 9, 27, 50, 122, 290]\n"
     ]
    },
    {
     "data": {
      "text/plain": [
       "290"
      ]
     },
     "execution_count": 21,
     "metadata": {},
     "output_type": "execute_result"
    }
   ],
   "source": [
    "legoBlocks(2,7)"
   ]
  },
  {
   "cell_type": "markdown",
   "metadata": {},
   "source": [
    "### Jesse's Cookies\n",
    "Given the sweetness of a number of cookies, determine the minimum number of operations required to reach target sweetness k or more on all cookies. If it is not possible, return -1. "
   ]
  },
  {
   "cell_type": "markdown",
   "metadata": {},
   "source": [
    "To do this, two cookies with the least sweetness are repeatedly mixed. This creates a special combined cookie with:\n",
    "sweetness = (Least sweet cookie) + (2nd least sweet cookie) * 2"
   ]
  },
  {
   "cell_type": "code",
   "execution_count": null,
   "metadata": {},
   "outputs": [],
   "source": [
    "# test input\n",
    "k = 7\n",
    "n = 6\n",
    "A = [1, 2, 3, 9, 10, 12]\n",
    "# Expected result :\n",
    "# 2 \n",
    "# A = [23, 20, 16]"
   ]
  },
  {
   "cell_type": "markdown",
   "metadata": {},
   "source": [
    "Thought Process. Take out 2 smalest values in list A, calculate new value, add to list. While list has more than 1 value and at least one value is less than k, repeat."
   ]
  },
  {
   "cell_type": "code",
   "execution_count": 84,
   "metadata": {},
   "outputs": [],
   "source": [
    "def cookies(k, A):\n",
    "    count_ops = 0\n",
    "    if all(sweetness >= k for sweetness in A):\n",
    "        return count_ops\n",
    "    \n",
    "    while len(A) > 1:\n",
    "        A.sort(reverse=True)\n",
    "        print(f'Cookies: {A}')\n",
    "        least_sweet = A.pop()\n",
    "        second_least_sweet = A.pop()\n",
    "        new_cookie = least_sweet + (2 * second_least_sweet)\n",
    "        print(f'New cookie: {new_cookie}')\n",
    "        A.append(new_cookie)\n",
    "        print(f'New Cookies: {A}')\n",
    "        count_ops += 1\n",
    "        print(f'Current number of ops: {count_ops}')\n",
    "\n",
    "        if all(sweetness >= k for sweetness in A):\n",
    "            return count_ops\n",
    "    \n",
    "    if A[0] < k: # Check if last cookie greater than k \n",
    "        return -1\n",
    "    else: \n",
    "        return count_ops"
   ]
  },
  {
   "cell_type": "code",
   "execution_count": 85,
   "metadata": {},
   "outputs": [
    {
     "name": "stdout",
     "output_type": "stream",
     "text": [
      "Cookies: [12, 10, 9, 3, 2, 1]\n",
      "New cookie: 5\n",
      "New Cookies: [12, 10, 9, 3, 5]\n",
      "Current number of ops: 1\n",
      "Cookies: [12, 10, 9, 5, 3]\n",
      "New cookie: 13\n",
      "New Cookies: [12, 10, 9, 13]\n",
      "Current number of ops: 2\n"
     ]
    },
    {
     "data": {
      "text/plain": [
       "2"
      ]
     },
     "execution_count": 85,
     "metadata": {},
     "output_type": "execute_result"
    }
   ],
   "source": [
    "cookies(k, A)"
   ]
  },
  {
   "cell_type": "markdown",
   "metadata": {},
   "source": [
    "Works but is not very performant. Each while loop it sorts the list O(nlogn), splices and creates a new list O(n), checks the list with all() and list comprehension O(n).  \n",
    "Can use a min-heap to solve this sorting issue."
   ]
  },
  {
   "cell_type": "code",
   "execution_count": 76,
   "metadata": {},
   "outputs": [],
   "source": [
    "import heapq"
   ]
  },
  {
   "cell_type": "code",
   "execution_count": 77,
   "metadata": {},
   "outputs": [],
   "source": [
    "def cookies(k, A):\n",
    "    heapq.heapify(A)\n",
    "    count_ops = 0\n",
    "\n",
    "    if all(sweetness >= k for sweetness in A):\n",
    "        return count_ops\n",
    "    \n",
    "    while len(A) > 1:\n",
    "        least_sweet = heapq.heappop(A)\n",
    "        second_least_sweet = heapq.heappop(A)\n",
    "        new_cookie = least_sweet + (2 * second_least_sweet)\n",
    "        heapq.heappush(A, new_cookie)\n",
    "        count_ops += 1\n",
    "\n",
    "        if all(sweetness >= k for sweetness in A):\n",
    "            return count_ops\n",
    "    \n",
    "    if A[0] < k: # Check if last cookie greater than k\n",
    "        return -1\n",
    "    else:\n",
    "        return count_ops      "
   ]
  },
  {
   "cell_type": "code",
   "execution_count": 80,
   "metadata": {},
   "outputs": [
    {
     "data": {
      "text/plain": [
       "2"
      ]
     },
     "execution_count": 80,
     "metadata": {},
     "output_type": "execute_result"
    }
   ],
   "source": [
    "cookies(k, A)"
   ]
  },
  {
   "cell_type": "markdown",
   "metadata": {},
   "source": [
    "### PreOrder Traversal\n",
    "Complete the  function which has 1 parameter: a pointer to the root of a binary tree.  \n",
    "It must print the values in the tree's preorder traversal as a single line of space-separated values."
   ]
  },
  {
   "cell_type": "code",
   "execution_count": 1,
   "metadata": {},
   "outputs": [],
   "source": [
    "class Node:\n",
    "    def __init__(self, info):\n",
    "        self.info = info\n",
    "        self.left = None # left child\n",
    "        self.right = None # right child\n",
    "        self.level = None # not sure?\n",
    "\n",
    "    def __str__(self):\n",
    "        return str(self.info)\n",
    "\n",
    "class BinarySearchTree:\n",
    "    def __init__(self):\n",
    "        self.root = None\n",
    "    \n",
    "    def create(self, val: int):\n",
    "        if self.root == None:\n",
    "            self.root = Node(val) # first val (1) in arr becomes root\n",
    "        else:\n",
    "            current = self.root # next loop, current is root (1), val is next val (2)\n",
    "        \n",
    "            while True:\n",
    "                if val < current.info: # 2 < 1\n",
    "                    if current.left: # has left child\n",
    "                        current = current.left  # current node is left child\n",
    "                    else: # doesnt have left child\n",
    "                        current.left = Node(val) # create left child with val\n",
    "                        break\n",
    "                elif val > current.info: # 2 > 1\n",
    "                    if current.right: # has right child\n",
    "                        current = current.right # current is right child\n",
    "                    else:\n",
    "                        current.right = Node(val) # create right child with val (2)\n",
    "                        break\n",
    "                else:\n",
    "                    break"
   ]
  },
  {
   "cell_type": "code",
   "execution_count": 5,
   "metadata": {},
   "outputs": [],
   "source": [
    "arr = [1, 2, 5, 3, 4, 6]\n",
    "tree = BinarySearchTree()\n",
    "for val in arr:\n",
    "    tree.create(val)"
   ]
  },
  {
   "cell_type": "code",
   "execution_count": 6,
   "metadata": {},
   "outputs": [
    {
     "name": "stdout",
     "output_type": "stream",
     "text": [
      "1\n"
     ]
    }
   ],
   "source": [
    "print(tree.root)"
   ]
  },
  {
   "cell_type": "code",
   "execution_count": 7,
   "metadata": {},
   "outputs": [
    {
     "name": "stdout",
     "output_type": "stream",
     "text": [
      "1\n",
      "None\n",
      "2\n",
      "None\n",
      "5\n",
      "3\n",
      "None\n",
      "4\n",
      "None\n",
      "None\n",
      "6\n",
      "None\n",
      "None\n"
     ]
    }
   ],
   "source": [
    "print(tree.root.info) # 1\n",
    "print(tree.root.left) # 1 left None \n",
    "print(tree.root.right.info) # 1 right 2\n",
    "    print(tree.root.right.left) # 2 left None \n",
    "    print(tree.root.right.right.info) # 2 right 5\n",
    "        print(tree.root.right.right.left.info) # 5 left 3\n",
    "            # split at node 3 val 5\n",
    "            print(tree.root.right.right.left.left) # 3 left None\n",
    "            print(tree.root.right.right.left.right.info) # 3 right 4\n",
    "                print(tree.root.right.right.left.right.left) # 4 left None\n",
    "                print(tree.root.right.right.left.right.right) # 4 right None\n",
    "        # Back to split at node 3, val 5\n",
    "        print(tree.root.right.right.right.info) # 5 right 6\n",
    "            print(tree.root.right.right.right.left) # 6 left None\n",
    "            print(tree.root.right.right.right.right) # 6 right None\n",
    "#      Stop"
   ]
  },
  {
   "cell_type": "markdown",
   "metadata": {},
   "source": [
    "This logic I drew here already shows that a good solution would be recursively visiting the node and subtrees"
   ]
  },
  {
   "cell_type": "code",
   "execution_count": 13,
   "metadata": {},
   "outputs": [],
   "source": [
    "def perOrder(root):\n",
    "    results = []\n",
    "\n",
    "    def traverse(node): # Recursively traverse the left subtree, then the right subtree of each node\n",
    "        if node is not None:\n",
    "            results.append(str(node))  # Visit root\n",
    "            traverse(node.left)        # Visit left subtree\n",
    "            traverse(node.right)       # Visit right subtree\n",
    "\n",
    "    if root: # Check for empty tree\n",
    "        print(f'Root value: {root.info}')\n",
    "        traverse(root)\n",
    "    else:\n",
    "        print(f'Tree is empty: root = {root}')\n",
    "\n",
    "    return results"
   ]
  },
  {
   "cell_type": "code",
   "execution_count": 15,
   "metadata": {},
   "outputs": [
    {
     "name": "stdout",
     "output_type": "stream",
     "text": [
      "Root value: 1\n",
      "1 2 5 3 4 6\n"
     ]
    }
   ],
   "source": [
    "results = perOrder(tree.root)\n",
    "print(' '.join(results))\n"
   ]
  },
  {
   "cell_type": "markdown",
   "metadata": {},
   "source": [
    "### Tree Huffman Decoding\n",
    "Return the decoded string with the following parameters: root, a reference to the root node of the Huffman tree. s, a Huffman encoded string"
   ]
  },
  {
   "cell_type": "code",
   "execution_count": 18,
   "metadata": {},
   "outputs": [],
   "source": [
    "import queue as Queue\n",
    "\n",
    "cntr = 0\n",
    "\n",
    "class Node:\n",
    "    def __init__(self, freq, data):\n",
    "        self.freq = freq\n",
    "        self.data = data\n",
    "        self.left = None\n",
    "        self.right = None\n",
    "        global cntr\n",
    "        self._count = cntr\n",
    "        cntr = cntr + 1\n",
    "        \n",
    "    def __lt__(self, other):\n",
    "        if self.freq != other.freq:\n",
    "            return self.freq < other.freq\n",
    "        return self._count < other._count\n",
    "\n",
    "def huffman_hidden():#builds the tree and returns root\n",
    "    q = Queue.PriorityQueue()\n",
    "\n",
    "    \n",
    "    for key in freq:\n",
    "        q.put((freq[key], key, Node(freq[key], key) ))\n",
    "    \n",
    "    while q.qsize() != 1:\n",
    "        a = q.get()\n",
    "        b = q.get()\n",
    "        obj = Node(a[0] + b[0], '\\0' )\n",
    "        obj.left = a[2]\n",
    "        obj.right = b[2]\n",
    "        q.put((obj.freq, obj.data, obj ))\n",
    "        \n",
    "    root = q.get()\n",
    "    root = root[2]#contains root object\n",
    "    return root\n",
    "\n",
    "def dfs_hidden(obj, already):\n",
    "    if(obj == None):\n",
    "        return\n",
    "    elif(obj.data != '\\0'):\n",
    "        code_hidden[obj.data] = already\n",
    "        \n",
    "    dfs_hidden(obj.right, already + \"1\")\n",
    "    dfs_hidden(obj.left, already + \"0\")\n"
   ]
  },
  {
   "cell_type": "code",
   "execution_count": 19,
   "metadata": {},
   "outputs": [],
   "source": [
    "ip = input()\n",
    "freq = {}#maps each character to its frequency\n",
    "cntr = 0\n",
    "\n",
    "for ch in ip:\n",
    "    if(freq.get(ch) == None):\n",
    "        freq[ch] = 1\n",
    "    else:\n",
    "        freq[ch]+=1\n",
    "\n",
    "root = huffman_hidden()#contains root of huffman tree\n",
    "\n",
    "code_hidden = {}#contains code for each object\n",
    "\n",
    "dfs_hidden(root, \"\")\n",
    "\n",
    "if len(code_hidden) == 1:#if there is only one character in the i/p\n",
    "    for key in code_hidden:\n",
    "        code_hidden[key] = \"0\"\n",
    "\n",
    "toBeDecoded = \"\"\n",
    "\n",
    "for ch in ip:\n",
    "   toBeDecoded += code_hidden[ch]"
   ]
  },
  {
   "cell_type": "code",
   "execution_count": 21,
   "metadata": {},
   "outputs": [
    {
     "data": {
      "text/plain": [
       "'1001011'"
      ]
     },
     "execution_count": 21,
     "metadata": {},
     "output_type": "execute_result"
    }
   ],
   "source": [
    "# Input: ABACA\n",
    "toBeDecoded"
   ]
  },
  {
   "cell_type": "code",
   "execution_count": 41,
   "metadata": {},
   "outputs": [
    {
     "data": {
      "text/plain": [
       "'A'"
      ]
     },
     "execution_count": 41,
     "metadata": {},
     "output_type": "execute_result"
    }
   ],
   "source": [
    "root.right.data"
   ]
  },
  {
   "cell_type": "code",
   "execution_count": 37,
   "metadata": {},
   "outputs": [
    {
     "data": {
      "text/plain": [
       "True"
      ]
     },
     "execution_count": 37,
     "metadata": {},
     "output_type": "execute_result"
    }
   ],
   "source": [
    "'\\x00' == '\\0' # null character in hexa"
   ]
  },
  {
   "cell_type": "code",
   "execution_count": 40,
   "metadata": {},
   "outputs": [
    {
     "data": {
      "text/plain": [
       "'\\x00'"
      ]
     },
     "execution_count": 40,
     "metadata": {},
     "output_type": "execute_result"
    }
   ],
   "source": [
    "root.left."
   ]
  },
  {
   "cell_type": "markdown",
   "metadata": {},
   "source": [
    "Thought process. Huffman trees can be traversed as followed. If val is 0, go left, if its 1, go right, continue traversing until finding a character, then go back to root."
   ]
  },
  {
   "cell_type": "code",
   "execution_count": 44,
   "metadata": {},
   "outputs": [],
   "source": [
    "def decodeHuff(root, encoded_string):\n",
    "    decoded_string = []\n",
    "    current_node = root\n",
    "\n",
    "    for bit in encoded_string:\n",
    "        if bit == '0':\n",
    "            current_node = current_node.left # visit left\n",
    "        else:\n",
    "            current_node = current_node.right # visit right\n",
    "\n",
    "        if current_node.data != '\\0': # Node contains a character\n",
    "            decoded_string.append(current_node.data) # append to character list\n",
    "            current_node = root\n",
    "\n",
    "    return print(''.join(decoded_string))"
   ]
  },
  {
   "cell_type": "code",
   "execution_count": 45,
   "metadata": {},
   "outputs": [
    {
     "name": "stdout",
     "output_type": "stream",
     "text": [
      "ABACA\n"
     ]
    }
   ],
   "source": [
    "decodeHuff(root, toBeDecoded)"
   ]
  },
  {
   "cell_type": "markdown",
   "metadata": {},
   "source": [
    "Was overcomplicating, try to follow the thought process more, then adjust the code afterwards"
   ]
  },
  {
   "cell_type": "markdown",
   "metadata": {},
   "source": [
    "### No Prefix Set\n",
    "There is a given list of strings where each string contains only lowercase letters from , inclusive. The set of strings is said to be a GOOD SET if no string is a prefix of another string. "
   ]
  },
  {
   "cell_type": "markdown",
   "metadata": {},
   "source": [
    "In this case, print GOOD SET. Otherwise, print BAD SET on the first line followed by the string being checked."
   ]
  },
  {
   "cell_type": "code",
   "execution_count": 99,
   "metadata": {},
   "outputs": [],
   "source": [
    "# input data\n",
    "words = ['aab', 'defgab', 'abcde', 'aabcde', 'bbbbbbbbbb', 'jabjjjad']\n",
    "\n",
    "# expected\n",
    "# BAD SET\n",
    "# aabcde, because aab is a prefix to aabcde"
   ]
  },
  {
   "cell_type": "markdown",
   "metadata": {},
   "source": [
    "Thought Process. Take first string and its size. Compare first string with remaining strings spliced with same size. If no match, continue to second string. Seems to work but already can predict bad performance due to so many splices and comparisons. Also, must skip comparing with same word."
   ]
  },
  {
   "cell_type": "code",
   "execution_count": 50,
   "metadata": {},
   "outputs": [
    {
     "data": {
      "text/plain": [
       "3"
      ]
     },
     "execution_count": 50,
     "metadata": {},
     "output_type": "execute_result"
    }
   ],
   "source": [
    "word = 'abcde'\n",
    "len(word)"
   ]
  },
  {
   "cell_type": "code",
   "execution_count": 51,
   "metadata": {},
   "outputs": [
    {
     "data": {
      "text/plain": [
       "'abc'"
      ]
     },
     "execution_count": 51,
     "metadata": {},
     "output_type": "execute_result"
    }
   ],
   "source": [
    "word2 = 'abc'\n",
    "word2[:3]"
   ]
  },
  {
   "cell_type": "code",
   "execution_count": 76,
   "metadata": {},
   "outputs": [
    {
     "data": {
      "text/plain": [
       "'aab'"
      ]
     },
     "execution_count": 76,
     "metadata": {},
     "output_type": "execute_result"
    }
   ],
   "source": [
    "# Can splice a string with index greater then length of string\n",
    "'aab'[:]"
   ]
  },
  {
   "cell_type": "code",
   "execution_count": 92,
   "metadata": {},
   "outputs": [],
   "source": [
    "def noPrefix(words):\n",
    "    for idx, current_word in enumerate(words):\n",
    "        print(f'Current word: {current_word}')\n",
    "        words_excluding_current = words[:idx] + words[idx+1:]\n",
    "        for word in words_excluding_current:\n",
    "            print(f'Comparing with word: {word}')\n",
    "            if current_word != word[:len(current_word)]:\n",
    "                print(f'No prefix: {current_word}, {word}')\n",
    "            else:\n",
    "                print('BAD SET')\n",
    "                print(word)\n",
    "                return\n",
    "    \n",
    "    print('GOOD SET')\n"
   ]
  },
  {
   "cell_type": "code",
   "execution_count": 93,
   "metadata": {},
   "outputs": [
    {
     "data": {
      "text/plain": [
       "['aab', 'aac', 'aacghgh', 'aabghgh']"
      ]
     },
     "execution_count": 93,
     "metadata": {},
     "output_type": "execute_result"
    }
   ],
   "source": [
    "words"
   ]
  },
  {
   "cell_type": "code",
   "execution_count": 94,
   "metadata": {},
   "outputs": [
    {
     "name": "stdout",
     "output_type": "stream",
     "text": [
      "Current word: aab\n",
      "Comparing with word: aac\n",
      "No prefix: aab, aac\n",
      "Comparing with word: aacghgh\n",
      "No prefix: aab, aacghgh\n",
      "Comparing with word: aabghgh\n",
      "BAD SET\n",
      "aabghgh\n"
     ]
    }
   ],
   "source": [
    "noPrefix(words)"
   ]
  },
  {
   "cell_type": "markdown",
   "metadata": {},
   "source": [
    "This works but has the performance issue. Another way is to use Trees.   \n",
    "Create a Trie Node Class: Each node will represent a character and will have children nodes.   \n",
    "Insert Words into the Trie: As we insert each word, we can check if it is a prefix of any existing word or if any existing word is a prefix of it.  \n",
    "Each character becomes the children of a previous character, and if no more characters in a word, this final node is_end_of_word. When checking a second word, if it goes the same path and reaches a end_of_word, than its a bad set.\n",
    "Check for BAD SET: If we find any prefix relationship during insertion, we can immediately determine that the set is a BAD SET. \n",
    "\n",
    "Super convoluted but clever way, create a tree with each substring of word a node, and following chars children and final substring has attribute end_of_word True, for all words."
   ]
  },
  {
   "cell_type": "code",
   "execution_count": 143,
   "metadata": {},
   "outputs": [],
   "source": [
    "class TrieNode:\n",
    "    def __init__(self):\n",
    "        self.children = {}\n",
    "        self.is_end_of_word = False\n",
    "\n",
    "class Trie:\n",
    "    def __init__(self):\n",
    "        self.root = TrieNode()\n",
    "\n",
    "    def insert(self, word):\n",
    "        current_node = self.root\n",
    "        for char in word:\n",
    "\n",
    "            if char not in current_node.children:\n",
    "                current_node.children[char] = TrieNode()\n",
    "            current_node = current_node.children[char] # Move to children node\n",
    "            \n",
    "            # If we reach an end of another word while inserting, it's a BAD SET\n",
    "            if current_node.is_end_of_word:\n",
    "                return False\n",
    "        \n",
    "        # Mark the end of the word\n",
    "        current_node.is_end_of_word = True\n",
    "        print(f'Inserted word: {word}')\n",
    "        self.print_trie(self.root)\n",
    "\n",
    "        # If there are any children after marking as end of word,\n",
    "        # it means this word is a prefix of another word.\n",
    "        if current_node.children:\n",
    "            return False\n",
    "        \n",
    "        return True\n",
    "        \n",
    "    def print_trie(self, node=None, prefix='', level=0):\n",
    "        if node is None:\n",
    "            node = self.root\n",
    "        # Print current node\n",
    "        if node.is_end_of_word:\n",
    "            print(f\"{'  ' * level}* {prefix} (End of Word)\")\n",
    "        else:\n",
    "            print(f\"{'  ' * level}  {prefix}\")\n",
    "         # Recursively print all children\n",
    "        for char, child_node in node.children.items():\n",
    "            self.print_trie(child_node, prefix + char, level + 1)\n",
    "\n",
    "def noPrefix(words):\n",
    "    trie = Trie()\n",
    "    \n",
    "    for word in words:\n",
    "        if not trie.insert(word):\n",
    "            print('BAD SET')\n",
    "            print(word)\n",
    "            return\n",
    "    print('GOOD SET')"
   ]
  },
  {
   "cell_type": "code",
   "execution_count": 144,
   "metadata": {},
   "outputs": [
    {
     "data": {
      "text/plain": [
       "['aab', 'defgab', 'abcde', 'aabcde', 'bbbbbbbbbb', 'jabjjjad']"
      ]
     },
     "execution_count": 144,
     "metadata": {},
     "output_type": "execute_result"
    }
   ],
   "source": [
    "words"
   ]
  },
  {
   "cell_type": "code",
   "execution_count": 145,
   "metadata": {},
   "outputs": [
    {
     "name": "stdout",
     "output_type": "stream",
     "text": [
      "Inserted word: aab\n",
      "  \n",
      "    a\n",
      "      aa\n",
      "      * aab (End of Word)\n",
      "Inserted word: defgab\n",
      "  \n",
      "    a\n",
      "      aa\n",
      "      * aab (End of Word)\n",
      "    d\n",
      "      de\n",
      "        def\n",
      "          defg\n",
      "            defga\n",
      "            * defgab (End of Word)\n",
      "Inserted word: abcde\n",
      "  \n",
      "    a\n",
      "      aa\n",
      "      * aab (End of Word)\n",
      "      ab\n",
      "        abc\n",
      "          abcd\n",
      "          * abcde (End of Word)\n",
      "    d\n",
      "      de\n",
      "        def\n",
      "          defg\n",
      "            defga\n",
      "            * defgab (End of Word)\n",
      "BAD SET\n",
      "aabcde\n"
     ]
    }
   ],
   "source": [
    "# Test case\n",
    "noPrefix(words)"
   ]
  },
  {
   "cell_type": "markdown",
   "metadata": {},
   "source": [
    "### Mock Test 1\n",
    "Find median value in odd numbered array"
   ]
  },
  {
   "cell_type": "code",
   "execution_count": 30,
   "metadata": {},
   "outputs": [
    {
     "data": {
      "text/plain": [
       "9"
      ]
     },
     "execution_count": 30,
     "metadata": {},
     "output_type": "execute_result"
    }
   ],
   "source": [
    "arr = [1, 8, 3, 12, 2, 10, 4, 14, 12]\n",
    "n = len(arr)\n",
    "n"
   ]
  },
  {
   "cell_type": "code",
   "execution_count": 31,
   "metadata": {},
   "outputs": [
    {
     "data": {
      "text/plain": [
       "[1, 2, 3, 4, 8, 10, 12, 12, 14]"
      ]
     },
     "execution_count": 31,
     "metadata": {},
     "output_type": "execute_result"
    }
   ],
   "source": [
    "arr.sort()\n",
    "arr"
   ]
  },
  {
   "cell_type": "code",
   "execution_count": null,
   "metadata": {},
   "outputs": [],
   "source": [
    "def findMedianSort(arr):\n",
    "    n = len(arr)\n",
    "    arr.sort()\n",
    "    median = arr[n // 2] # Only works for odd numbered arrays\n",
    "    return median"
   ]
  },
  {
   "cell_type": "code",
   "execution_count": 34,
   "metadata": {},
   "outputs": [
    {
     "data": {
      "text/plain": [
       "8"
      ]
     },
     "execution_count": 34,
     "metadata": {},
     "output_type": "execute_result"
    }
   ],
   "source": [
    "findMedianSort(arr)"
   ]
  },
  {
   "cell_type": "markdown",
   "metadata": {},
   "source": [
    "Solves the problem but its sorting the array which is nlon(n) complexity. Can try and use Heaps to improve.\n"
   ]
  },
  {
   "cell_type": "code",
   "execution_count": 35,
   "metadata": {},
   "outputs": [],
   "source": [
    "import heapq\n",
    "def findMedianHeap(arr):\n",
    "    heapq.heapify(arr)\n",
    "    n = (len(arr) + 1) // 2\n",
    "    \n",
    "    while n:\n",
    "        val = heapq.heappop(arr)\n",
    "        n -= 1\n",
    "    \n",
    "    return val"
   ]
  },
  {
   "cell_type": "code",
   "execution_count": 36,
   "metadata": {},
   "outputs": [
    {
     "data": {
      "text/plain": [
       "8"
      ]
     },
     "execution_count": 36,
     "metadata": {},
     "output_type": "execute_result"
    }
   ],
   "source": [
    "findMedianHeap(arr)"
   ]
  },
  {
   "cell_type": "markdown",
   "metadata": {},
   "source": [
    "This actualy does not improve, because heapify is also a nlog(n) operation. Another option would be to iterate over the array and push elements to a heap. Pushing an element is log(n). "
   ]
  },
  {
   "cell_type": "markdown",
   "metadata": {},
   "source": [
    "###"
   ]
  },
  {
   "cell_type": "code",
   "execution_count": null,
   "metadata": {},
   "outputs": [],
   "source": []
  }
 ],
 "metadata": {
  "kernelspec": {
   "display_name": "Python 3",
   "language": "python",
   "name": "python3"
  },
  "language_info": {
   "codemirror_mode": {
    "name": "ipython",
    "version": 3
   },
   "file_extension": ".py",
   "mimetype": "text/x-python",
   "name": "python",
   "nbconvert_exporter": "python",
   "pygments_lexer": "ipython3",
   "version": "3.13.0"
  }
 },
 "nbformat": 4,
 "nbformat_minor": 2
}
