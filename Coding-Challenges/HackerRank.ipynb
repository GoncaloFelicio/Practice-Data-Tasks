{
 "cells": [
  {
   "cell_type": "markdown",
   "metadata": {},
   "source": [
    "Challenges from HackerRank website"
   ]
  },
  {
   "cell_type": "markdown",
   "metadata": {},
   "source": [
    "### Lonely Integer\n",
    "Given an array of integers, where all elements but one occur twice, find the unique element"
   ]
  },
  {
   "cell_type": "code",
   "execution_count": 14,
   "metadata": {},
   "outputs": [
    {
     "data": {
      "text/plain": [
       "4"
      ]
     },
     "execution_count": 14,
     "metadata": {},
     "output_type": "execute_result"
    }
   ],
   "source": [
    "a = [1,2,3,4,1,2,3]\n",
    "\n",
    "def lonelyinteger(a):\n",
    "    xor_zero = 0\n",
    "    for num in a:\n",
    "        xor_zero ^= num\n",
    "    return xor_zero\n",
    "\n",
    "lonelyinteger(a)"
   ]
  },
  {
   "cell_type": "markdown",
   "metadata": {},
   "source": [
    "Using the XOR operation to null the duplicates and keep the only unique value  \n",
    "This only works if all the elements have a single duplicate and only one element is unique"
   ]
  },
  {
   "cell_type": "code",
   "execution_count": 38,
   "metadata": {},
   "outputs": [
    {
     "data": {
      "text/plain": [
       "4"
      ]
     },
     "execution_count": 38,
     "metadata": {},
     "output_type": "execute_result"
    }
   ],
   "source": [
    "def lonelyinteger2(a):\n",
    "    unique_set = set()\n",
    "    for num in a:\n",
    "        if num in unique_set:\n",
    "            unique_set.remove(num)\n",
    "        else:\n",
    "            unique_set.add(num)\n",
    "    return unique_set.pop()\n",
    "\n",
    "lonelyinteger2(a)"
   ]
  },
  {
   "cell_type": "markdown",
   "metadata": {},
   "source": [
    "For this case, can use a set or a list. Advantage of set is that it guarantees uniqueness of vallues inside, also membership testing, insertion and deletion are much more performant with set type"
   ]
  },
  {
   "cell_type": "markdown",
   "metadata": {},
   "source": [
    "### Diagonal Difference\n",
    "Given a square matrix, calculate the absolute difference between the sums of its diagonals."
   ]
  },
  {
   "cell_type": "code",
   "execution_count": 73,
   "metadata": {},
   "outputs": [
    {
     "data": {
      "text/plain": [
       "[[1, 2, 3], [4, 5, 6], [9, 8, 9]]"
      ]
     },
     "execution_count": 73,
     "metadata": {},
     "output_type": "execute_result"
    }
   ],
   "source": [
    "#input\n",
    "arr = [[1, 2, 3],\n",
    "       [4,5,6],\n",
    "       [9,8,9]]\n",
    "arr"
   ]
  },
  {
   "cell_type": "code",
   "execution_count": 74,
   "metadata": {},
   "outputs": [
    {
     "name": "stdout",
     "output_type": "stream",
     "text": [
      "0 [1, 2, 3]\n",
      "1\n",
      "2 [1, 2, 3]\n",
      "3\n",
      "1 [4, 5, 6]\n",
      "6\n",
      "1 [4, 5, 6]\n",
      "8\n",
      "2 [9, 8, 9]\n",
      "15\n",
      "0 [9, 8, 9]\n",
      "17\n"
     ]
    },
    {
     "data": {
      "text/plain": [
       "2"
      ]
     },
     "execution_count": 74,
     "metadata": {},
     "output_type": "execute_result"
    }
   ],
   "source": [
    "n=len(arr)\n",
    "left_sum = 0\n",
    "right_sum = 0\n",
    "\n",
    "for idx, row in enumerate(arr):\n",
    "    print(idx, row)\n",
    "    left_sum += row[idx]\n",
    "    print(left_sum)\n",
    "    print(n-1-idx, row)\n",
    "    right_sum += row[n-1-idx]\n",
    "    print(right_sum)\n",
    "\n",
    "abs(left_sum-right_sum)\n",
    "\n"
   ]
  },
  {
   "cell_type": "code",
   "execution_count": 79,
   "metadata": {},
   "outputs": [
    {
     "data": {
      "text/plain": [
       "2"
      ]
     },
     "execution_count": 79,
     "metadata": {},
     "output_type": "execute_result"
    }
   ],
   "source": [
    "# another solution, cleaner\n",
    "n = len(arr)\n",
    "left_sum = 0\n",
    "right_sum = 0\n",
    "\n",
    "for i in range(n):\n",
    "    left_sum += arr[i][i]\n",
    "    right_sum += arr[i][n-1-i]\n",
    "\n",
    "abs(left_sum - right_sum)"
   ]
  },
  {
   "cell_type": "markdown",
   "metadata": {},
   "source": [
    "### Comparison Sorting\n",
    "Given a list of integers, count and return the number of times each value appears as an array of integers."
   ]
  },
  {
   "cell_type": "code",
   "execution_count": 84,
   "metadata": {},
   "outputs": [
    {
     "data": {
      "text/plain": [
       "[63,\n",
       " 25,\n",
       " 73,\n",
       " 1,\n",
       " 98,\n",
       " 73,\n",
       " 56,\n",
       " 84,\n",
       " 86,\n",
       " 57,\n",
       " 16,\n",
       " 83,\n",
       " 8,\n",
       " 25,\n",
       " 81,\n",
       " 56,\n",
       " 9,\n",
       " 53,\n",
       " 98,\n",
       " 67,\n",
       " 99,\n",
       " 12,\n",
       " 83,\n",
       " 89,\n",
       " 80,\n",
       " 91,\n",
       " 39,\n",
       " 86,\n",
       " 76,\n",
       " 85,\n",
       " 74,\n",
       " 39,\n",
       " 25,\n",
       " 90,\n",
       " 59,\n",
       " 10,\n",
       " 94,\n",
       " 32,\n",
       " 44,\n",
       " 3,\n",
       " 89,\n",
       " 30,\n",
       " 27,\n",
       " 79,\n",
       " 46,\n",
       " 96,\n",
       " 27,\n",
       " 32,\n",
       " 18,\n",
       " 21,\n",
       " 92,\n",
       " 69,\n",
       " 81,\n",
       " 40,\n",
       " 40,\n",
       " 34,\n",
       " 68,\n",
       " 78,\n",
       " 24,\n",
       " 87,\n",
       " 42,\n",
       " 69,\n",
       " 23,\n",
       " 41,\n",
       " 78,\n",
       " 22,\n",
       " 6,\n",
       " 90,\n",
       " 99,\n",
       " 89,\n",
       " 50,\n",
       " 30,\n",
       " 20,\n",
       " 1,\n",
       " 43,\n",
       " 3,\n",
       " 70,\n",
       " 95,\n",
       " 33,\n",
       " 46,\n",
       " 44,\n",
       " 9,\n",
       " 69,\n",
       " 48,\n",
       " 33,\n",
       " 60,\n",
       " 65,\n",
       " 16,\n",
       " 82,\n",
       " 67,\n",
       " 61,\n",
       " 32,\n",
       " 21,\n",
       " 79,\n",
       " 75,\n",
       " 75,\n",
       " 13,\n",
       " 87,\n",
       " 70,\n",
       " 33]"
      ]
     },
     "execution_count": 84,
     "metadata": {},
     "output_type": "execute_result"
    }
   ],
   "source": [
    "# input\n",
    "n = 100\n",
    "int_str = \"63 25 73 1 98 73 56 84 86 57 16 83 8 25 81 56 9 53 98 67 99 12 83 89 80 91 39 86 76 85 74 39 25 90 59 10 94 32 44 3 89 30 27 79 46 96 27 32 18 21 92 69 81 40 40 34 68 78 24 87 42 69 23 41 78 22 6 90 99 89 50 30 20 1 43 3 70 95 33 46 44 9 69 48 33 60 65 16 82 67 61 32 21 79 75 75 13 87 70 33\" \n",
    "int_list = list(map(int, int_str.split()))\n",
    "int_list"
   ]
  },
  {
   "cell_type": "code",
   "execution_count": 101,
   "metadata": {},
   "outputs": [
    {
     "data": {
      "text/plain": [
       "100"
      ]
     },
     "execution_count": 101,
     "metadata": {},
     "output_type": "execute_result"
    }
   ],
   "source": [
    "zeros_list = [0] * 100\n",
    "len(zeros_list)"
   ]
  },
  {
   "cell_type": "code",
   "execution_count": 102,
   "metadata": {},
   "outputs": [
    {
     "data": {
      "text/plain": [
       "[0,\n",
       " 2,\n",
       " 0,\n",
       " 2,\n",
       " 0,\n",
       " 0,\n",
       " 1,\n",
       " 0,\n",
       " 1,\n",
       " 2,\n",
       " 1,\n",
       " 0,\n",
       " 1,\n",
       " 1,\n",
       " 0,\n",
       " 0,\n",
       " 2,\n",
       " 0,\n",
       " 1,\n",
       " 0,\n",
       " 1,\n",
       " 2,\n",
       " 1,\n",
       " 1,\n",
       " 1,\n",
       " 3,\n",
       " 0,\n",
       " 2,\n",
       " 0,\n",
       " 0,\n",
       " 2,\n",
       " 0,\n",
       " 3,\n",
       " 3,\n",
       " 1,\n",
       " 0,\n",
       " 0,\n",
       " 0,\n",
       " 0,\n",
       " 2,\n",
       " 2,\n",
       " 1,\n",
       " 1,\n",
       " 1,\n",
       " 2,\n",
       " 0,\n",
       " 2,\n",
       " 0,\n",
       " 1,\n",
       " 0,\n",
       " 1,\n",
       " 0,\n",
       " 0,\n",
       " 1,\n",
       " 0,\n",
       " 0,\n",
       " 2,\n",
       " 1,\n",
       " 0,\n",
       " 1,\n",
       " 1,\n",
       " 1,\n",
       " 0,\n",
       " 1,\n",
       " 0,\n",
       " 1,\n",
       " 0,\n",
       " 2,\n",
       " 1,\n",
       " 3,\n",
       " 2,\n",
       " 0,\n",
       " 0,\n",
       " 2,\n",
       " 1,\n",
       " 2,\n",
       " 1,\n",
       " 0,\n",
       " 2,\n",
       " 2,\n",
       " 1,\n",
       " 2,\n",
       " 1,\n",
       " 2,\n",
       " 1,\n",
       " 1,\n",
       " 2,\n",
       " 2,\n",
       " 0,\n",
       " 3,\n",
       " 2,\n",
       " 1,\n",
       " 1,\n",
       " 0,\n",
       " 1,\n",
       " 1,\n",
       " 1,\n",
       " 0,\n",
       " 2,\n",
       " 2]"
      ]
     },
     "execution_count": 102,
     "metadata": {},
     "output_type": "execute_result"
    }
   ],
   "source": [
    "for num in int_list:\n",
    "    zeros_list[num] += 1\n",
    "zeros_list"
   ]
  },
  {
   "cell_type": "markdown",
   "metadata": {},
   "source": [
    "### Merge two sorted linked lists\n",
    "Given pointers to the heads of two sorted linked lists, merge them into a single, sorted linked list. Either head pointer may be null meaning that the corresponding list is empty."
   ]
  },
  {
   "cell_type": "code",
   "execution_count": 152,
   "metadata": {},
   "outputs": [],
   "source": [
    "class SinglyLinkedListNode:\n",
    "    def __init__(self, data):\n",
    "        self.data = data\n",
    "        self.next = None\n",
    "\n",
    "dummy = SinglyLinkedListNode(0)"
   ]
  },
  {
   "cell_type": "code",
   "execution_count": 122,
   "metadata": {},
   "outputs": [],
   "source": [
    "def insert_node(head, data):\n",
    "    new_node = SinglyLinkedListNode(data)\n",
    "    if head is None:\n",
    "        return new_node\n",
    "    else:\n",
    "        current = head\n",
    "        while current.next:\n",
    "            current = current.next\n",
    "        current.next = new_node\n",
    "    return head"
   ]
  },
  {
   "cell_type": "code",
   "execution_count": 156,
   "metadata": {},
   "outputs": [],
   "source": [
    "# Create Linked List A: 1 -> 3 -> 7\n",
    "headA = None\n",
    "headA = insert_node(headA, 1)\n",
    "headA = insert_node(headA, 3)\n",
    "headA = insert_node(headA, 7)\n",
    "\n",
    "# Create Linked List B: 1 -> 2\n",
    "headB = None\n",
    "headB = insert_node(headB, 1)\n",
    "headB = insert_node(headB, 2)"
   ]
  },
  {
   "cell_type": "code",
   "execution_count": 160,
   "metadata": {},
   "outputs": [
    {
     "name": "stdout",
     "output_type": "stream",
     "text": [
      "Input List:\n",
      "1 -> 3 -> 7 -> NULL\n"
     ]
    }
   ],
   "source": [
    "merged_head = headA\n",
    "print(\"Input List:\")\n",
    "while merged_head is not None:\n",
    "    print(merged_head.data, end=\" -> \")\n",
    "    merged_head = merged_head.next\n",
    "print(\"NULL\")"
   ]
  },
  {
   "cell_type": "code",
   "execution_count": 163,
   "metadata": {},
   "outputs": [],
   "source": [
    "def mergeLists(head1, head2):\n",
    "    dummy = SinglyLinkedListNode(0)\n",
    "    current = dummy\n",
    "    \n",
    "    while head1 is not None and head2 is not None:\n",
    "        if head1.data < head2.data:\n",
    "            current.next = head1\n",
    "            print(f\"Adding {head1.data} from list 1\")\n",
    "            head1 = head1.next\n",
    "        else:\n",
    "            current.next = head2\n",
    "            print(f\"Adding {head2.data} from list 2\")\n",
    "            head2 = head2.next\n",
    "            \n",
    "        current = current.next # move to next node\n",
    "\n",
    "    if head1 is not None:\n",
    "        current.next = head1\n",
    "        print(f\"Appending remaining list 1 starting with {head1.data}\")\n",
    "    elif head2 is not None:\n",
    "        current.next = head2\n",
    "        print(f\"Appending remaining list 2 starting with {head2.data}\")\n",
    "\n",
    "    # Print the merged list starting from dummy's next node\n",
    "    merged_head = dummy.next\n",
    "    print(\"Merged List:\")\n",
    "    while merged_head is not None:\n",
    "        print(merged_head.data, end=\" -> \")\n",
    "        merged_head = merged_head.next\n",
    "    print(\"NULL\")\n",
    "    \n",
    "    return dummy.next"
   ]
  },
  {
   "cell_type": "code",
   "execution_count": 164,
   "metadata": {},
   "outputs": [
    {
     "name": "stdout",
     "output_type": "stream",
     "text": [
      "Adding 1 from list 2\n",
      "Adding 1 from list 1\n",
      "Adding 2 from list 2\n",
      "Appending remaining list 1 starting with 3\n",
      "Merged List:\n",
      "1 -> 1 -> 2 -> 3 -> 7 -> NULL\n"
     ]
    },
    {
     "data": {
      "text/plain": [
       "<__main__.SinglyLinkedListNode at 0x1111ab60d60>"
      ]
     },
     "execution_count": 164,
     "metadata": {},
     "output_type": "execute_result"
    }
   ],
   "source": [
    "mergeLists(headA, headB)"
   ]
  },
  {
   "cell_type": "markdown",
   "metadata": {},
   "source": [
    "### Queue using Two Stacks\n",
    "you must first implement a queue using two stacks. Then process  queries, where each query is one of the following  types:"
   ]
  },
  {
   "cell_type": "markdown",
   "metadata": {},
   "source": [
    "1 x: Enqueue element  into the end of the queue.  \n",
    "2: Dequeue the element at the front of the queue.  \n",
    "3: Print the element at the front of the queue.  \n",
    "\n",
    "STDIN   Function   \n",
    "-- --  \n",
    "10      q = 10 (number of queries)    \n",
    "1 42    1st query, enqueue 42    \n",
    "2       dequeue front element  \n",
    "1 14    enqueue 42  \n",
    "3       print the front element  \n",
    "1 28    enqueue 28  \n",
    "3       print the front element  \n",
    "1 60    enqueue 60  \n",
    "1 78    enqueue 78  \n",
    "2       dequeue front element  \n",
    "2       dequeue front element  \n",
    "-- -- \n",
    "Thought Process:  \n",
    "    Create a class that holds the queue elements and has functions for each query type, 1, 2 and 3\n",
    "    create 2 stacks in the class, stack one for enqueu elements, stack 2 for the dequeued elements.\n",
    "    Use list type for queues, very simple to manipulate elements."
   ]
  },
  {
   "cell_type": "code",
   "execution_count": 25,
   "metadata": {},
   "outputs": [],
   "source": [
    "class QueueTwoStacks:\n",
    "    def __init__(self):\n",
    "        self.stack1 = []\n",
    "        self.stack2 = []\n",
    "\n",
    "    def enqueue(self, data): # O(1)\n",
    "        print(f'Enqueue item: {data}')\n",
    "        self.stack1.append(data)\n",
    "        print(f'Queue1: {self.stack1}')\n",
    "        \n",
    "    # def dequeue(self): # O(n)\n",
    "    #     removed_item = self.stack1.pop(0) \n",
    "    #     print(f'Dequeue front element: {removed_item}')\n",
    "    #     print(f'Queue: {self.stack1}')\n",
    "    #     self.stack2.append(removed_item)\n",
    "\n",
    "    def dequeue(self): #O(1)\n",
    "        if not self.stack2: # Check stack 2 is empty\n",
    "            while self.stack1: # For all elements in stack1\n",
    "                self.stack2.append(self.stack1.pop()) # using pop() is O(1) complexity and reverses the order into stack2\n",
    "        if not self.stack2: # Check if stack 2 still empty, only occurs if stack1 was also empty, an error\n",
    "            raise IndexError(\"Can't dequeue and empty queue.\")\n",
    "        \n",
    "        dequeue_item = self.stack2.pop() # O(1)\n",
    "        print(f'Dequeue front element: {dequeue_item}')\n",
    "        print(f'Queue2: {self.stack2}')\n",
    "        return dequeue_item # Beacuse stack2 is the reverse of stack1, removes the 1st element in queue\n",
    "\n",
    "    def show_data(self):\n",
    "        # print(f'Printing value at head: {self.stack1[0]}')\n",
    "        # return self.stack1[0]\n",
    "        if not self.stack2: # Check stack 2 is empty\n",
    "            while self.stack1: # For all elements in stack1\n",
    "                self.stack2.append(self.stack1.pop()) # using pop() is O(1) complexity and reverses the order into stack2\n",
    "        if not self.stack2: # Check if stack 2 still empty, only occurs if stack1 was also empty, an error\n",
    "            raise IndexError(\"Can't dequeue and empty queue.\")\n",
    "        \n",
    "        print(f'Printing value at head: {self.stack2[-1]}') # Must handle stack2, as stack1 remains unchanged\n",
    "        return self.stack2[-1]"
   ]
  },
  {
   "cell_type": "markdown",
   "metadata": {},
   "source": [
    "In the commented out queue method, the first one created, stack 2 serves no use, and because of pop(0), the complexity is always O(n).  \n",
    "But, using just pop() complexity is O(1), because only last element is removed in this case, while first case, the element 0 is removed and all elements are moved one step left. Therefore using a solution with only pop() gives performance, and this requires 2 stacks indeed. The better performance is immediately clear running the tests, they finish much faster,"
   ]
  },
  {
   "cell_type": "code",
   "execution_count": 28,
   "metadata": {},
   "outputs": [],
   "source": [
    "def process_queries(queries):\n",
    "    queue = QueueTwoStacks()\n",
    "    results = []\n",
    "\n",
    "    print(f'Number of queries: {len(queries)}')\n",
    "    for query in queries:\n",
    "        if query[0] == 1:\n",
    "            queue.enqueue(query[1])\n",
    "        elif query[0] == 2:\n",
    "            queue.dequeue()\n",
    "        elif query[0] == 3:\n",
    "            front_item = queue.show_data()\n",
    "            results.append(front_item)\n",
    "            print(f'Current result: {results}')\n",
    "        else:\n",
    "            print('Query type: {query[0]} not appropriate. Use \"1\", \"2\" or \"3\".')\n",
    "    return results"
   ]
  },
  {
   "cell_type": "code",
   "execution_count": 29,
   "metadata": {},
   "outputs": [
    {
     "name": "stdout",
     "output_type": "stream",
     "text": [
      "Number of queries: 10\n",
      "Enqueue item: 76\n",
      "Queue1: [76]\n",
      "Enqueue item: 33\n",
      "Queue1: [76, 33]\n",
      "Dequeue front element: 76\n",
      "Queue2: [33]\n",
      "Enqueue item: 23\n",
      "Queue1: [23]\n",
      "Enqueue item: 97\n",
      "Queue1: [23, 97]\n",
      "Enqueue item: 21\n",
      "Queue1: [23, 97, 21]\n",
      "Printing value at head: 33\n",
      "Current result: [33]\n",
      "Printing value at head: 33\n",
      "Current result: [33, 33]\n",
      "Enqueue item: 74\n",
      "Queue1: [23, 97, 21, 74]\n",
      "Printing value at head: 33\n",
      "Current result: [33, 33, 33]\n",
      "33\n",
      "33\n",
      "33\n"
     ]
    }
   ],
   "source": [
    "# Test input\n",
    "if __name__ == \"__main__\":\n",
    "    input_data = [\n",
    "        [1, 76],   # Enqueue 42\n",
    "        [1, 33],       # Dequeue\n",
    "        [2],   # Enqueue 14\n",
    "        [1, 23],       # Print front element (should be 14)\n",
    "        [1, 97],   # Enqueue 28\n",
    "        [1,21],       # Print front element (should be 14)\n",
    "        [3],   # Enqueue 60\n",
    "        [3],   # Enqueue 78\n",
    "        [1, 74],       # Dequeue (should remove 14)\n",
    "        [3]        # Dequeue (should remove 28)\n",
    "    ]\n",
    "\n",
    "    results = process_queries(input_data)\n",
    "    for result in results:\n",
    "        print(result)  # Output results for print operations"
   ]
  },
  {
   "cell_type": "code",
   "execution_count": 3,
   "metadata": {},
   "outputs": [
    {
     "name": "stdout",
     "output_type": "stream",
     "text": [
      "Enter your queries (format: '1 x', '2', or '3'):\n"
     ]
    }
   ],
   "source": [
    "# Input section\n",
    "n = int(input(\"Enter number of queries: \"))  # Read number of queries\n",
    "queries = []\n",
    "\n",
    "print(\"Enter your queries (format: '1 x', '2', or '3'):\")\n",
    "for _ in range(n):\n",
    "    query = list(map(int, input().strip().split()))  # Read each query\n",
    "    queries.append(query)"
   ]
  },
  {
   "cell_type": "markdown",
   "metadata": {},
   "source": []
  },
  {
   "cell_type": "markdown",
   "metadata": {},
   "source": [
    "This input code is meant for HackerRank website, as each test is run with the stdin, so the input data is accepted and formatted this way"
   ]
  },
  {
   "cell_type": "markdown",
   "metadata": {},
   "source": [
    "### Balanced Brackets\n",
    "Given  strings of brackets, determine whether each sequence of brackets is balanced. If a string is balanced, return YES. Otherwise, return NO."
   ]
  },
  {
   "cell_type": "code",
   "execution_count": 86,
   "metadata": {},
   "outputs": [],
   "source": [
    "#Input sample\n",
    "s1 = '{[()]}'  # Return 'YES'\n",
    "s2 = '{[(])}' # Return 'NO'\n",
    "s3 ='{{[[(())]]}}' # Return 'YES'"
   ]
  },
  {
   "cell_type": "code",
   "execution_count": 87,
   "metadata": {},
   "outputs": [],
   "source": [
    "def isBalanced(s):\n",
    "    matches = []\n",
    "    n = len(s)\n",
    "    r = n // 2\n",
    "\n",
    "    for i in range(r):\n",
    "        match_b = s[i] + s[n-1-i]\n",
    "        matches.append(match_b)\n",
    "\n",
    "    for match in matches:\n",
    "        if match not in ['{}', '[]', '()']:\n",
    "            return 'NO'\n",
    "    \n",
    "    return 'YES'"
   ]
  },
  {
   "cell_type": "code",
   "execution_count": 84,
   "metadata": {},
   "outputs": [
    {
     "name": "stdout",
     "output_type": "stream",
     "text": [
      "3\n",
      "{[()]}\n",
      "YES\n",
      "{[(])}\n",
      "NO\n",
      "{{[[(())]]}}\n",
      "YES\n"
     ]
    }
   ],
   "source": [
    "# Test Input\n",
    "if __name__ == '__main__':\n",
    "\n",
    "    input_data = [\n",
    "        '{[()]}',\n",
    "        '{[(])}',\n",
    "        '{{[[(())]]}}'\n",
    "    ]\n",
    "\n",
    "    t = int(input().strip())\n",
    "    print(t)\n",
    "\n",
    "    for i in range(t):\n",
    "        print(input_data[i])\n",
    "        result = isBalanced(input_data[i])\n",
    "        print(result)\n"
   ]
  },
  {
   "cell_type": "markdown",
   "metadata": {},
   "source": [
    "This works only for strings that are mirrored! But brackets can be balanced and not mirrored.  \n",
    "Example: {(([])[])[]}"
   ]
  },
  {
   "cell_type": "code",
   "execution_count": 89,
   "metadata": {},
   "outputs": [
    {
     "data": {
      "text/plain": [
       "'NO'"
      ]
     },
     "execution_count": 89,
     "metadata": {},
     "output_type": "execute_result"
    }
   ],
   "source": [
    "s4 = '{(([])[])[]}' # Balanced but not a mirror, should return 'YES'\n",
    "isBalanced(s4)"
   ]
  },
  {
   "cell_type": "markdown",
   "metadata": {},
   "source": [
    "Another approach that works correctly is to keep a bracket pairs reference and a stack with the opening brackets in order of appearance. if a closing bracket is read, compare with the most recent bracket in the stack. it must match the bracket pairs reference. then remove this bracket from the stack, the second most recent opening bracket is now the one read. '{(([])[])[]}' This is using the logic that when closing brackets appear, it must have the respective opening bracket appear right before it, and then removing from the stack, allows for the next bracket match."
   ]
  },
  {
   "cell_type": "code",
   "execution_count": 91,
   "metadata": {},
   "outputs": [],
   "source": [
    "def isBalanced(s):\n",
    "    bracket_pairs = {']': '[', '}': '{', ')': '('}\n",
    "    stack = []\n",
    "    for char in s:\n",
    "        if char in bracket_pairs.values(): # if its an opening bracket\n",
    "            stack.append(char)\n",
    "        elif char in bracket_pairs.keys(): # if its a closing bracket\n",
    "            if not stack or bracket_pairs[char] != stack[-1]: # checks if there is a matching opening bracket\n",
    "                return 'NO'\n",
    "            stack.pop()\n",
    "    return 'YES' if not stack else 'NO' # checks if all opened brackets were closed"
   ]
  },
  {
   "cell_type": "code",
   "execution_count": 95,
   "metadata": {},
   "outputs": [
    {
     "data": {
      "text/plain": [
       "'YES'"
      ]
     },
     "execution_count": 95,
     "metadata": {},
     "output_type": "execute_result"
    }
   ],
   "source": [
    "isBalanced(s4)"
   ]
  },
  {
   "cell_type": "markdown",
   "metadata": {},
   "source": [
    "### Text Editor\n",
    "Implement a simple text editor. The editor initially contains an empty string, . Perform  operations of the following  types"
   ]
  },
  {
   "cell_type": "markdown",
   "metadata": {},
   "source": [
    "S is initially empty  \n",
    "1 abc - Append string abc to the end of string S  \n",
    "2 3 - Delete the 3 character of string S  \n",
    "3 4 - Print the 4 character of string S  \n",
    "4 undo - Undo the last (not previously undone) operation of type 1 or 2, reverting  to the state it was in prior to that operation   "
   ]
  },
  {
   "cell_type": "code",
   "execution_count": 3,
   "metadata": {},
   "outputs": [
    {
     "name": "stdout",
     "output_type": "stream",
     "text": [
      "Enter your queries (format: '1 abc', '2 3', '3 4' or '4'):\n"
     ]
    }
   ],
   "source": [
    "# Input section\n",
    "n = int(input(\"Enter number of queries: \"))  # Read number of queries\n",
    "queries = []\n",
    "\n",
    "print(\"Enter your queries (format: '1 abc', '2 3', '3 4' or '4'):\")\n",
    "for _ in range(n):\n",
    "    query = list(input().strip().split())  # Read each query into a list of lists with type string\n",
    "    processed_query = [int(item) if item.isdigit() else item for item in query]\n",
    "    queries.append(processed_query)"
   ]
  },
  {
   "cell_type": "code",
   "execution_count": 1,
   "metadata": {},
   "outputs": [
    {
     "ename": "NameError",
     "evalue": "name 'queries' is not defined",
     "output_type": "error",
     "traceback": [
      "\u001b[1;31m---------------------------------------------------------------------------\u001b[0m",
      "\u001b[1;31mNameError\u001b[0m                                 Traceback (most recent call last)",
      "Cell \u001b[1;32mIn[1], line 1\u001b[0m\n\u001b[1;32m----> 1\u001b[0m \u001b[43mqueries\u001b[49m\n",
      "\u001b[1;31mNameError\u001b[0m: name 'queries' is not defined"
     ]
    }
   ],
   "source": [
    "queries"
   ]
  },
  {
   "cell_type": "code",
   "execution_count": 27,
   "metadata": {},
   "outputs": [],
   "source": [
    "# test Input\n",
    "S = 'abcde' # initial string\n",
    "# queries\n",
    "input_data = [\n",
    "    [1, 'fg'],\n",
    "    [3, 6],\n",
    "    [2, 5],\n",
    "    [4],\n",
    "    [3, 7],\n",
    "    [4],\n",
    "    [3, 4]\n",
    "]\n",
    "# Expected Output:\n",
    "# f\n",
    "# g\n",
    "# d"
   ]
  },
  {
   "cell_type": "markdown",
   "metadata": {},
   "source": [
    "Thought process: Create a class TextEditor that holds functions for each operation type, the append, delete, print, undo. A stack that holds the operations performed and last version of S, to be able to undo them, the variable S that is modified. A function to process the queries by type, calling the respective class methods on the variable S. A results variable to store the prints and output at the end. "
   ]
  },
  {
   "cell_type": "code",
   "execution_count": 30,
   "metadata": {},
   "outputs": [],
   "source": [
    "class TextEditor():\n",
    "    def __init__(self, S: str=None):\n",
    "        if not S:\n",
    "            self.S = [] # Initialize S as empty list\n",
    "        else:\n",
    "            self.S = list(S)\n",
    "        self.previou_states = [] # Initialize previous states list as empty\n",
    "\n",
    "    def append(self, W: str) -> None:\n",
    "        # Append string W to the end of S\n",
    "        self.previou_states.append(''.join(self.S))\n",
    "        self.S.extend(W) # adds each character in W to the list\n",
    "\n",
    "    def delete(self, k: int) -> None:\n",
    "        # Delete the last k characters of S\n",
    "        self.previou_states.append(''.join(self.S))\n",
    "        self.S = self.S[:-k] \n",
    "\n",
    "    def print_char(self, k: int) -> str:\n",
    "        # Print character K to results\n",
    "        return self.S[k - 1]\n",
    "    \n",
    "    def undo(self):\n",
    "        if self.previou_states:\n",
    "            # Undo the last operation of type 1 or 2\n",
    "            last_state = self.previou_states.pop()\n",
    "            self.S = list(last_state)"
   ]
  },
  {
   "cell_type": "code",
   "execution_count": 23,
   "metadata": {},
   "outputs": [],
   "source": [
    "def process_queries(queries, S=None):\n",
    "    editor = TextEditor(S)\n",
    "    results = []\n",
    "\n",
    "    for query in queries:\n",
    "        if query[0] == 1:\n",
    "            editor.append(query[1])\n",
    "        elif query[0] == 2:\n",
    "            editor.delete(query[1])\n",
    "        elif query[0] == 3:\n",
    "            res = editor.print_char(query[1])\n",
    "            results.append(res)\n",
    "        elif query[0] == 4:\n",
    "            editor.undo()\n",
    "        else:\n",
    "            raise ValueError('Query type not supported.')\n",
    "    \n",
    "    return results"
   ]
  },
  {
   "cell_type": "code",
   "execution_count": 29,
   "metadata": {},
   "outputs": [
    {
     "name": "stdout",
     "output_type": "stream",
     "text": [
      "f\n",
      "g\n",
      "d\n"
     ]
    }
   ],
   "source": [
    "if __name__ == \"__main__\":\n",
    "    # test Input\n",
    "    S = 'abcde' # initial string\n",
    "    # queries\n",
    "    input_data = [\n",
    "        [1, 'fg'],\n",
    "        [3, 6],\n",
    "        [2, 5],\n",
    "        [4],\n",
    "        [3, 7],\n",
    "        [4],\n",
    "        [3, 4]\n",
    "    ]\n",
    "    \n",
    "    results = process_queries(input_data, S)\n",
    "    for result in results:\n",
    "        print(result)  # Output results for print operations"
   ]
  },
  {
   "cell_type": "markdown",
   "metadata": {},
   "source": [
    "Worked perfectly and passed all tests, not bad if I say so myself.  \n",
    "Checking improvements. The best one in terms of performance is to change the initial use of the string type for S to a list type, as strings are immutable, it creates one every time a modification is made. Lists are better for performance with deleting and appending. Then when i need the string i can just join all the list elements.  \n",
    "Modifications for this already present. Can also add Error handling, like index k out of bounds and things like that to improve robustness"
   ]
  },
  {
   "cell_type": "markdown",
   "metadata": {},
   "source": [
    "### Lego Blocks"
   ]
  },
  {
   "cell_type": "markdown",
   "metadata": {},
   "source": [
    "You have an infinite number of 4 types of lego blocks of sizes given as (1 x 1 x [1:4]):\n",
    "Using these blocks, you want to make a wall of height  and width n x m. "
   ]
  },
  {
   "cell_type": "markdown",
   "metadata": {},
   "source": [
    "Features of the wall are:\n",
    "\n",
    "- The wall should not have any holes in it.\n",
    "- The wall you build should be one solid structure, so there should not be a straight vertical break across all rows of bricks.\n",
    "- The bricks must be laid horizontally.\n",
    "\n",
    "How many ways can the wall be built?\n",
    "\n",
    "STDIN   Function\n",
    "-----   --------\n",
    "4       t = 4\n",
    "2 2     n = 2, m = 2    3\n",
    "3 2     n = 3, m = 2    7\n",
    "2 3     n = 2, m = 3    9\n",
    "4 4     n = 4, m = 4    3375"
   ]
  },
  {
   "cell_type": "code",
   "execution_count": 23,
   "metadata": {},
   "outputs": [],
   "source": [
    "# Test input\n",
    "input_data = [\n",
    "    [2,2],\n",
    "    [3,2],\n",
    "    [2,3],\n",
    "    [4,4]\n",
    "]"
   ]
  },
  {
   "cell_type": "markdown",
   "metadata": {},
   "source": [
    "Thought process. This is a mathematical combinatorial problem, beyond the point of programming, so instead i'll just get the mathematical solution and then implement it in python.\n",
    "\n",
    "Calculate single row configurations:  \n",
    "f[w]=f[w−1]+f[w−2]+f[w−3]+f[w−4]\n",
    "\n",
    "Calculate Total Ways Ignoring Vertical Breaks:  \n",
    "pn[w]=f[w]**H\n",
    "\n",
    "Calculate Solid Walls:  \n",
    "gn[w]=pn[w]− (i=1)∑(w−1) { gn[i]⋅pn[w−i] }"
   ]
  },
  {
   "cell_type": "code",
   "execution_count": 11,
   "metadata": {},
   "outputs": [],
   "source": [
    "def legoBlocks(H, W):\n",
    "    f = [0] * (W + 1) # Initialize array of zeros for function f\n",
    "    f[0] = 1 # Base value, width zero is 1 block, negative width not considered\n",
    "    MOD = 10**9 + 7\n",
    "    \n",
    "    # Calculate single row configurations\n",
    "    for w in range(1, W + 1): # recurrently fill the array f\n",
    "        if w >= 1:\n",
    "            f[w] += f[w - 1]\n",
    "        if w >= 2:\n",
    "            f[w] += f[w - 2]\n",
    "        if w >= 3:\n",
    "            f[w] += f[w - 3]\n",
    "        if w >= 4:\n",
    "            f[w] += f[w - 4]\n",
    "        f[w] %= MOD # from the problem description\n",
    "    \n",
    "    # Calculate total ways ignoring vertical breaks\n",
    "    pn = [0] * (W + 1) \n",
    "    for w in range(W + 1):\n",
    "        pn[w] = pow(f[w], H, MOD)\n",
    "\n",
    "    # Calculate Solid Walls\n",
    "    gn = [0] * (W + 1)\n",
    "    for w in range(1, W + 1):\n",
    "        gn[w] = pn[w]\n",
    "        for i in range(1, w):\n",
    "            gn[w] -= gn[i]*pn[w -i]\n",
    "            gn[w] %= MOD\n",
    "    \n",
    "    print(f'f(n): {f}')\n",
    "    print(f'pn(n): {pn}')\n",
    "    print(f'gn(n): {gn}')\n",
    "\n",
    "    return gn[W]"
   ]
  },
  {
   "cell_type": "code",
   "execution_count": 21,
   "metadata": {},
   "outputs": [
    {
     "name": "stdout",
     "output_type": "stream",
     "text": [
      "f(n): [1, 1, 2, 4, 8, 15, 29, 56]\n",
      "pn(n): [1, 1, 4, 16, 64, 225, 841, 3136]\n",
      "gn(n): [0, 1, 3, 9, 27, 50, 122, 290]\n"
     ]
    },
    {
     "data": {
      "text/plain": [
       "290"
      ]
     },
     "execution_count": 21,
     "metadata": {},
     "output_type": "execute_result"
    }
   ],
   "source": [
    "legoBlocks(2,7)"
   ]
  },
  {
   "cell_type": "markdown",
   "metadata": {},
   "source": [
    "### Jesse's Cookies"
   ]
  },
  {
   "cell_type": "markdown",
   "metadata": {},
   "source": [
    "Given the sweetness of a number of cookies, determine the minimum number of operations required to reach target sweetness k or more on all cookies. If it is not possible, return -1.  \n",
    "To do this, two cookies with the least sweetness are repeatedly mixed. This creates a special combined cookie with:\n",
    "sweetness = (Least sweet cookie) + (2nd least sweet cookie) * 2"
   ]
  },
  {
   "cell_type": "code",
   "execution_count": 83,
   "metadata": {},
   "outputs": [],
   "source": [
    "# test input\n",
    "k = 7\n",
    "n = 6\n",
    "A = [1, 2, 3, 9, 10, 12]\n",
    "# Expected result :\n",
    "# 2 \n",
    "# A = [23, 20, 16]"
   ]
  },
  {
   "cell_type": "markdown",
   "metadata": {},
   "source": [
    "Thought Process. Take out 2 smalest values in list A, calculate new value, add to list. While list has more than 1 value and at least one value is less than k, repeat."
   ]
  },
  {
   "cell_type": "code",
   "execution_count": 84,
   "metadata": {},
   "outputs": [],
   "source": [
    "def cookies(k, A):\n",
    "    count_ops = 0\n",
    "    if all(sweetness >= k for sweetness in A):\n",
    "        return count_ops\n",
    "    \n",
    "    while len(A) > 1:\n",
    "        A.sort(reverse=True)\n",
    "        print(f'Cookies: {A}')\n",
    "        least_sweet = A.pop()\n",
    "        second_least_sweet = A.pop()\n",
    "        new_cookie = least_sweet + (2 * second_least_sweet)\n",
    "        print(f'New cookie: {new_cookie}')\n",
    "        A.append(new_cookie)\n",
    "        print(f'New Cookies: {A}')\n",
    "        count_ops += 1\n",
    "        print(f'Current number of ops: {count_ops}')\n",
    "\n",
    "        if all(sweetness >= k for sweetness in A):\n",
    "            return count_ops\n",
    "    \n",
    "    if A[0] < k: # Check if last cookie greater than k \n",
    "        return -1\n",
    "    else: \n",
    "        return count_ops"
   ]
  },
  {
   "cell_type": "code",
   "execution_count": 85,
   "metadata": {},
   "outputs": [
    {
     "name": "stdout",
     "output_type": "stream",
     "text": [
      "Cookies: [12, 10, 9, 3, 2, 1]\n",
      "New cookie: 5\n",
      "New Cookies: [12, 10, 9, 3, 5]\n",
      "Current number of ops: 1\n",
      "Cookies: [12, 10, 9, 5, 3]\n",
      "New cookie: 13\n",
      "New Cookies: [12, 10, 9, 13]\n",
      "Current number of ops: 2\n"
     ]
    },
    {
     "data": {
      "text/plain": [
       "2"
      ]
     },
     "execution_count": 85,
     "metadata": {},
     "output_type": "execute_result"
    }
   ],
   "source": [
    "cookies(k, A)"
   ]
  },
  {
   "cell_type": "markdown",
   "metadata": {},
   "source": [
    "Works but is not very performant. Each while loop it sorts the list O(nlogn), splices and creates a new list O(n), checks the list with all() and list comprehension O(n).\n",
    "Can use a min-heap to solve this sorting issue."
   ]
  },
  {
   "cell_type": "code",
   "execution_count": 76,
   "metadata": {},
   "outputs": [],
   "source": [
    "import heapq"
   ]
  },
  {
   "cell_type": "code",
   "execution_count": 77,
   "metadata": {},
   "outputs": [],
   "source": [
    "def cookies(k, A):\n",
    "    heapq.heapify(A)\n",
    "    count_ops = 0\n",
    "\n",
    "    if all(sweetness >= k for sweetness in A):\n",
    "        return count_ops\n",
    "    \n",
    "    while len(A) > 1:\n",
    "        least_sweet = heapq.heappop(A)\n",
    "        second_least_sweet = heapq.heappop(A)\n",
    "        new_cookie = least_sweet + (2 * second_least_sweet)\n",
    "        heapq.heappush(A, new_cookie)\n",
    "        count_ops += 1\n",
    "\n",
    "        if all(sweetness >= k for sweetness in A):\n",
    "            return count_ops\n",
    "    \n",
    "    if A[0] < k: # Check if last cookie greater than k\n",
    "        return -1\n",
    "    else:\n",
    "        return count_ops      "
   ]
  },
  {
   "cell_type": "code",
   "execution_count": 80,
   "metadata": {},
   "outputs": [
    {
     "data": {
      "text/plain": [
       "2"
      ]
     },
     "execution_count": 80,
     "metadata": {},
     "output_type": "execute_result"
    }
   ],
   "source": [
    "cookies(k, A)"
   ]
  },
  {
   "cell_type": "markdown",
   "metadata": {},
   "source": []
  },
  {
   "cell_type": "markdown",
   "metadata": {},
   "source": []
  }
 ],
 "metadata": {
  "kernelspec": {
   "display_name": "Python 3",
   "language": "python",
   "name": "python3"
  },
  "language_info": {
   "codemirror_mode": {
    "name": "ipython",
    "version": 3
   },
   "file_extension": ".py",
   "mimetype": "text/x-python",
   "name": "python",
   "nbconvert_exporter": "python",
   "pygments_lexer": "ipython3",
   "version": "3.13.0"
  }
 },
 "nbformat": 4,
 "nbformat_minor": 2
}
