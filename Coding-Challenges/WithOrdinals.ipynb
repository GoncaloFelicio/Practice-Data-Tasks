{
 "cells": [
  {
   "cell_type": "markdown",
   "id": "ccf7fcb0",
   "metadata": {},
   "source": [
    "### Add Ordinals\n",
    "Given a dict of strings add ordinals to each item and value"
   ]
  },
  {
   "cell_type": "code",
   "execution_count": 2,
   "id": "76e60d62-bc04-4dca-9a42-17d1b4cc382b",
   "metadata": {},
   "outputs": [],
   "source": [
    "glossary_python = {'variables': 'a label assigned to a certain value',\n",
    "                   'list': 'a stored series of values',\n",
    "                   'if statement': 'a logical test applyed to values',\n",
    "                   'for loop': 'a way to automate repetitive tasks'}"
   ]
  },
  {
   "cell_type": "code",
   "execution_count": 6,
   "id": "8e2057b1-5319-433c-ad3d-fcfdd01c9eae",
   "metadata": {
    "collapsed": true,
    "jupyter": {
     "outputs_hidden": true
    },
    "tags": []
   },
   "outputs": [
    {
     "name": "stdout",
     "output_type": "stream",
     "text": [
      "Help on class enumerate in module builtins:\n",
      "\n",
      "class enumerate(object)\n",
      " |  enumerate(iterable, start=0)\n",
      " |  \n",
      " |  Return an enumerate object.\n",
      " |  \n",
      " |    iterable\n",
      " |      an object supporting iteration\n",
      " |  \n",
      " |  The enumerate object yields pairs containing a count (from start, which\n",
      " |  defaults to zero) and a value yielded by the iterable argument.\n",
      " |  \n",
      " |  enumerate is useful for obtaining an indexed list:\n",
      " |      (0, seq[0]), (1, seq[1]), (2, seq[2]), ...\n",
      " |  \n",
      " |  Methods defined here:\n",
      " |  \n",
      " |  __getattribute__(self, name, /)\n",
      " |      Return getattr(self, name).\n",
      " |  \n",
      " |  __iter__(self, /)\n",
      " |      Implement iter(self).\n",
      " |  \n",
      " |  __next__(self, /)\n",
      " |      Implement next(self).\n",
      " |  \n",
      " |  __reduce__(...)\n",
      " |      Return state information for pickling.\n",
      " |  \n",
      " |  ----------------------------------------------------------------------\n",
      " |  Class methods defined here:\n",
      " |  \n",
      " |  __class_getitem__(...) from builtins.type\n",
      " |      See PEP 585\n",
      " |  \n",
      " |  ----------------------------------------------------------------------\n",
      " |  Static methods defined here:\n",
      " |  \n",
      " |  __new__(*args, **kwargs) from builtins.type\n",
      " |      Create and return a new object.  See help(type) for accurate signature.\n",
      "\n"
     ]
    }
   ],
   "source": [
    "help(enumerate)"
   ]
  },
  {
   "cell_type": "code",
   "execution_count": 10,
   "id": "20d621c8-d8fe-401c-9c9a-2b05c3b22e1a",
   "metadata": {},
   "outputs": [],
   "source": [
    "suffix = ['th', 'st', 'nd', 'rd', 'th']"
   ]
  },
  {
   "cell_type": "code",
   "execution_count": 25,
   "id": "dfab02b7-1c68-42e2-b822-4551061afcb1",
   "metadata": {},
   "outputs": [
    {
     "data": {
      "text/plain": [
       "5"
      ]
     },
     "execution_count": 25,
     "metadata": {},
     "output_type": "execute_result"
    }
   ],
   "source": [
    "5 % 10"
   ]
  },
  {
   "cell_type": "code",
   "execution_count": 13,
   "id": "e2cc02fe-37d2-45e6-b653-3639bc6e579d",
   "metadata": {},
   "outputs": [
    {
     "data": {
      "text/plain": [
       "'nd'"
      ]
     },
     "execution_count": 13,
     "metadata": {},
     "output_type": "execute_result"
    }
   ],
   "source": [
    "min(2%10)"
   ]
  },
  {
   "cell_type": "code",
   "execution_count": 9,
   "id": "7dd466a1-ccea-4b75-a420-579e110a2715",
   "metadata": {},
   "outputs": [
    {
     "data": {
      "text/plain": [
       "[(0, ('variables', 'a label assigned to a certain value')),\n",
       " (1, ('list', 'a stored series of values')),\n",
       " (2, ('if statement', 'a logical test applyed to values')),\n",
       " (3, ('for loop', 'a way to automate repetitive tasks'))]"
      ]
     },
     "execution_count": 9,
     "metadata": {},
     "output_type": "execute_result"
    }
   ],
   "source": [
    "list(enumerate(glossary_python.items()))"
   ]
  },
  {
   "cell_type": "code",
   "execution_count": 27,
   "id": "e72771e4-1dab-4fba-8195-c79ddef90727",
   "metadata": {
    "collapsed": true,
    "jupyter": {
     "outputs_hidden": true
    },
    "tags": []
   },
   "outputs": [
    {
     "name": "stdout",
     "output_type": "stream",
     "text": [
      "1st\n",
      "2nd\n",
      "3rd\n",
      "4th\n",
      "5th\n",
      "6th\n",
      "7th\n",
      "8th\n",
      "9th\n",
      "10th\n",
      "11st\n",
      "12nd\n",
      "13rd\n",
      "14th\n",
      "15th\n"
     ]
    }
   ],
   "source": [
    "for n in range(15):\n",
    "    n = n+1\n",
    "    suffix = ['th', 'st', 'nd', 'rd', 'th'][min(n % 10, 4)]\n",
    "    print(str(n) + suffix)"
   ]
  },
  {
   "cell_type": "code",
   "execution_count": 29,
   "id": "eda66b0c-0bdf-4322-a4b8-8145bacf8e2c",
   "metadata": {},
   "outputs": [
    {
     "name": "stdout",
     "output_type": "stream",
     "text": [
      "\t the 1st concept i learned is \"variables\", and its meaning is \"a label assigned to a certain value\"\n",
      "\t the 2nd concept i learned is \"list\", and its meaning is \"a stored series of values\"\n",
      "\t the 3rd concept i learned is \"if statement\", and its meaning is \"a logical test applyed to values\"\n",
      "\t the 4th concept i learned is \"for loop\", and its meaning is \"a way to automate repetitive tasks\"\n"
     ]
    }
   ],
   "source": [
    "for idx, items in enumerate(glossary_python.items()):\n",
    "    idx = idx + 1\n",
    "    suffix = ['th', 'st', 'nd', 'rd', 'th'][min(idx % 10, 4)]\n",
    "    print(f'\\t the {str(idx) + suffix} concept I learned is \\\"{items[0]}\\\", and its meaning is \\\"{items[1]}\\\"')"
   ]
  },
  {
   "cell_type": "code",
   "execution_count": 31,
   "id": "a8e1e7f4-96c0-4734-ad68-f71cf2da5b7a",
   "metadata": {},
   "outputs": [],
   "source": [
    "def ordinal_with_generator(dict_):\n",
    "    for idx, items in enumerate(dict_.items()):\n",
    "        idx = idx + 1\n",
    "        suffix = ['th', 'st', 'nd', 'rd', 'th'][min(idx % 10, 4)]\n",
    "        yield(f'the {str(idx) + suffix} concept i learned is \\\"{items[0]}\\\", and its meaning is \\\"{items[1]}\\\"')"
   ]
  }
 ],
 "metadata": {
  "kernelspec": {
   "display_name": "Python 3 (ipykernel)",
   "language": "python",
   "name": "python3"
  },
  "language_info": {
   "codemirror_mode": {
    "name": "ipython",
    "version": 3
   },
   "file_extension": ".py",
   "mimetype": "text/x-python",
   "name": "python",
   "nbconvert_exporter": "python",
   "pygments_lexer": "ipython3",
   "version": "3.9.7"
  }
 },
 "nbformat": 4,
 "nbformat_minor": 5
}
