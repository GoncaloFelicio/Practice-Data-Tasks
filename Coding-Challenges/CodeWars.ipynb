{
 "cells": [
  {
   "cell_type": "markdown",
   "id": "65b4a88c-0c49-49b8-b63b-22999506ea30",
   "metadata": {},
   "source": [
    "# Code wars challenges "
   ]
  },
  {
   "cell_type": "markdown",
   "id": "6ffccc5a",
   "metadata": {},
   "source": [
    "### Vowel Count\n"
   ]
  },
  {
   "cell_type": "code",
   "execution_count": null,
   "id": "e9094ffa",
   "metadata": {},
   "outputs": [],
   "source": [
    "def get_count(sentence):\n",
    "    newstring = ''.join(sentence.split())\n",
    "    count = 0\n",
    "    for char in newstring:\n",
    "        if char == 'a' or char == 'e' or char == 'i' or char == 'o' or char == 'u':\n",
    "            count += 1\n",
    "    return count"
   ]
  },
  {
   "cell_type": "code",
   "execution_count": null,
   "id": "1f409ae8",
   "metadata": {},
   "outputs": [],
   "source": [
    "test = 'this is a test string'\n",
    "# result should be 5"
   ]
  },
  {
   "cell_type": "code",
   "execution_count": null,
   "id": "29ccfb9b",
   "metadata": {},
   "outputs": [
    {
     "data": {
      "text/plain": [
       "5"
      ]
     },
     "metadata": {},
     "output_type": "display_data"
    }
   ],
   "source": [
    "get_count(test)"
   ]
  },
  {
   "cell_type": "markdown",
   "id": "b272fe30",
   "metadata": {},
   "source": [
    "### Disemvowel a String"
   ]
  },
  {
   "cell_type": "code",
   "execution_count": null,
   "id": "ae3bf1d2",
   "metadata": {},
   "outputs": [],
   "source": [
    "def disemvowel(string_):\n",
    "    vowelsdict = {'a':'', 'e':'', 'i':'', 'o':'', 'u':'',\n",
    "                 'A':'', 'E':'', 'I':'', 'O':'', 'U':'',}\n",
    "    translateTable = string_.maketrans(vowelsdict)\n",
    "    return string_.translate(translateTable)"
   ]
  },
  {
   "cell_type": "markdown",
   "id": "7d41681b",
   "metadata": {},
   "source": [
    "### Square Every Digit"
   ]
  },
  {
   "cell_type": "code",
   "execution_count": null,
   "id": "1f1bd6b7",
   "metadata": {},
   "outputs": [
    {
     "data": {
      "text/plain": [
       "['9', '1', '1', '9']"
      ]
     },
     "metadata": {},
     "output_type": "display_data"
    }
   ],
   "source": [
    "num  = 9119\n",
    "list1 = list(str(num))\n",
    "list1"
   ]
  },
  {
   "cell_type": "code",
   "execution_count": null,
   "id": "616c854c",
   "metadata": {},
   "outputs": [
    {
     "data": {
      "text/plain": [
       "['81', '1', '1', '81']"
      ]
     },
     "metadata": {},
     "output_type": "display_data"
    }
   ],
   "source": [
    "nlist=[]\n",
    "for num in list1:\n",
    "    squareDigit = int(num)**2\n",
    "    nlist.append(str(squareDigit))\n",
    "\n",
    "nlist\n",
    "    "
   ]
  },
  {
   "cell_type": "code",
   "execution_count": null,
   "id": "955e495b",
   "metadata": {},
   "outputs": [
    {
     "data": {
      "text/plain": [
       "811181"
      ]
     },
     "metadata": {},
     "output_type": "display_data"
    }
   ],
   "source": [
    "for num in nlist:\n",
    "    ''.join(num)"
   ]
  },
  {
   "cell_type": "markdown",
   "id": "274a655f",
   "metadata": {},
   "source": [
    "### Sum of multiples of 3 and 5 lower than x"
   ]
  },
  {
   "cell_type": "code",
   "execution_count": null,
   "id": "c7a43d00",
   "metadata": {},
   "outputs": [],
   "source": [
    "num = 10"
   ]
  },
  {
   "cell_type": "code",
   "execution_count": null,
   "id": "2fe69202",
   "metadata": {},
   "outputs": [
    {
     "data": {
      "text/plain": [
       "[0, 3, 5, 6, 9]"
      ]
     },
     "metadata": {},
     "output_type": "display_data"
    }
   ],
   "source": [
    "[x for x in range(num) if x % 3 == 0 or x % 5 == 0]"
   ]
  },
  {
   "cell_type": "code",
   "execution_count": null,
   "id": "64a3eab7",
   "metadata": {},
   "outputs": [
    {
     "data": {
      "text/plain": [
       "[0, 1, 2, 3, 4, 5, 6, 7, 8, 9]"
      ]
     },
     "metadata": {},
     "output_type": "display_data"
    }
   ],
   "source": [
    "num = 10\n",
    "a =list(range(10))\n",
    "a"
   ]
  },
  {
   "cell_type": "code",
   "execution_count": null,
   "id": "baae2e23",
   "metadata": {},
   "outputs": [
    {
     "data": {
      "text/plain": [
       "True"
      ]
     },
     "metadata": {},
     "output_type": "display_data"
    }
   ],
   "source": [
    "bool([0,1,2,3])"
   ]
  },
  {
   "cell_type": "code",
   "execution_count": null,
   "id": "db51e19f",
   "metadata": {},
   "outputs": [],
   "source": [
    "def numfunc(num):\n",
    "    listOfNum = [x for x in range(num) if x % 3 == 0 or x % 5 == 0]\n",
    "    if listOfNum:\n",
    "        return sum(listOfNum[1:])\n",
    "    else:\n",
    "        return 0"
   ]
  },
  {
   "cell_type": "code",
   "execution_count": null,
   "id": "1b7980ed",
   "metadata": {},
   "outputs": [
    {
     "data": {
      "text/plain": [
       "23"
      ]
     },
     "metadata": {},
     "output_type": "display_data"
    }
   ],
   "source": [
    "numfunc(10)"
   ]
  },
  {
   "cell_type": "markdown",
   "id": "3d59e7ce",
   "metadata": {},
   "source": [
    "### Create a phone number from list of numbers"
   ]
  },
  {
   "cell_type": "code",
   "execution_count": null,
   "id": "99923931",
   "metadata": {},
   "outputs": [],
   "source": [
    "phone_list = [1,2,3,4,5,6,7,8,9,0,]"
   ]
  },
  {
   "cell_type": "code",
   "execution_count": null,
   "id": "828a82ca",
   "metadata": {},
   "outputs": [
    {
     "name": "stdout",
     "output_type": "stream",
     "text": [
      "([1, 2, 3]) [4, 5, 6]-[7, 8, 9, 0]\n"
     ]
    }
   ],
   "source": [
    "print(f'({phone_list[0:3]}) {phone_list[3:6]}-{phone_list[6:]}')"
   ]
  },
  {
   "cell_type": "code",
   "execution_count": null,
   "id": "f35c8d78",
   "metadata": {},
   "outputs": [
    {
     "data": {
      "text/plain": [
       "['1', '2', '3', '4', '5', '6', '7', '8', '9', '0']"
      ]
     },
     "metadata": {},
     "output_type": "display_data"
    }
   ],
   "source": [
    "[''.join(str(num)) for num in phone_list]"
   ]
  },
  {
   "cell_type": "markdown",
   "id": "ff93f4b7",
   "metadata": {},
   "source": [
    "OR"
   ]
  },
  {
   "cell_type": "code",
   "execution_count": null,
   "id": "13b6c182",
   "metadata": {},
   "outputs": [
    {
     "data": {
      "text/plain": [
       "['1', '2', '3', '4', '5', '6', '7', '8', '9', '0']"
      ]
     },
     "metadata": {},
     "output_type": "display_data"
    }
   ],
   "source": [
    "list_string = list(map(str ,phone_list))\n",
    "list_string"
   ]
  },
  {
   "cell_type": "code",
   "execution_count": null,
   "id": "85435a0f",
   "metadata": {},
   "outputs": [
    {
     "data": {
      "text/plain": [
       "'1234567890'"
      ]
     },
     "metadata": {},
     "output_type": "display_data"
    }
   ],
   "source": [
    "''.join(list(list_string))"
   ]
  },
  {
   "cell_type": "code",
   "execution_count": null,
   "id": "4a91c2b3",
   "metadata": {},
   "outputs": [
    {
     "data": {
      "text/plain": [
       "'123'"
      ]
     },
     "metadata": {},
     "output_type": "display_data"
    }
   ],
   "source": [
    "''.join(list(list_string)[0:3])"
   ]
  },
  {
   "cell_type": "code",
   "execution_count": null,
   "id": "5b81329b",
   "metadata": {},
   "outputs": [],
   "source": [
    "def create_phone_number(n):\n",
    "    string_list = list(map(str, n))\n",
    "    first_part = ''.join(string_list[0:3])\n",
    "    second_part = ''.join(string_list[3:6])\n",
    "    third_part = ''.join(string_list[6:])\n",
    "    print(f'({first_part}) {second_part}-{third_part}')"
   ]
  },
  {
   "cell_type": "code",
   "execution_count": null,
   "id": "63940cd4",
   "metadata": {},
   "outputs": [
    {
     "name": "stdout",
     "output_type": "stream",
     "text": [
      "(123) 456-7890\n"
     ]
    }
   ],
   "source": [
    "n = [1,2,3,4,5,6,7,8,9,0,]\n",
    "create_phone_number(n)"
   ]
  },
  {
   "cell_type": "markdown",
   "id": "36634865",
   "metadata": {},
   "source": [
    "### Who Likes it?"
   ]
  },
  {
   "cell_type": "code",
   "execution_count": null,
   "id": "70858543",
   "metadata": {},
   "outputs": [],
   "source": [
    "list_of_names = ['alex','jacob','Mia']"
   ]
  },
  {
   "cell_type": "code",
   "execution_count": null,
   "id": "75d14284",
   "metadata": {},
   "outputs": [
    {
     "data": {
      "text/plain": [
       "3"
      ]
     },
     "metadata": {},
     "output_type": "display_data"
    }
   ],
   "source": [
    "len(list_of_names)"
   ]
  },
  {
   "cell_type": "markdown",
   "id": "178c6154",
   "metadata": {},
   "source": [
    "Finished in browser"
   ]
  },
  {
   "cell_type": "markdown",
   "id": "e4a8ecee",
   "metadata": {},
   "source": [
    "### Snail Ordering"
   ]
  },
  {
   "cell_type": "code",
   "execution_count": null,
   "id": "3a5dcaa6",
   "metadata": {},
   "outputs": [],
   "source": [
    "data = [[1, 2, 3, 4],\n",
    "        [12, 13, 14, 5],\n",
    "        [11, 16, 15, 6],\n",
    "        [10, 9, 8, 7]]\n",
    "\n",
    "data2 = [[1, 2, 3],\n",
    "        [4, 5, 6],\n",
    "        [7, 8, 9]]\n",
    "\n",
    "expected = [1, 2, 3, 4, 5, 6, 7, 8, 9, 10, 11, 12, 13, 14, 15, 16]\n",
    "expected2 = [1, 2, 3, 6, 9, 8, 7, 4, 5]\n"
   ]
  },
  {
   "cell_type": "code",
   "execution_count": null,
   "id": "1852e168",
   "metadata": {},
   "outputs": [
    {
     "name": "stdout",
     "output_type": "stream",
     "text": [
      "[5]\n",
      "[5, 6]\n",
      "[5, 6, 5, 14, 13, 12]\n",
      "[]\n"
     ]
    }
   ],
   "source": [
    "unit_test = [[12, 13, 14, 5],\n",
    "            [11, 16, 15, 6],\n",
    "            [10, 9, 8, 7]]\n",
    "\n",
    "len(unit_test)\n",
    "\n",
    "test=[]\n",
    "for row in unit_test:\n",
    "    test += [row[-1]]\n",
    "    print(test)\n",
    "    del [unit_test[-1]]\n",
    "    \n",
    "if unit_test[-1]:\n",
    "    test += unit_test[-1][::-1]\n",
    "    print(test)\n",
    "    del unit_test[-1]\n",
    "\n",
    "print(unit_test)"
   ]
  },
  {
   "cell_type": "code",
   "execution_count": null,
   "id": "cb879d84",
   "metadata": {},
   "outputs": [
    {
     "data": {
      "text/plain": [
       "[7, 8, 9, 10]"
      ]
     },
     "metadata": {},
     "output_type": "display_data"
    }
   ],
   "source": [
    "unit_test[-1][::-1]"
   ]
  },
  {
   "cell_type": "code",
   "execution_count": null,
   "id": "b790e0a2",
   "metadata": {},
   "outputs": [
    {
     "data": {
      "text/plain": [
       "[1, 2, 3, 4, 5, 6, 7, 8, 9, 10, 11, 12, 13, 14, 15, 16]"
      ]
     },
     "metadata": {},
     "output_type": "display_data"
    }
   ],
   "source": [
    "unit_test = [[1, 2, 3, 4],\n",
    "        [12, 13, 14, 5],\n",
    "        [11, 16, 15, 6],\n",
    "        [10, 9, 8, 7]]\n",
    "\n",
    "\n",
    "def SuperSnail(unit_test):\n",
    "    result = []\n",
    "    while len(unit_test) > 0: # go right\n",
    "        result += unit_test[0]\n",
    "        del unit_test[0]\n",
    "        #print(result)\n",
    "        #print(unit_test)\n",
    "\n",
    "        if len(unit_test) > 0: # go down\n",
    "            for row in unit_test:\n",
    "                result += [row[-1]]\n",
    "                del [row[-1]]\n",
    "                #print(result)\n",
    "                #print(unit_test)\n",
    "\n",
    "            if unit_test[-1]: # go left\n",
    "                result += unit_test[-1][::-1]\n",
    "                del unit_test[-1]\n",
    "                #print(result)\n",
    "                #print(unit_test)\n",
    "\n",
    "            for row in reversed(unit_test): # go up\n",
    "                result += [row[0]]\n",
    "                del row[0]\n",
    "                #print(result)\n",
    "                #print(unit_test)\n",
    "\n",
    "    return result\n",
    "result"
   ]
  },
  {
   "cell_type": "code",
   "execution_count": null,
   "id": "88b9431b",
   "metadata": {},
   "outputs": [
    {
     "data": {
      "text/plain": [
       "[1, 2, 3, 4, 5, 6, 7, 8, 9, 10, 11, 12, 13, 14, 15, 16]"
      ]
     },
     "metadata": {},
     "output_type": "display_data"
    }
   ],
   "source": [
    "SuperSnail(unit_test)"
   ]
  },
  {
   "cell_type": "markdown",
   "id": "a09c2490",
   "metadata": {},
   "source": [
    "### Human readable duration format"
   ]
  },
  {
   "cell_type": "code",
   "execution_count": null,
   "id": "e0b319ac",
   "metadata": {},
   "outputs": [],
   "source": [
    "data = 62 # seconds\n",
    "expected = '1 minute and 2 seconds'\n",
    "\n",
    "data2 = 3662\n",
    "expected2 = '1 hour, 1 minute and 2 seconds'\n"
   ]
  },
  {
   "cell_type": "code",
   "execution_count": null,
   "id": "61e54196",
   "metadata": {},
   "outputs": [],
   "source": [
    "def formatduration(seconds):\n",
    "    \n",
    "    DD, Drem = seconds // (24 * 3600), (seconds / (24 *3600)) % 1\n",
    "    HH, Hrem =  int(DD * 24), ( Drem * 24) % 1\n",
    "    MM, Mrem = int(Hrem * 60), (Hrem * 60) % 1\n",
    "    SS = round(Mrem * 60)\n",
    "    \n",
    "    return '{dayVal}{pluralD}{hourVal}{pluralH}{minuteVal}{pluralM}{secondVal}{pluralS}'.format(dayVal = str(DD)+' day' if DD > 0 else '',\n",
    "                                                                                                pluralD = 's' if DD > 1 else '',\n",
    "                                                                                                hourVal = ' '+str(HH)+' hour' if HH > 0 else '',\n",
    "                                                                                                pluralH = 's' if HH > 1 else '',\n",
    "                                                                                                minuteVal = ' '+str(int(MM))+' minute' if MM > 0 else '',\n",
    "                                                                                                pluralM = 's' if MM > 1 else '',\n",
    "                                                                                                secondVal = ' '+str(SS) + ' second'if SS > 0 else '',\n",
    "                                                                                                pluralS = 's' if SS > 1 else '')"
   ]
  },
  {
   "cell_type": "code",
   "execution_count": null,
   "id": "72f6ea9c",
   "metadata": {},
   "outputs": [
    {
     "data": {
      "text/plain": [
       "(1, 0.03333333333333499)"
      ]
     },
     "metadata": {},
     "output_type": "display_data"
    }
   ],
   "source": [
    "seconds = 3662\n",
    "HH, Hrem = seconds // 3600, seconds / 3600 % 1\n",
    "MM, Mrem = int(Hrem * 60), (Hrem * 60) % 1\n",
    "MM,Mrem"
   ]
  },
  {
   "cell_type": "code",
   "execution_count": null,
   "id": "acad1244",
   "metadata": {},
   "outputs": [
    {
     "data": {
      "text/plain": [
       "(1, 0.01722222222222225)"
      ]
     },
     "metadata": {},
     "output_type": "display_data"
    }
   ],
   "source": [
    "HH, Hrem"
   ]
  },
  {
   "cell_type": "code",
   "execution_count": null,
   "id": "ef3dfcac",
   "metadata": {},
   "outputs": [
    {
     "data": {
      "text/plain": [
       "2"
      ]
     },
     "metadata": {},
     "output_type": "display_data"
    }
   ],
   "source": [
    "SS = round(Mrem * 60)\n",
    "SS"
   ]
  },
  {
   "cell_type": "code",
   "execution_count": null,
   "id": "1c39f0e8",
   "metadata": {},
   "outputs": [
    {
     "data": {
      "text/plain": [
       "'3472 days 83328 hours 19 minutes 60 seconds'"
      ]
     },
     "metadata": {},
     "output_type": "display_data"
    }
   ],
   "source": [
    "seconds = 300000000\n",
    "\n",
    "formatduration(seconds)"
   ]
  },
  {
   "cell_type": "code",
   "execution_count": null,
   "id": "78a68cdc",
   "metadata": {},
   "outputs": [
    {
     "name": "stdout",
     "output_type": "stream",
     "text": [
      "31536000 year\n",
      "['9 years']\n",
      "86400 day\n",
      "['9 years', '187 days']\n",
      "3600 hour\n",
      "['9 years', '187 days', '5 hours']\n",
      "60 minute\n",
      "['9 years', '187 days', '5 hours', '20 minutes']\n",
      "1 second\n"
     ]
    },
    {
     "data": {
      "text/plain": [
       "'9 years, 187 days, 5 hours and 20 minutes'"
      ]
     },
     "metadata": {},
     "output_type": "display_data"
    }
   ],
   "source": [
    "seconds = 300000000\n",
    "\n",
    "format_duration(seconds)"
   ]
  },
  {
   "cell_type": "markdown",
   "id": "6ffe1d6d",
   "metadata": {},
   "source": [
    "Other from git  \n",
    "The way this one works is it looks at total seconds and checks if they are greater than number of seconds in: 1 year, 1 day, 1 hour, 1 minute, and 1 second through a for loop. If it is greater, then calculates number of respective time and adds to a list, before adding, runs a pluralize function to plural the time or not. Finnally, it subtracts the time in seconds it just added to the list, and continues the loop, until reaching the degree of second.\n",
    "\n",
    "Last is a super compact f string that adds the list of numbers and words"
   ]
  },
  {
   "cell_type": "code",
   "execution_count": null,
   "id": "c1616b25",
   "metadata": {},
   "outputs": [],
   "source": [
    "def pluralize(n, word):\n",
    "    if n == 1:\n",
    "        return '{} {}'.format(n, word)\n",
    "        \n",
    "    return '{} {}s'.format(n, word)\n",
    "        \n",
    "def format_duration(seconds):\n",
    "    if seconds == 0:\n",
    "        return \"now\"\n",
    "    \n",
    "    ONE_MINUTE = 60\n",
    "    ONE_HOUR = 60 * ONE_MINUTE\n",
    "    ONE_DAY = 24 * ONE_HOUR\n",
    "    ONE_YEAR = 365 * ONE_DAY\n",
    "    \n",
    "    units = (\n",
    "        (ONE_YEAR, 'year'),\n",
    "        (ONE_DAY, 'day'),\n",
    "        (ONE_HOUR, 'hour'),\n",
    "        (ONE_MINUTE, 'minute'),\n",
    "        (1, 'second'),\n",
    "    )\n",
    "        \n",
    "    r = []\n",
    "    for unit in units:\n",
    "        time_period, word = unit\n",
    "        print(time_period, word)\n",
    "        if seconds >= time_period:\n",
    "            n = int(seconds / time_period)\n",
    "            r.append(pluralize(n, word))\n",
    "            print(r)\n",
    "            seconds -= n * time_period\n",
    "    \n",
    "    return ' and'.join(', '.join(r).rsplit(',', 1))"
   ]
  },
  {
   "cell_type": "code",
   "execution_count": null,
   "id": "bf6a6118",
   "metadata": {},
   "outputs": [],
   "source": [
    "r = ['9 years', '187 days', '5 hours', '20 minutes']"
   ]
  },
  {
   "cell_type": "markdown",
   "id": "4ee41da8",
   "metadata": {},
   "source": [
    "joins all elements in list with `', '` then separates last element by the `','` just added"
   ]
  },
  {
   "cell_type": "code",
   "execution_count": null,
   "id": "b36c0f17",
   "metadata": {},
   "outputs": [
    {
     "data": {
      "text/plain": [
       "['9 years, 187 days, 5 hours', ' 20 minutes']"
      ]
     },
     "metadata": {},
     "output_type": "display_data"
    }
   ],
   "source": [
    "a =', '.join(r).rsplit(',',1)\n",
    "a"
   ]
  },
  {
   "cell_type": "markdown",
   "id": "28d36c39",
   "metadata": {},
   "source": [
    "Joins the last element with an `' and'`"
   ]
  },
  {
   "cell_type": "code",
   "execution_count": null,
   "id": "19f83850",
   "metadata": {},
   "outputs": [
    {
     "data": {
      "text/plain": [
       "'9 years, 187 days, 5 hours and 20 minutes'"
      ]
     },
     "metadata": {},
     "output_type": "display_data"
    }
   ],
   "source": [
    "' and'.join(a)"
   ]
  },
  {
   "cell_type": "code",
   "execution_count": null,
   "id": "e22f960b",
   "metadata": {},
   "outputs": [
    {
     "name": "stdout",
     "output_type": "stream",
     "text": [
      "31536000 year\n",
      "86400 day\n",
      "3600 hour\n",
      "60 minute\n",
      "['2 minutes']\n",
      "1 second\n",
      "['2 minutes', '1 second']\n"
     ]
    },
    {
     "data": {
      "text/plain": [
       "'2 minutes and 1 second'"
      ]
     },
     "metadata": {},
     "output_type": "display_data"
    }
   ],
   "source": [
    "seconds = 121\n",
    "\n",
    "format_duration(seconds)"
   ]
  },
  {
   "cell_type": "markdown",
   "id": "2af62811",
   "metadata": {},
   "source": [
    "#### Lessons learned: \n",
    "If code is repeating more than once/twice, make a generic function like for `pluralize` situation that solves it.  \n",
    "If we have several variables that operate on, make a list of them and iterate over. Also good to then print with join.  \n",
    "Don't get stuck in a single method/function and try to force it to work. Make an overall requirements list, and try to see how several options/functions might go about it. Here got stuck on the `.format()` method, even though it was not even needed. "
   ]
  },
  {
   "cell_type": "markdown",
   "id": "af5cdfc5",
   "metadata": {},
   "source": [
    "### Sudoku validator"
   ]
  },
  {
   "cell_type": "markdown",
   "id": "93222fdf",
   "metadata": {},
   "source": [
    "Must not contain any '0'.  \n",
    "Each row and column must have all the digits from 1 to 9."
   ]
  },
  {
   "cell_type": "code",
   "execution_count": null,
   "id": "1319ec1d",
   "metadata": {},
   "outputs": [],
   "source": [
    "data = [\n",
    "  [5, 3, 4, 6, 7, 8, 9, 1, 2],\n",
    "  [6, 7, 2, 1, 9, 5, 3, 4, 8],\n",
    "  [1, 9, 8, 3, 4, 2, 5, 6, 7],\n",
    "  [8, 5, 9, 7, 6, 1, 4, 2, 3],\n",
    "  [4, 2, 6, 8, 5, 3, 7, 9, 1],\n",
    "  [7, 1, 3, 9, 2, 4, 8, 5, 6],\n",
    "  [9, 6, 1, 5, 3, 7, 2, 8, 4],\n",
    "  [2, 8, 7, 4, 1, 9, 6, 3, 5],\n",
    "  [3, 4, 5, 2, 8, 6, 1, 7, 9]\n",
    "]\n",
    "\n",
    "expected = True\n",
    "\n",
    "data2 = [\n",
    "  [5, 3, 4, 6, 7, 8, 9, 1, 2], \n",
    "  [6, 7, 2, 1, 9, 0, 3, 4, 8],\n",
    "  [1, 0, 0, 3, 4, 2, 5, 6, 0],\n",
    "  [8, 5, 9, 7, 6, 1, 0, 2, 0],\n",
    "  [4, 2, 6, 8, 5, 3, 7, 9, 1],\n",
    "  [7, 1, 3, 9, 2, 4, 8, 5, 6],\n",
    "  [9, 0, 1, 5, 3, 7, 2, 1, 4],\n",
    "  [2, 8, 7, 4, 1, 9, 6, 3, 5],\n",
    "  [3, 0, 0, 4, 8, 1, 1, 7, 5]\n",
    "]\n",
    "\n",
    "expected2 = False"
   ]
  },
  {
   "cell_type": "code",
   "execution_count": null,
   "id": "e24836d4",
   "metadata": {},
   "outputs": [
    {
     "data": {
      "text/plain": [
       "1"
      ]
     },
     "metadata": {},
     "output_type": "display_data"
    }
   ],
   "source": [
    "data2[1].count(0)"
   ]
  },
  {
   "cell_type": "code",
   "execution_count": null,
   "id": "69b8b3ef",
   "metadata": {},
   "outputs": [
    {
     "data": {
      "text/plain": [
       "False"
      ]
     },
     "metadata": {},
     "output_type": "display_data"
    }
   ],
   "source": [
    "data_set = set(data2[-1])\n",
    "\n",
    "len(data_set)==len(data2[-1])"
   ]
  },
  {
   "cell_type": "code",
   "execution_count": null,
   "id": "f1695427",
   "metadata": {},
   "outputs": [
    {
     "name": "stdout",
     "output_type": "stream",
     "text": [
      "[5, 3, 4, 6, 7, 8, 9, 1, 2]\n",
      "True\n",
      "[6, 7, 2, 1, 9, 0, 3, 4, 8]\n",
      "False\n",
      "[1, 0, 0, 3, 4, 2, 5, 6, 0]\n",
      "False\n",
      "[8, 5, 9, 7, 6, 1, 0, 2, 0]\n",
      "False\n",
      "[4, 2, 6, 8, 5, 3, 7, 9, 1]\n",
      "True\n",
      "[7, 1, 3, 9, 2, 4, 8, 5, 6]\n",
      "True\n",
      "[9, 0, 1, 5, 3, 7, 2, 1, 4]\n",
      "False\n",
      "[2, 8, 7, 4, 1, 9, 6, 3, 5]\n",
      "True\n",
      "[3, 0, 0, 4, 8, 1, 1, 7, 9]\n",
      "False\n"
     ]
    }
   ],
   "source": [
    "# check for 0's\n",
    "for num in data2:\n",
    "    print(num)\n",
    "    if 0 in num:\n",
    "        print (False)\n",
    "    else:\n",
    "        print (True)"
   ]
  },
  {
   "cell_type": "code",
   "execution_count": null,
   "id": "9f88087a",
   "metadata": {},
   "outputs": [
    {
     "name": "stdout",
     "output_type": "stream",
     "text": [
      "[5, 3, 4, 6, 7, 8, 9, 1, 2]\n",
      "True\n",
      "[6, 7, 2, 1, 9, 0, 3, 4, 8]\n",
      "True\n",
      "[1, 0, 0, 3, 4, 2, 5, 6, 0]\n",
      "False\n",
      "[8, 5, 9, 7, 6, 1, 0, 2, 0]\n",
      "False\n",
      "[4, 2, 6, 8, 5, 3, 7, 9, 1]\n",
      "True\n",
      "[7, 1, 3, 9, 2, 4, 8, 5, 6]\n",
      "True\n",
      "[9, 0, 1, 5, 3, 7, 2, 1, 4]\n",
      "False\n",
      "[2, 8, 7, 4, 1, 9, 6, 3, 5]\n",
      "True\n",
      "[3, 0, 0, 4, 8, 1, 1, 7, 9]\n",
      "False\n"
     ]
    }
   ],
   "source": [
    "# Check rows for duplicates\n",
    "for row in data2:\n",
    "    print(row)\n",
    "    print( len(row) == len(set(row)))"
   ]
  },
  {
   "cell_type": "code",
   "execution_count": null,
   "id": "36202afe",
   "metadata": {},
   "outputs": [
    {
     "data": {
      "text/plain": [
       "[(5, 6, 1, 8, 4, 7, 9, 2, 3),\n",
       " (3, 7, 0, 5, 2, 1, 0, 8, 0),\n",
       " (4, 2, 0, 9, 6, 3, 1, 7, 0),\n",
       " (6, 1, 3, 7, 8, 9, 5, 4, 4),\n",
       " (7, 9, 4, 6, 5, 2, 3, 1, 8),\n",
       " (8, 0, 2, 1, 3, 4, 7, 9, 1),\n",
       " (9, 3, 5, 0, 7, 8, 2, 6, 1),\n",
       " (1, 4, 6, 2, 9, 5, 1, 3, 7),\n",
       " (2, 8, 0, 0, 1, 6, 4, 5, 9)]"
      ]
     },
     "metadata": {},
     "output_type": "display_data"
    }
   ],
   "source": [
    "# transpose the list of lists with zip \n",
    "\n",
    "data2_T =list(zip(*data2))\n",
    "data2_T"
   ]
  },
  {
   "cell_type": "code",
   "execution_count": null,
   "id": "85a85872",
   "metadata": {},
   "outputs": [
    {
     "name": "stdout",
     "output_type": "stream",
     "text": [
      "(5, 6, 1, 8, 4, 7, 9, 2, 3)\n",
      "True\n",
      "(3, 7, 0, 5, 2, 1, 0, 8, 0)\n",
      "False\n",
      "(4, 2, 0, 9, 6, 3, 1, 7, 0)\n",
      "False\n",
      "(6, 1, 3, 7, 8, 9, 5, 4, 4)\n",
      "False\n",
      "(7, 9, 4, 6, 5, 2, 3, 1, 8)\n",
      "True\n",
      "(8, 0, 2, 1, 3, 4, 7, 9, 1)\n",
      "False\n",
      "(9, 3, 5, 0, 7, 8, 2, 6, 1)\n",
      "True\n",
      "(1, 4, 6, 2, 9, 5, 1, 3, 7)\n",
      "False\n",
      "(2, 8, 0, 0, 1, 6, 4, 5, 9)\n",
      "False\n"
     ]
    }
   ],
   "source": [
    "# check columns for duplicates\n",
    "for col in data2_T:\n",
    "    print(col)\n",
    "    print( len(col) == len(set(col)))"
   ]
  },
  {
   "cell_type": "code",
   "execution_count": null,
   "id": "a846c7cf",
   "metadata": {},
   "outputs": [
    {
     "data": {
      "text/plain": [
       "[]"
      ]
     },
     "metadata": {},
     "output_type": "display_data"
    }
   ],
   "source": [
    "# compress to a comprehension\n",
    "check_zeros = [True for num in data if 0 in num]\n",
    "check_zeros"
   ]
  },
  {
   "cell_type": "code",
   "execution_count": null,
   "id": "ec4bd1f0",
   "metadata": {},
   "outputs": [
    {
     "data": {
      "text/plain": [
       "True"
      ]
     },
     "metadata": {},
     "output_type": "display_data"
    }
   ],
   "source": [
    "not any(check_zeros)"
   ]
  },
  {
   "cell_type": "code",
   "execution_count": null,
   "id": "f0d6cf7e",
   "metadata": {},
   "outputs": [
    {
     "data": {
      "text/plain": [
       "[True, True, True, True, True, True, True, True, True]"
      ]
     },
     "metadata": {},
     "output_type": "display_data"
    }
   ],
   "source": [
    "check_row_dupes = [len(row) == len(set(row)) for row in data]\n",
    "check_row_dupes"
   ]
  },
  {
   "cell_type": "code",
   "execution_count": null,
   "id": "76b0cebe",
   "metadata": {},
   "outputs": [
    {
     "data": {
      "text/plain": [
       "True"
      ]
     },
     "metadata": {},
     "output_type": "display_data"
    }
   ],
   "source": [
    "all(check_row_dupes)"
   ]
  },
  {
   "cell_type": "code",
   "execution_count": null,
   "id": "30084785",
   "metadata": {},
   "outputs": [
    {
     "data": {
      "text/plain": [
       "[True, True, True, True, True, True, True, True, True]"
      ]
     },
     "metadata": {},
     "output_type": "display_data"
    }
   ],
   "source": [
    "data2_T =list(zip(*data))\n",
    "check_col_dupes = [len(col) == len(set(col)) for col in data2_T]\n",
    "check_col_dupes"
   ]
  },
  {
   "cell_type": "code",
   "execution_count": null,
   "id": "0b73495e",
   "metadata": {},
   "outputs": [
    {
     "data": {
      "text/plain": [
       "False"
      ]
     },
     "metadata": {},
     "output_type": "display_data"
    }
   ],
   "source": [
    "True and False and True"
   ]
  },
  {
   "cell_type": "code",
   "execution_count": null,
   "id": "4520005f",
   "metadata": {},
   "outputs": [],
   "source": [
    "def valid_solution(board):\n",
    "    # transpose board\n",
    "    board_T =list(zip(*board))\n",
    "    \n",
    "    check_zeros = [True for row in board if 0 in row]\n",
    "        \n",
    "    check_row_dupes = [len(row) == len(set(row)) for row in board]\n",
    "    \n",
    "    check_col_dupes = [len(col) == len(set(col)) for col in board_T]\n",
    "    \n",
    "    return not any(check_zeros) and all(check_row_dupes) and all(check_col_dupes)"
   ]
  },
  {
   "cell_type": "code",
   "execution_count": null,
   "id": "08a02dcf",
   "metadata": {},
   "outputs": [
    {
     "data": {
      "text/plain": [
       "True"
      ]
     },
     "metadata": {},
     "output_type": "display_data"
    }
   ],
   "source": [
    "valid_solution(data)"
   ]
  },
  {
   "cell_type": "code",
   "execution_count": null,
   "id": "90e3fa83",
   "metadata": {},
   "outputs": [
    {
     "data": {
      "text/plain": [
       "False"
      ]
     },
     "metadata": {},
     "output_type": "display_data"
    }
   ],
   "source": [
    "valid_solution(data2)"
   ]
  },
  {
   "cell_type": "code",
   "execution_count": null,
   "id": "8508ed85",
   "metadata": {},
   "outputs": [
    {
     "data": {
      "text/plain": [
       "3"
      ]
     },
     "metadata": {},
     "output_type": "display_data"
    }
   ],
   "source": [
    "data2[0][1]"
   ]
  },
  {
   "cell_type": "code",
   "execution_count": null,
   "id": "45f5860b",
   "metadata": {},
   "outputs": [
    {
     "name": "stdout",
     "output_type": "stream",
     "text": [
      "True\n",
      "True\n",
      "True\n",
      "True\n",
      "True\n",
      "True\n",
      "True\n",
      "True\n",
      "True\n",
      "True\n",
      "True\n",
      "True\n",
      "True\n",
      "True\n",
      "False\n",
      "True\n",
      "True\n",
      "True\n",
      "True\n",
      "False\n",
      "False\n",
      "True\n",
      "True\n",
      "True\n",
      "True\n",
      "True\n",
      "False\n",
      "True\n",
      "True\n",
      "True\n",
      "True\n",
      "True\n",
      "True\n",
      "False\n",
      "True\n",
      "False\n",
      "True\n",
      "True\n",
      "True\n",
      "True\n",
      "True\n",
      "True\n",
      "True\n",
      "True\n",
      "True\n",
      "True\n",
      "True\n",
      "True\n",
      "True\n",
      "True\n",
      "True\n",
      "True\n",
      "True\n",
      "True\n",
      "True\n",
      "False\n",
      "True\n",
      "True\n",
      "True\n",
      "True\n",
      "True\n",
      "True\n",
      "True\n",
      "True\n",
      "True\n",
      "True\n",
      "True\n",
      "True\n",
      "True\n",
      "True\n",
      "True\n",
      "True\n",
      "True\n",
      "False\n",
      "False\n",
      "True\n",
      "True\n",
      "True\n",
      "True\n",
      "True\n",
      "True\n"
     ]
    }
   ],
   "source": [
    "# check for numbers in range 1-9\n",
    "for i in range(len(data2)):\n",
    "    for j in range(len(data2[0])):\n",
    "        if 1 <= data2[i][j] <= 9:\n",
    "            print( True )\n",
    "        else:\n",
    "            print( False )"
   ]
  },
  {
   "cell_type": "code",
   "execution_count": null,
   "id": "e6fffcee",
   "metadata": {},
   "outputs": [],
   "source": [
    "def in_range(board):\n",
    "    try:\n",
    "        for i in range(len(board)):\n",
    "            for j in range(len(board[0])):\n",
    "                if 1 <= board[i][j] <= 9:\n",
    "                    pass\n",
    "                else:\n",
    "                    raise StopIteration\n",
    "        return True\n",
    "    except StopIteration:\n",
    "        return False"
   ]
  },
  {
   "cell_type": "code",
   "execution_count": null,
   "id": "6b89f05a",
   "metadata": {},
   "outputs": [],
   "source": [
    "data3 = [\n",
    "  [5, 3, 4, 6, 7, 8, 9, 1, 2],\n",
    "  [6, 7, 2, 1, 9, 5, 3, 4, 8],\n",
    "  [1, 9, 8, 3, 4, 2, 5, 6, 7],\n",
    "  [8, 5, 9, 7, 6, 1, 4, 2, 3],\n",
    "  [4, 2, 6, 8, 5, 3, 7, 9, 1],\n",
    "  [7, 1, 3, 9, 2, 4, 8, 5, 6],\n",
    "  [9, 6, 1, 8, 3, 7, 2, 8, 4],\n",
    "  [2, 8, 7, 4, 1, 9, 6, 3, 5],\n",
    "  [3, 4, 5, 2, 8, 6, 1, 7, 9]\n",
    "]"
   ]
  },
  {
   "cell_type": "code",
   "execution_count": null,
   "id": "f1a29650",
   "metadata": {},
   "outputs": [
    {
     "data": {
      "text/plain": [
       "True"
      ]
     },
     "metadata": {},
     "output_type": "display_data"
    }
   ],
   "source": [
    "check = in_range(data)\n",
    "check"
   ]
  },
  {
   "cell_type": "code",
   "execution_count": null,
   "id": "b1b6583c",
   "metadata": {},
   "outputs": [
    {
     "name": "stdout",
     "output_type": "stream",
     "text": [
      "Not valid. Found a duplicated number in a row.\n"
     ]
    },
    {
     "data": {
      "text/plain": [
       "False"
      ]
     },
     "metadata": {},
     "output_type": "display_data"
    }
   ],
   "source": [
    "valid_solution2(data3)"
   ]
  },
  {
   "cell_type": "code",
   "execution_count": null,
   "id": "bed787ab",
   "metadata": {},
   "outputs": [],
   "source": [
    "# check a single 3x3 square with initial coordinate n,m\n",
    "def check_square(board, n, m):\n",
    "    s = []\n",
    "    for i in range(n,n+3):\n",
    "        for j in range(m,m+3):\n",
    "            s += [board[i][j]]\n",
    "    s.sort()\n",
    "    if s == [1,2,3,4,5,6,7,8,9]:\n",
    "        return True\n",
    "    return False\n"
   ]
  },
  {
   "cell_type": "code",
   "execution_count": null,
   "id": "3bf52b11",
   "metadata": {},
   "outputs": [
    {
     "data": {
      "text/plain": [
       "[5, 3, 4, 6, 7, 2, 1, 9, 8]"
      ]
     },
     "metadata": {},
     "output_type": "display_data"
    }
   ],
   "source": [
    "n,m = 0,0\n",
    "s = []\n",
    "for i in range(n,n+3):\n",
    "    for j in range(m,m+3):\n",
    "        s += [data[i][j]]\n",
    "s "
   ]
  },
  {
   "cell_type": "code",
   "execution_count": null,
   "id": "41d2268f",
   "metadata": {},
   "outputs": [
    {
     "data": {
      "text/plain": [
       "True"
      ]
     },
     "metadata": {},
     "output_type": "display_data"
    }
   ],
   "source": [
    "check_square(data3, 3, 0)"
   ]
  },
  {
   "cell_type": "code",
   "execution_count": null,
   "id": "5b802ec0",
   "metadata": {},
   "outputs": [],
   "source": [
    "def check_all_squares(board):\n",
    "    try:\n",
    "        for i in range(0,9,3):\n",
    "            for j in range(0,9,3):\n",
    "                if check_square(board, i, j):\n",
    "                    pass\n",
    "                else:\n",
    "                    raise StopIteration\n",
    "    except StopIteration:\n",
    "        print('Square {}x{} is not valid'.format(i,j))\n",
    "        return False"
   ]
  },
  {
   "cell_type": "code",
   "execution_count": null,
   "id": "a05c704f",
   "metadata": {},
   "outputs": [
    {
     "data": {
      "text/plain": [
       "[0, 3, 6]"
      ]
     },
     "metadata": {},
     "output_type": "display_data"
    }
   ],
   "source": [
    "list(range(0,9,3))"
   ]
  },
  {
   "cell_type": "code",
   "execution_count": null,
   "id": "2cfc042d",
   "metadata": {},
   "outputs": [
    {
     "data": {
      "text/plain": [
       "'Square 0x6 is not valid'"
      ]
     },
     "metadata": {},
     "output_type": "display_data"
    }
   ],
   "source": [
    "'Square {}x{} is not valid'.format(0,6)"
   ]
  },
  {
   "cell_type": "markdown",
   "id": "712b80ca",
   "metadata": {},
   "source": [
    "Everything together - Finaly correct"
   ]
  },
  {
   "cell_type": "code",
   "execution_count": null,
   "id": "7a2ef0fd",
   "metadata": {},
   "outputs": [],
   "source": [
    "def in_range(board):\n",
    "    try:\n",
    "        for i in range(len(board)):\n",
    "            for j in range(len(board)):\n",
    "                if 1 <= board[i][j] <= 9:\n",
    "                    pass\n",
    "                else:\n",
    "                    raise StopIteration\n",
    "        return True\n",
    "    except StopIteration:\n",
    "        return False\n",
    "    \n",
    "    \n",
    "# check a single 3x3 square with initial coordinate n,m\n",
    "def check_square(board, n, m):\n",
    "    s = []\n",
    "    for i in range(n,n+3):\n",
    "        for j in range(m,m+3):\n",
    "            s += [board[i][j]]\n",
    "    s.sort()\n",
    "    if s == [1,2,3,4,5,6,7,8,9]:\n",
    "        return True\n",
    "    return False\n",
    "\n",
    "\n",
    "# checks all 3x3 squares with previous function\n",
    "def check_all_squares(board):\n",
    "    try:\n",
    "        for i in range(0,9,3):\n",
    "            for j in range(0,9,3):\n",
    "                if check_square(board, i, j):\n",
    "                    pass\n",
    "                else:\n",
    "                    raise StopIteration\n",
    "        return True\n",
    "    except StopIteration:\n",
    "        print('Square {}x{} is not valid'.format(i,j))\n",
    "        return False\n",
    "    \n",
    "    \n",
    "def valid_solution(board):\n",
    "    # transpose board\n",
    "    board_T =list(zip(*board))\n",
    "    \n",
    "    # check for number inside the range 1-9\n",
    "    check_range = in_range(board)\n",
    "    try:\n",
    "        if check_range:\n",
    "            pass\n",
    "        else:\n",
    "            raise StopIteration\n",
    "    except StopIteration:\n",
    "        print('Not valid. Found a number outside permissable range (1,9).')\n",
    "        return False\n",
    "    \n",
    "    #check for any 0'2 - not necessary after checking the range\n",
    "    check_zeros = [True for row in board if 0 in row]\n",
    "    try:\n",
    "        if not any(check_zeros):\n",
    "            pass\n",
    "        else:\n",
    "            raise StopIteration\n",
    "    except StopIteration:\n",
    "        print('Not valid. Found a zero on the board.')\n",
    "        return False\n",
    "    \n",
    "        \n",
    "    check_row_dupes = [len(row) == len(set(row)) for row in board]\n",
    "    try:\n",
    "        if all (check_row_dupes):\n",
    "            pass\n",
    "        else:\n",
    "            raise StopIteration\n",
    "    except StopIteration:\n",
    "        print('Not valid. Found a duplicated number in a row.')\n",
    "        return False\n",
    "    \n",
    "    check_col_dupes = [len(row) == len(set(row)) for row in board_T]\n",
    "    try:\n",
    "        if all (check_col_dupes):\n",
    "            pass\n",
    "        else:\n",
    "            raise StopIteration\n",
    "    except StopIteration:\n",
    "        print('Not valid. Found a duplicated number in a column.')\n",
    "        return False\n",
    "    \n",
    "    check_squares = check_all_squares(board)\n",
    "    if check_squares:\n",
    "        return True\n",
    "    else:\n",
    "        return False"
   ]
  },
  {
   "cell_type": "code",
   "execution_count": null,
   "id": "0e2baac3",
   "metadata": {},
   "outputs": [
    {
     "name": "stdout",
     "output_type": "stream",
     "text": [
      "Not valid. Found a duplicated number in a row.\n"
     ]
    },
    {
     "data": {
      "text/plain": [
       "False"
      ]
     },
     "metadata": {},
     "output_type": "display_data"
    }
   ],
   "source": [
    "valid_solution(data3)"
   ]
  },
  {
   "cell_type": "markdown",
   "id": "934259c7",
   "metadata": {},
   "source": [
    "### Strip Comments"
   ]
  },
  {
   "cell_type": "code",
   "execution_count": null,
   "id": "c6041a25",
   "metadata": {},
   "outputs": [],
   "source": [
    "# input \n",
    "data = [\"apples, pears # and bananas\\ngrapes\\nbananas !apples\", [\"#\", \"!\"]]"
   ]
  },
  {
   "cell_type": "code",
   "execution_count": null,
   "id": "f26df3df",
   "metadata": {},
   "outputs": [],
   "source": [
    "markers = [\"-\", \"!\"]\n",
    "string_unit_test = \"strawberries\\n- avocados lemons pears apples strawberries'\""
   ]
  },
  {
   "cell_type": "code",
   "execution_count": null,
   "id": "448428f0",
   "metadata": {},
   "outputs": [
    {
     "data": {
      "text/plain": [
       "\"strawberries\\ndel avocados lemons pears apples strawberries'\""
      ]
     },
     "metadata": {},
     "output_type": "display_data"
    }
   ],
   "source": [
    "for marker in markers:\n",
    "    string_unit_test = string_unit_test.replace(marker, 'del')\n",
    "string_unit_test"
   ]
  },
  {
   "cell_type": "code",
   "execution_count": null,
   "id": "c724816e",
   "metadata": {},
   "outputs": [
    {
     "data": {
      "text/plain": [
       "['strawberries', \"del avocados lemons pears apples strawberries',\"]"
      ]
     },
     "metadata": {},
     "output_type": "display_data"
    }
   ],
   "source": [
    "lines = string_unit_test.splitlines()\n",
    "lines"
   ]
  },
  {
   "cell_type": "code",
   "execution_count": null,
   "id": "50f53d05",
   "metadata": {},
   "outputs": [
    {
     "name": "stdout",
     "output_type": "stream",
     "text": [
      "['strawberries']\n",
      "['', \" avocados lemons pears apples strawberries',\"]\n"
     ]
    },
    {
     "data": {
      "text/plain": [
       "['strawberries', '']"
      ]
     },
     "metadata": {},
     "output_type": "display_data"
    }
   ],
   "source": [
    "result = []\n",
    "for string in lines:\n",
    "    strings_split = string.split('del')\n",
    "    print(strings_split)\n",
    "    if len(strings_split) > 1:\n",
    "        result += [strings_split[0]]\n",
    "    else:\n",
    "        result += strings_split\n",
    "        \n",
    "result"
   ]
  },
  {
   "cell_type": "code",
   "execution_count": null,
   "id": "79a80e03",
   "metadata": {},
   "outputs": [
    {
     "data": {
      "text/plain": [
       "'strawberries\\n'"
      ]
     },
     "metadata": {},
     "output_type": "display_data"
    }
   ],
   "source": [
    "'\\n'.join(result)"
   ]
  },
  {
   "cell_type": "code",
   "execution_count": null,
   "id": "9d883a2a",
   "metadata": {},
   "outputs": [],
   "source": [
    "def solution(string,markers):\n",
    "    for marker in markers:\n",
    "        string = string.replace(marker, 'del')\n",
    "    \n",
    "    result = []\n",
    "    for line in string.splitlines():\n",
    "        line_split = line.split('del')\n",
    "        \n",
    "        if len(line_split) > 1:\n",
    "            result += [line_split[0].strip()] # .strip to remove trailing whitespaces\n",
    "        else:\n",
    "            result += line_split\n",
    "    \n",
    "    return '\\n'.join(result)"
   ]
  },
  {
   "cell_type": "code",
   "execution_count": null,
   "id": "636fe18d",
   "metadata": {},
   "outputs": [
    {
     "name": "stdout",
     "output_type": "stream",
     "text": [
      "['apples, pears ', ' and bananas']\n",
      "['grapes']\n",
      "['bananas ', 'apples']\n"
     ]
    },
    {
     "data": {
      "text/plain": [
       "'apples, pears\\ngrapes\\nbananas'"
      ]
     },
     "metadata": {},
     "output_type": "display_data"
    }
   ],
   "source": [
    "solution(\"apples, pears # and bananas\\ngrapes\\nbananas !apples\", [\"#\", \"!\"])"
   ]
  },
  {
   "cell_type": "code",
   "execution_count": null,
   "id": "e11408a9",
   "metadata": {},
   "outputs": [
    {
     "data": {
      "text/plain": [
       "'lemons strawberries \\nstrawberries cherries watermelons lemons\\nstrawberries \\n'"
      ]
     },
     "metadata": {},
     "output_type": "display_data"
    }
   ],
   "source": [
    "solution('lemons strawberries !\\nstrawberries cherries watermelons lemons\\nstrawberries -\\n- avocados lemons pears apples strawberries', ['-', '^', '!', '@', '#', \"'\", '?', ','])"
   ]
  },
  {
   "cell_type": "markdown",
   "id": "25274473",
   "metadata": {},
   "source": [
    "### Range Extraction"
   ]
  },
  {
   "cell_type": "code",
   "execution_count": null,
   "id": "fee629ae",
   "metadata": {},
   "outputs": [],
   "source": [
    "data = ([-10, -9, -8, -6, -3, -2, -1, 0, 1, 3, 4, 5, 7, 8, 9, 10, 11, 14, 15, 17, 18, 19, 20])\n",
    "# returns \"-10--8,-6,-3-1,3-5,7-11,14,15,17-20\""
   ]
  },
  {
   "cell_type": "code",
   "execution_count": null,
   "id": "a78e3145",
   "metadata": {},
   "outputs": [
    {
     "name": "stdout",
     "output_type": "stream",
     "text": [
      "[[-10, -8], [-6], [-3, 1], [3, 5], [7, 11], [14], [15], [17, 20]]\n"
     ]
    },
    {
     "data": {
      "text/plain": [
       "'-10--8,-6,-3-1,3-5,7-11,14,15,17-20'"
      ]
     },
     "metadata": {},
     "output_type": "display_data"
    }
   ],
   "source": [
    "consecutive_list(data)"
   ]
  },
  {
   "cell_type": "code",
   "execution_count": null,
   "id": "1370c56c",
   "metadata": {},
   "outputs": [],
   "source": [
    "unit_test = [-10, -9, -8, -6, -3, -2, -1, 0, 1, 3, 4, 5, 7, 8, 9, 10, 11, 14, 15, 17, 18, 19, 20]"
   ]
  },
  {
   "cell_type": "code",
   "execution_count": null,
   "id": "3206836b",
   "metadata": {},
   "outputs": [],
   "source": [
    "def solution(nums_list):\n",
    "    list_of_lists = []\n",
    "    new_list = [nums_list[0]]\n",
    "    for i in range(1, len(nums_list)):\n",
    "    \n",
    "        if nums_list[i] == nums_list[i-1] + 1:\n",
    "            new_list.append(nums_list[i])\n",
    "\n",
    "        else:\n",
    "            list_of_lists.append(new_list)\n",
    "            #print(new_list)\n",
    "            #print(list_of_lists)\n",
    "            new_list = [nums_list[i]]\n",
    "            #print(new_list)\n",
    "            \n",
    "        if i == len(nums_list) -1:\n",
    "            list_of_lists.append(new_list)\n",
    "        #print(list_of_lists)\n",
    "    \n",
    "    reduced_list = []\n",
    "    for list_a in list_of_lists:\n",
    "        if len(list_a) > 2:\n",
    "            reduced_list.append([list_a[0], list_a[-1]])\n",
    "        elif len(list_a) == 2:\n",
    "            reduced_list.append([list_a[0]])\n",
    "            reduced_list.append([list_a[1]])\n",
    "        else:\n",
    "            reduced_list.append(list_a)\n",
    "    print(reduced_list)\n",
    "\n",
    "    return ','.join(['-'.join(map(str,list_b)) for list_b in reduced_list ])"
   ]
  },
  {
   "cell_type": "code",
   "execution_count": null,
   "id": "727da3c0",
   "metadata": {},
   "outputs": [
    {
     "name": "stdout",
     "output_type": "stream",
     "text": [
      "[]\n",
      "[]\n",
      "[[-10, -9, -8]]\n",
      "[[-10, -9, -8], [-6]]\n",
      "[[-10, -9, -8], [-6]]\n",
      "[[-10, -9, -8], [-6]]\n",
      "[[-10, -9, -8], [-6]]\n",
      "[[-10, -9, -8], [-6]]\n",
      "[[-10, -9, -8], [-6], [-3, -2, -1, 0, 1]]\n",
      "[[-10, -9, -8], [-6], [-3, -2, -1, 0, 1]]\n",
      "[[-10, -9, -8], [-6], [-3, -2, -1, 0, 1]]\n",
      "[[-10, -9, -8], [-6], [-3, -2, -1, 0, 1], [3, 4, 5]]\n",
      "[[-10, -9, -8], [-6], [-3, -2, -1, 0, 1], [3, 4, 5]]\n",
      "[[-10, -9, -8], [-6], [-3, -2, -1, 0, 1], [3, 4, 5]]\n",
      "[[-10, -9, -8], [-6], [-3, -2, -1, 0, 1], [3, 4, 5]]\n",
      "[[-10, -9, -8], [-6], [-3, -2, -1, 0, 1], [3, 4, 5]]\n",
      "[[-10, -9, -8], [-6], [-3, -2, -1, 0, 1], [3, 4, 5], [7, 8, 9, 10, 11]]\n",
      "[[-10, -9, -8], [-6], [-3, -2, -1, 0, 1], [3, 4, 5], [7, 8, 9, 10, 11]]\n",
      "[[-10, -9, -8], [-6], [-3, -2, -1, 0, 1], [3, 4, 5], [7, 8, 9, 10, 11], [14, 15]]\n",
      "[[-10, -9, -8], [-6], [-3, -2, -1, 0, 1], [3, 4, 5], [7, 8, 9, 10, 11], [14, 15]]\n",
      "[[-10, -9, -8], [-6], [-3, -2, -1, 0, 1], [3, 4, 5], [7, 8, 9, 10, 11], [14, 15]]\n",
      "[[-10, -9, -8], [-6], [-3, -2, -1, 0, 1], [3, 4, 5], [7, 8, 9, 10, 11], [14, 15], [17, 18, 19, 20]]\n"
     ]
    }
   ],
   "source": [
    "list_of_lists = []\n",
    "new_list = [unit_test[0]]\n",
    "\n",
    "for i in range(1, len(unit_test)):\n",
    "    \n",
    "    if unit_test[i] == unit_test[i-1] + 1:\n",
    "        new_list.append(unit_test[i])\n",
    "\n",
    "    else:\n",
    "        list_of_lists.append(new_list)\n",
    "        #print(new_list)\n",
    "        #print(list_of_lists)\n",
    "        new_list = [unit_test[i]]\n",
    "        #print(new_list)\n",
    "        \n",
    "    if i == len(unit_test) -1:\n",
    "        list_of_lists.append(new_list)\n",
    "    print(list_of_lists)"
   ]
  },
  {
   "cell_type": "code",
   "execution_count": null,
   "id": "0de67169",
   "metadata": {},
   "outputs": [
    {
     "data": {
      "text/plain": [
       "[[-10, -9, -8], [-6], [-3, -2, -1], [2], [5], [7, 8, 9]]"
      ]
     },
     "metadata": {},
     "output_type": "display_data"
    }
   ],
   "source": [
    "list_of_lists"
   ]
  },
  {
   "cell_type": "code",
   "execution_count": null,
   "id": "a9fa74f9",
   "metadata": {},
   "outputs": [
    {
     "data": {
      "text/plain": [
       "[-10]"
      ]
     },
     "metadata": {},
     "output_type": "display_data"
    }
   ],
   "source": [
    "new_list = [unit_test[0]]\n",
    "new_list"
   ]
  },
  {
   "cell_type": "code",
   "execution_count": null,
   "id": "fc4d3d72",
   "metadata": {},
   "outputs": [
    {
     "data": {
      "text/plain": [
       "[-10, -9]"
      ]
     },
     "metadata": {},
     "output_type": "display_data"
    }
   ],
   "source": [
    "new_list.append(unit_test[1])\n",
    "new_list"
   ]
  },
  {
   "cell_type": "code",
   "execution_count": null,
   "id": "e599c40a",
   "metadata": {},
   "outputs": [],
   "source": [
    "list_of_lists = []\n",
    "new_list = [-10,-9,-8]"
   ]
  },
  {
   "cell_type": "code",
   "execution_count": null,
   "id": "35d131f2",
   "metadata": {},
   "outputs": [
    {
     "data": {
      "text/plain": [
       "[[-10, -9, -8]]"
      ]
     },
     "metadata": {},
     "output_type": "display_data"
    }
   ],
   "source": [
    "list_of_lists.append(new_list)\n",
    "list_of_lists"
   ]
  },
  {
   "cell_type": "code",
   "execution_count": null,
   "id": "c77ec686",
   "metadata": {},
   "outputs": [
    {
     "data": {
      "text/plain": [
       "[[-10, -9, -8], [-6], [-3, -2, -1], [2], [5], [7, 8, 9]]"
      ]
     },
     "metadata": {},
     "output_type": "display_data"
    }
   ],
   "source": [
    "list_of_lists"
   ]
  },
  {
   "cell_type": "code",
   "execution_count": null,
   "id": "22f8b3ae",
   "metadata": {},
   "outputs": [
    {
     "data": {
      "text/plain": [
       "[[-10, -8], [-6], [-3, -1], [2], [5], [7, 9]]"
      ]
     },
     "metadata": {},
     "output_type": "display_data"
    }
   ],
   "source": [
    "correct_list= []\n",
    "for list_ in list_of_lists:\n",
    "    if len(list_) > 1:\n",
    "        correct_list.append([list_[0], list_[-1]])\n",
    "    else:\n",
    "        correct_list.append(list_)\n",
    "correct_list"
   ]
  },
  {
   "cell_type": "code",
   "execution_count": null,
   "id": "9cb50dd9",
   "metadata": {},
   "outputs": [
    {
     "data": {
      "text/plain": [
       "'-10--8, -6, -3--1, 2, 5, 7-9'"
      ]
     },
     "metadata": {},
     "output_type": "display_data"
    }
   ],
   "source": [
    "a = ', '.join(['-'.join(map(str,list_)) for list_ in correct_list ])\n",
    "a"
   ]
  },
  {
   "cell_type": "code",
   "execution_count": null,
   "id": "65557325",
   "metadata": {},
   "outputs": [
    {
     "data": {
      "text/plain": [
       "[(1, 2)]"
      ]
     },
     "metadata": {},
     "output_type": "display_data"
    }
   ],
   "source": [
    "correct_list = []\n",
    "correct_list.append((1, 2))\n",
    "correct_list"
   ]
  },
  {
   "cell_type": "markdown",
   "id": "52a8d436",
   "metadata": {},
   "source": [
    "### Permutations"
   ]
  },
  {
   "cell_type": "code",
   "execution_count": null,
   "id": "69ffffe8",
   "metadata": {},
   "outputs": [],
   "source": [
    "data = 'aabb'\n",
    "expected = ['aabb', 'abab', 'abba', 'baab', 'baba', 'bbaa']"
   ]
  },
  {
   "cell_type": "code",
   "execution_count": null,
   "id": "74695ccf",
   "metadata": {},
   "outputs": [],
   "source": [
    "# can use itertools to get the permutations from an iterable. Would work only if itertools is available.\n",
    "from itertools import combinations\n",
    "from itertools import permutations\n",
    "from itertools import product"
   ]
  },
  {
   "cell_type": "code",
   "execution_count": null,
   "id": "c0cec6c3",
   "metadata": {},
   "outputs": [
    {
     "name": "stdout",
     "output_type": "stream",
     "text": [
      "Help on class combinations in module itertools:\n",
      "\n",
      "class combinations(builtins.object)\n",
      " |  combinations(iterable, r)\n",
      " |  \n",
      " |  Return successive r-length combinations of elements in the iterable.\n",
      " |  \n",
      " |  combinations(range(4), 3) --> (0,1,2), (0,1,3), (0,2,3), (1,2,3)\n",
      " |  \n",
      " |  Methods defined here:\n",
      " |  \n",
      " |  __getattribute__(self, name, /)\n",
      " |      Return getattr(self, name).\n",
      " |  \n",
      " |  __iter__(self, /)\n",
      " |      Implement iter(self).\n",
      " |  \n",
      " |  __next__(self, /)\n",
      " |      Implement next(self).\n",
      " |  \n",
      " |  __reduce__(...)\n",
      " |      Return state information for pickling.\n",
      " |  \n",
      " |  __setstate__(...)\n",
      " |      Set state information for unpickling.\n",
      " |  \n",
      " |  __sizeof__(...)\n",
      " |      Returns size in memory, in bytes.\n",
      " |  \n",
      " |  ----------------------------------------------------------------------\n",
      " |  Static methods defined here:\n",
      " |  \n",
      " |  __new__(*args, **kwargs) from builtins.type\n",
      " |      Create and return a new object.  See help(type) for accurate signature.\n",
      "\n"
     ]
    }
   ],
   "source": [
    "help(combinations)"
   ]
  },
  {
   "cell_type": "code",
   "execution_count": null,
   "id": "2c82fced",
   "metadata": {},
   "outputs": [
    {
     "name": "stdout",
     "output_type": "stream",
     "text": [
      "Help on class permutations in module itertools:\n",
      "\n",
      "class permutations(builtins.object)\n",
      " |  permutations(iterable, r=None)\n",
      " |  \n",
      " |  Return successive r-length permutations of elements in the iterable.\n",
      " |  \n",
      " |  permutations(range(3), 2) --> (0,1), (0,2), (1,0), (1,2), (2,0), (2,1)\n",
      " |  \n",
      " |  Methods defined here:\n",
      " |  \n",
      " |  __getattribute__(self, name, /)\n",
      " |      Return getattr(self, name).\n",
      " |  \n",
      " |  __iter__(self, /)\n",
      " |      Implement iter(self).\n",
      " |  \n",
      " |  __next__(self, /)\n",
      " |      Implement next(self).\n",
      " |  \n",
      " |  __reduce__(...)\n",
      " |      Return state information for pickling.\n",
      " |  \n",
      " |  __setstate__(...)\n",
      " |      Set state information for unpickling.\n",
      " |  \n",
      " |  __sizeof__(...)\n",
      " |      Returns size in memory, in bytes.\n",
      " |  \n",
      " |  ----------------------------------------------------------------------\n",
      " |  Static methods defined here:\n",
      " |  \n",
      " |  __new__(*args, **kwargs) from builtins.type\n",
      " |      Create and return a new object.  See help(type) for accurate signature.\n",
      "\n"
     ]
    }
   ],
   "source": [
    "help(permutations)"
   ]
  },
  {
   "cell_type": "code",
   "execution_count": null,
   "id": "0ab250cd",
   "metadata": {},
   "outputs": [
    {
     "name": "stdout",
     "output_type": "stream",
     "text": [
      "Help on class product in module itertools:\n",
      "\n",
      "class product(builtins.object)\n",
      " |  product(*iterables, repeat=1) --> product object\n",
      " |  \n",
      " |  Cartesian product of input iterables.  Equivalent to nested for-loops.\n",
      " |  \n",
      " |  For example, product(A, B) returns the same as:  ((x,y) for x in A for y in B).\n",
      " |  The leftmost iterators are in the outermost for-loop, so the output tuples\n",
      " |  cycle in a manner similar to an odometer (with the rightmost element changing\n",
      " |  on every iteration).\n",
      " |  \n",
      " |  To compute the product of an iterable with itself, specify the number\n",
      " |  of repetitions with the optional repeat keyword argument. For example,\n",
      " |  product(A, repeat=4) means the same as product(A, A, A, A).\n",
      " |  \n",
      " |  product('ab', range(3)) --> ('a',0) ('a',1) ('a',2) ('b',0) ('b',1) ('b',2)\n",
      " |  product((0,1), (0,1), (0,1)) --> (0,0,0) (0,0,1) (0,1,0) (0,1,1) (1,0,0) ...\n",
      " |  \n",
      " |  Methods defined here:\n",
      " |  \n",
      " |  __getattribute__(self, name, /)\n",
      " |      Return getattr(self, name).\n",
      " |  \n",
      " |  __iter__(self, /)\n",
      " |      Implement iter(self).\n",
      " |  \n",
      " |  __next__(self, /)\n",
      " |      Implement next(self).\n",
      " |  \n",
      " |  __reduce__(...)\n",
      " |      Return state information for pickling.\n",
      " |  \n",
      " |  __setstate__(...)\n",
      " |      Set state information for unpickling.\n",
      " |  \n",
      " |  __sizeof__(...)\n",
      " |      Returns size in memory, in bytes.\n",
      " |  \n",
      " |  ----------------------------------------------------------------------\n",
      " |  Static methods defined here:\n",
      " |  \n",
      " |  __new__(*args, **kwargs) from builtins.type\n",
      " |      Create and return a new object.  See help(type) for accurate signature.\n",
      "\n"
     ]
    }
   ],
   "source": [
    "help(product)"
   ]
  },
  {
   "cell_type": "code",
   "execution_count": null,
   "id": "0f3938ec",
   "metadata": {},
   "outputs": [],
   "source": [
    "test = 'aabb'\n",
    "\n",
    "# remeber that these functions create generators! Need to call them everytime we want a new list printed\n",
    "combs = combinations(test,len(test))\n",
    "perm = permutations (test,len(test))\n",
    "prod = product(test,repeat = len(test))"
   ]
  },
  {
   "cell_type": "code",
   "execution_count": null,
   "id": "01980cc4",
   "metadata": {},
   "outputs": [
    {
     "data": {
      "text/plain": [
       "[('a', 'a', 'b', 'b')]"
      ]
     },
     "metadata": {},
     "output_type": "display_data"
    }
   ],
   "source": [
    "# only returns one element because combinations gives a sorted list, without repetitions, so only this\n",
    "# element satisfies that condition\n",
    "list(combs)"
   ]
  },
  {
   "cell_type": "code",
   "execution_count": null,
   "id": "77f122bb",
   "metadata": {},
   "outputs": [
    {
     "data": {
      "text/plain": [
       "[('a', 'a', 'b', 'b'),\n",
       " ('a', 'a', 'b', 'b'),\n",
       " ('a', 'b', 'a', 'b'),\n",
       " ('a', 'b', 'b', 'a'),\n",
       " ('a', 'b', 'a', 'b'),\n",
       " ('a', 'b', 'b', 'a'),\n",
       " ('a', 'a', 'b', 'b'),\n",
       " ('a', 'a', 'b', 'b'),\n",
       " ('a', 'b', 'a', 'b'),\n",
       " ('a', 'b', 'b', 'a'),\n",
       " ('a', 'b', 'a', 'b'),\n",
       " ('a', 'b', 'b', 'a'),\n",
       " ('b', 'a', 'a', 'b'),\n",
       " ('b', 'a', 'b', 'a'),\n",
       " ('b', 'a', 'a', 'b'),\n",
       " ('b', 'a', 'b', 'a'),\n",
       " ('b', 'b', 'a', 'a'),\n",
       " ('b', 'b', 'a', 'a'),\n",
       " ('b', 'a', 'a', 'b'),\n",
       " ('b', 'a', 'b', 'a'),\n",
       " ('b', 'a', 'a', 'b'),\n",
       " ('b', 'a', 'b', 'a'),\n",
       " ('b', 'b', 'a', 'a'),\n",
       " ('b', 'b', 'a', 'a')]"
      ]
     },
     "metadata": {},
     "output_type": "display_data"
    }
   ],
   "source": [
    "# returns all combinations of the sequence, even repeating elements, as some elements in the sequence are the same\n",
    "# look at first two permutations for example\n",
    "list(perm)"
   ]
  },
  {
   "cell_type": "code",
   "execution_count": null,
   "id": "74141055",
   "metadata": {},
   "outputs": [
    {
     "data": {
      "text/plain": [
       "[('a', 'a', 'a', 'a'),\n",
       " ('a', 'a', 'a', 'a'),\n",
       " ('a', 'a', 'a', 'b'),\n",
       " ('a', 'a', 'a', 'b'),\n",
       " ('a', 'a', 'a', 'a'),\n",
       " ('a', 'a', 'a', 'a'),\n",
       " ('a', 'a', 'a', 'b'),\n",
       " ('a', 'a', 'a', 'b'),\n",
       " ('a', 'a', 'b', 'a'),\n",
       " ('a', 'a', 'b', 'a'),\n",
       " ('a', 'a', 'b', 'b'),\n",
       " ('a', 'a', 'b', 'b'),\n",
       " ('a', 'a', 'b', 'a'),\n",
       " ('a', 'a', 'b', 'a'),\n",
       " ('a', 'a', 'b', 'b'),\n",
       " ('a', 'a', 'b', 'b'),\n",
       " ('a', 'a', 'a', 'a'),\n",
       " ('a', 'a', 'a', 'a'),\n",
       " ('a', 'a', 'a', 'b'),\n",
       " ('a', 'a', 'a', 'b'),\n",
       " ('a', 'a', 'a', 'a'),\n",
       " ('a', 'a', 'a', 'a'),\n",
       " ('a', 'a', 'a', 'b'),\n",
       " ('a', 'a', 'a', 'b'),\n",
       " ('a', 'a', 'b', 'a'),\n",
       " ('a', 'a', 'b', 'a'),\n",
       " ('a', 'a', 'b', 'b'),\n",
       " ('a', 'a', 'b', 'b'),\n",
       " ('a', 'a', 'b', 'a'),\n",
       " ('a', 'a', 'b', 'a'),\n",
       " ('a', 'a', 'b', 'b'),\n",
       " ('a', 'a', 'b', 'b'),\n",
       " ('a', 'b', 'a', 'a'),\n",
       " ('a', 'b', 'a', 'a'),\n",
       " ('a', 'b', 'a', 'b'),\n",
       " ('a', 'b', 'a', 'b'),\n",
       " ('a', 'b', 'a', 'a'),\n",
       " ('a', 'b', 'a', 'a'),\n",
       " ('a', 'b', 'a', 'b'),\n",
       " ('a', 'b', 'a', 'b'),\n",
       " ('a', 'b', 'b', 'a'),\n",
       " ('a', 'b', 'b', 'a'),\n",
       " ('a', 'b', 'b', 'b'),\n",
       " ('a', 'b', 'b', 'b'),\n",
       " ('a', 'b', 'b', 'a'),\n",
       " ('a', 'b', 'b', 'a'),\n",
       " ('a', 'b', 'b', 'b'),\n",
       " ('a', 'b', 'b', 'b'),\n",
       " ('a', 'b', 'a', 'a'),\n",
       " ('a', 'b', 'a', 'a'),\n",
       " ('a', 'b', 'a', 'b'),\n",
       " ('a', 'b', 'a', 'b'),\n",
       " ('a', 'b', 'a', 'a'),\n",
       " ('a', 'b', 'a', 'a'),\n",
       " ('a', 'b', 'a', 'b'),\n",
       " ('a', 'b', 'a', 'b'),\n",
       " ('a', 'b', 'b', 'a'),\n",
       " ('a', 'b', 'b', 'a'),\n",
       " ('a', 'b', 'b', 'b'),\n",
       " ('a', 'b', 'b', 'b'),\n",
       " ('a', 'b', 'b', 'a'),\n",
       " ('a', 'b', 'b', 'a'),\n",
       " ('a', 'b', 'b', 'b'),\n",
       " ('a', 'b', 'b', 'b'),\n",
       " ('a', 'a', 'a', 'a'),\n",
       " ('a', 'a', 'a', 'a'),\n",
       " ('a', 'a', 'a', 'b'),\n",
       " ('a', 'a', 'a', 'b'),\n",
       " ('a', 'a', 'a', 'a'),\n",
       " ('a', 'a', 'a', 'a'),\n",
       " ('a', 'a', 'a', 'b'),\n",
       " ('a', 'a', 'a', 'b'),\n",
       " ('a', 'a', 'b', 'a'),\n",
       " ('a', 'a', 'b', 'a'),\n",
       " ('a', 'a', 'b', 'b'),\n",
       " ('a', 'a', 'b', 'b'),\n",
       " ('a', 'a', 'b', 'a'),\n",
       " ('a', 'a', 'b', 'a'),\n",
       " ('a', 'a', 'b', 'b'),\n",
       " ('a', 'a', 'b', 'b'),\n",
       " ('a', 'a', 'a', 'a'),\n",
       " ('a', 'a', 'a', 'a'),\n",
       " ('a', 'a', 'a', 'b'),\n",
       " ('a', 'a', 'a', 'b'),\n",
       " ('a', 'a', 'a', 'a'),\n",
       " ('a', 'a', 'a', 'a'),\n",
       " ('a', 'a', 'a', 'b'),\n",
       " ('a', 'a', 'a', 'b'),\n",
       " ('a', 'a', 'b', 'a'),\n",
       " ('a', 'a', 'b', 'a'),\n",
       " ('a', 'a', 'b', 'b'),\n",
       " ('a', 'a', 'b', 'b'),\n",
       " ('a', 'a', 'b', 'a'),\n",
       " ('a', 'a', 'b', 'a'),\n",
       " ('a', 'a', 'b', 'b'),\n",
       " ('a', 'a', 'b', 'b'),\n",
       " ('a', 'b', 'a', 'a'),\n",
       " ('a', 'b', 'a', 'a'),\n",
       " ('a', 'b', 'a', 'b'),\n",
       " ('a', 'b', 'a', 'b'),\n",
       " ('a', 'b', 'a', 'a'),\n",
       " ('a', 'b', 'a', 'a'),\n",
       " ('a', 'b', 'a', 'b'),\n",
       " ('a', 'b', 'a', 'b'),\n",
       " ('a', 'b', 'b', 'a'),\n",
       " ('a', 'b', 'b', 'a'),\n",
       " ('a', 'b', 'b', 'b'),\n",
       " ('a', 'b', 'b', 'b'),\n",
       " ('a', 'b', 'b', 'a'),\n",
       " ('a', 'b', 'b', 'a'),\n",
       " ('a', 'b', 'b', 'b'),\n",
       " ('a', 'b', 'b', 'b'),\n",
       " ('a', 'b', 'a', 'a'),\n",
       " ('a', 'b', 'a', 'a'),\n",
       " ('a', 'b', 'a', 'b'),\n",
       " ('a', 'b', 'a', 'b'),\n",
       " ('a', 'b', 'a', 'a'),\n",
       " ('a', 'b', 'a', 'a'),\n",
       " ('a', 'b', 'a', 'b'),\n",
       " ('a', 'b', 'a', 'b'),\n",
       " ('a', 'b', 'b', 'a'),\n",
       " ('a', 'b', 'b', 'a'),\n",
       " ('a', 'b', 'b', 'b'),\n",
       " ('a', 'b', 'b', 'b'),\n",
       " ('a', 'b', 'b', 'a'),\n",
       " ('a', 'b', 'b', 'a'),\n",
       " ('a', 'b', 'b', 'b'),\n",
       " ('a', 'b', 'b', 'b'),\n",
       " ('b', 'a', 'a', 'a'),\n",
       " ('b', 'a', 'a', 'a'),\n",
       " ('b', 'a', 'a', 'b'),\n",
       " ('b', 'a', 'a', 'b'),\n",
       " ('b', 'a', 'a', 'a'),\n",
       " ('b', 'a', 'a', 'a'),\n",
       " ('b', 'a', 'a', 'b'),\n",
       " ('b', 'a', 'a', 'b'),\n",
       " ('b', 'a', 'b', 'a'),\n",
       " ('b', 'a', 'b', 'a'),\n",
       " ('b', 'a', 'b', 'b'),\n",
       " ('b', 'a', 'b', 'b'),\n",
       " ('b', 'a', 'b', 'a'),\n",
       " ('b', 'a', 'b', 'a'),\n",
       " ('b', 'a', 'b', 'b'),\n",
       " ('b', 'a', 'b', 'b'),\n",
       " ('b', 'a', 'a', 'a'),\n",
       " ('b', 'a', 'a', 'a'),\n",
       " ('b', 'a', 'a', 'b'),\n",
       " ('b', 'a', 'a', 'b'),\n",
       " ('b', 'a', 'a', 'a'),\n",
       " ('b', 'a', 'a', 'a'),\n",
       " ('b', 'a', 'a', 'b'),\n",
       " ('b', 'a', 'a', 'b'),\n",
       " ('b', 'a', 'b', 'a'),\n",
       " ('b', 'a', 'b', 'a'),\n",
       " ('b', 'a', 'b', 'b'),\n",
       " ('b', 'a', 'b', 'b'),\n",
       " ('b', 'a', 'b', 'a'),\n",
       " ('b', 'a', 'b', 'a'),\n",
       " ('b', 'a', 'b', 'b'),\n",
       " ('b', 'a', 'b', 'b'),\n",
       " ('b', 'b', 'a', 'a'),\n",
       " ('b', 'b', 'a', 'a'),\n",
       " ('b', 'b', 'a', 'b'),\n",
       " ('b', 'b', 'a', 'b'),\n",
       " ('b', 'b', 'a', 'a'),\n",
       " ('b', 'b', 'a', 'a'),\n",
       " ('b', 'b', 'a', 'b'),\n",
       " ('b', 'b', 'a', 'b'),\n",
       " ('b', 'b', 'b', 'a'),\n",
       " ('b', 'b', 'b', 'a'),\n",
       " ('b', 'b', 'b', 'b'),\n",
       " ('b', 'b', 'b', 'b'),\n",
       " ('b', 'b', 'b', 'a'),\n",
       " ('b', 'b', 'b', 'a'),\n",
       " ('b', 'b', 'b', 'b'),\n",
       " ('b', 'b', 'b', 'b'),\n",
       " ('b', 'b', 'a', 'a'),\n",
       " ('b', 'b', 'a', 'a'),\n",
       " ('b', 'b', 'a', 'b'),\n",
       " ('b', 'b', 'a', 'b'),\n",
       " ('b', 'b', 'a', 'a'),\n",
       " ('b', 'b', 'a', 'a'),\n",
       " ('b', 'b', 'a', 'b'),\n",
       " ('b', 'b', 'a', 'b'),\n",
       " ('b', 'b', 'b', 'a'),\n",
       " ('b', 'b', 'b', 'a'),\n",
       " ('b', 'b', 'b', 'b'),\n",
       " ('b', 'b', 'b', 'b'),\n",
       " ('b', 'b', 'b', 'a'),\n",
       " ('b', 'b', 'b', 'a'),\n",
       " ('b', 'b', 'b', 'b'),\n",
       " ('b', 'b', 'b', 'b'),\n",
       " ('b', 'a', 'a', 'a'),\n",
       " ('b', 'a', 'a', 'a'),\n",
       " ('b', 'a', 'a', 'b'),\n",
       " ('b', 'a', 'a', 'b'),\n",
       " ('b', 'a', 'a', 'a'),\n",
       " ('b', 'a', 'a', 'a'),\n",
       " ('b', 'a', 'a', 'b'),\n",
       " ('b', 'a', 'a', 'b'),\n",
       " ('b', 'a', 'b', 'a'),\n",
       " ('b', 'a', 'b', 'a'),\n",
       " ('b', 'a', 'b', 'b'),\n",
       " ('b', 'a', 'b', 'b'),\n",
       " ('b', 'a', 'b', 'a'),\n",
       " ('b', 'a', 'b', 'a'),\n",
       " ('b', 'a', 'b', 'b'),\n",
       " ('b', 'a', 'b', 'b'),\n",
       " ('b', 'a', 'a', 'a'),\n",
       " ('b', 'a', 'a', 'a'),\n",
       " ('b', 'a', 'a', 'b'),\n",
       " ('b', 'a', 'a', 'b'),\n",
       " ('b', 'a', 'a', 'a'),\n",
       " ('b', 'a', 'a', 'a'),\n",
       " ('b', 'a', 'a', 'b'),\n",
       " ('b', 'a', 'a', 'b'),\n",
       " ('b', 'a', 'b', 'a'),\n",
       " ('b', 'a', 'b', 'a'),\n",
       " ('b', 'a', 'b', 'b'),\n",
       " ('b', 'a', 'b', 'b'),\n",
       " ('b', 'a', 'b', 'a'),\n",
       " ('b', 'a', 'b', 'a'),\n",
       " ('b', 'a', 'b', 'b'),\n",
       " ('b', 'a', 'b', 'b'),\n",
       " ('b', 'b', 'a', 'a'),\n",
       " ('b', 'b', 'a', 'a'),\n",
       " ('b', 'b', 'a', 'b'),\n",
       " ('b', 'b', 'a', 'b'),\n",
       " ('b', 'b', 'a', 'a'),\n",
       " ('b', 'b', 'a', 'a'),\n",
       " ('b', 'b', 'a', 'b'),\n",
       " ('b', 'b', 'a', 'b'),\n",
       " ('b', 'b', 'b', 'a'),\n",
       " ('b', 'b', 'b', 'a'),\n",
       " ('b', 'b', 'b', 'b'),\n",
       " ('b', 'b', 'b', 'b'),\n",
       " ('b', 'b', 'b', 'a'),\n",
       " ('b', 'b', 'b', 'a'),\n",
       " ('b', 'b', 'b', 'b'),\n",
       " ('b', 'b', 'b', 'b'),\n",
       " ('b', 'b', 'a', 'a'),\n",
       " ('b', 'b', 'a', 'a'),\n",
       " ('b', 'b', 'a', 'b'),\n",
       " ('b', 'b', 'a', 'b'),\n",
       " ('b', 'b', 'a', 'a'),\n",
       " ('b', 'b', 'a', 'a'),\n",
       " ('b', 'b', 'a', 'b'),\n",
       " ('b', 'b', 'a', 'b'),\n",
       " ('b', 'b', 'b', 'a'),\n",
       " ('b', 'b', 'b', 'a'),\n",
       " ('b', 'b', 'b', 'b'),\n",
       " ('b', 'b', 'b', 'b'),\n",
       " ('b', 'b', 'b', 'a'),\n",
       " ('b', 'b', 'b', 'a'),\n",
       " ('b', 'b', 'b', 'b'),\n",
       " ('b', 'b', 'b', 'b')]"
      ]
     },
     "metadata": {},
     "output_type": "display_data"
    }
   ],
   "source": [
    "# returns the cartesian product, this is not what we are looking for in this exercise as it creates new elements.\n",
    "list(prod)"
   ]
  },
  {
   "cell_type": "code",
   "execution_count": null,
   "id": "1f5720de",
   "metadata": {},
   "outputs": [
    {
     "data": {
      "text/plain": [
       "[('b', 'a', 'a', 'b'),\n",
       " ('a', 'a', 'b', 'b'),\n",
       " ('b', 'b', 'a', 'a'),\n",
       " ('a', 'b', 'b', 'a'),\n",
       " ('b', 'a', 'b', 'a'),\n",
       " ('a', 'b', 'a', 'b')]"
      ]
     },
     "metadata": {},
     "output_type": "display_data"
    }
   ],
   "source": [
    "unique_perms = list(set(permutations(test,len(test))))\n",
    "unique_perms"
   ]
  },
  {
   "cell_type": "code",
   "execution_count": null,
   "id": "2ae9816a",
   "metadata": {},
   "outputs": [
    {
     "name": "stdout",
     "output_type": "stream",
     "text": [
      "[('a', 'a', 'b', 'b'), ('a', 'b', 'a', 'b'), ('a', 'b', 'b', 'a'), ('b', 'a', 'a', 'b'), ('b', 'a', 'b', 'a'), ('b', 'b', 'a', 'a')]\n"
     ]
    }
   ],
   "source": [
    "unique_perms.sort()\n",
    "print(unique_perms)"
   ]
  },
  {
   "cell_type": "code",
   "execution_count": null,
   "id": "873d3577",
   "metadata": {},
   "outputs": [],
   "source": [
    "result = [''.join(ele) for ele in unique_perms]"
   ]
  },
  {
   "cell_type": "code",
   "execution_count": null,
   "id": "74ca4207",
   "metadata": {},
   "outputs": [
    {
     "data": {
      "text/plain": [
       "True"
      ]
     },
     "metadata": {},
     "output_type": "display_data"
    }
   ],
   "source": [
    "result == expected"
   ]
  },
  {
   "cell_type": "markdown",
   "id": "cd4e5244",
   "metadata": {},
   "source": [
    "#### Solution:"
   ]
  },
  {
   "cell_type": "code",
   "execution_count": null,
   "id": "564cc516",
   "metadata": {},
   "outputs": [],
   "source": [
    "from itertools import permutations\n",
    "\n",
    "def permutations_code(string):\n",
    "    \n",
    "    return result"
   ]
  },
  {
   "cell_type": "code",
   "execution_count": null,
   "id": "92582fcb",
   "metadata": {},
   "outputs": [
    {
     "data": {
      "text/plain": [
       "True"
      ]
     },
     "metadata": {},
     "output_type": "display_data"
    }
   ],
   "source": [
    "permutations_code(data) == expected"
   ]
  },
  {
   "cell_type": "markdown",
   "id": "611dc7d6",
   "metadata": {},
   "source": [
    "Without using itertools, a permutation code must be done by itself (reinventing the wheel in a way). But this works for any language and no need for itertools module"
   ]
  },
  {
   "cell_type": "code",
   "execution_count": null,
   "id": "fa977563",
   "metadata": {},
   "outputs": [],
   "source": [
    "perm_ant = ['a']\n",
    "novo_char = 'b'\n",
    "perm_seg = []\n",
    "for e in perm_ant[:]:\n",
    "    for i in range(len(perm_ant) + 1):\n",
    "        perm_seg.append(e[:i] + novo_char + e[i:])"
   ]
  },
  {
   "cell_type": "code",
   "execution_count": null,
   "id": "d423dd26",
   "metadata": {},
   "outputs": [
    {
     "data": {
      "text/plain": [
       "['ba', 'ab']"
      ]
     },
     "metadata": {},
     "output_type": "display_data"
    }
   ],
   "source": [
    "perm_seg"
   ]
  },
  {
   "cell_type": "code",
   "execution_count": null,
   "id": "e5a6a446",
   "metadata": {},
   "outputs": [],
   "source": [
    "perm_ant = ['ba','ab']\n",
    "novo_char = 'c'\n",
    "perm_seg = []\n",
    "for e in perm_ant[:]:\n",
    "    for i in range(len(perm_ant) + 1):\n",
    "        perm_seg.append(e[:i] + novo_char + e[i:])"
   ]
  },
  {
   "cell_type": "code",
   "execution_count": null,
   "id": "898942b6",
   "metadata": {},
   "outputs": [
    {
     "data": {
      "text/plain": [
       "['cba', 'bca', 'bac', 'cab', 'acb', 'abc']"
      ]
     },
     "metadata": {},
     "output_type": "display_data"
    }
   ],
   "source": [
    "perm_seg"
   ]
  },
  {
   "cell_type": "code",
   "execution_count": null,
   "id": "02a7f731",
   "metadata": {},
   "outputs": [],
   "source": [
    "def my_permutations (string):\n",
    "    if len(string) < 1:\n",
    "        return [string]\n",
    "    else:\n",
    "        perms = []\n",
    "        for e in my_permutations(string[:-1]):\n",
    "            #print(e)\n",
    "            for i in range(len(e)+1):\n",
    "                #print(i)\n",
    "                #print(range(len(e)+1))\n",
    "                perms.append(e[:i] + string[-1] + e[i:])\n",
    "                #print(perms)\n",
    "        return perms"
   ]
  },
  {
   "cell_type": "code",
   "execution_count": null,
   "id": "73f4846f",
   "metadata": {},
   "outputs": [
    {
     "data": {
      "text/plain": [
       "['321', '231', '213', '312', '132', '123']"
      ]
     },
     "metadata": {},
     "output_type": "display_data"
    }
   ],
   "source": [
    "my_permutations('123')"
   ]
  },
  {
   "cell_type": "code",
   "execution_count": null,
   "id": "60cdae52",
   "metadata": {},
   "outputs": [
    {
     "data": {
      "text/plain": [
       "['bbaa',\n",
       " 'bbaa',\n",
       " 'baba',\n",
       " 'baab',\n",
       " 'baba',\n",
       " 'abba',\n",
       " 'abba',\n",
       " 'abab',\n",
       " 'baab',\n",
       " 'abab',\n",
       " 'aabb',\n",
       " 'aabb',\n",
       " 'bbaa',\n",
       " 'bbaa',\n",
       " 'baba',\n",
       " 'baab',\n",
       " 'baba',\n",
       " 'abba',\n",
       " 'abba',\n",
       " 'abab',\n",
       " 'baab',\n",
       " 'abab',\n",
       " 'aabb',\n",
       " 'aabb']"
      ]
     },
     "metadata": {},
     "output_type": "display_data"
    }
   ],
   "source": [
    "my_permutations('aabb')"
   ]
  },
  {
   "cell_type": "code",
   "execution_count": null,
   "id": "d87c3784",
   "metadata": {},
   "outputs": [],
   "source": [
    "def my_permutations (string):\n",
    "    if len(string) < 1:\n",
    "        return [string]\n",
    "    else:\n",
    "        perms = []\n",
    "        for e in my_permutations(string[:-1]):\n",
    "            #print(e)\n",
    "            for i in range(len(e)+1):\n",
    "                #print(i)\n",
    "                #print(range(len(e)+1))\n",
    "                perms.append(e[:i] + string[-1] + e[i:])\n",
    "                #print(perms)\n",
    "        perms = list(set(perms))\n",
    "        perms.sort()\n",
    "        return perms"
   ]
  },
  {
   "cell_type": "code",
   "execution_count": null,
   "id": "5854a17e",
   "metadata": {},
   "outputs": [
    {
     "data": {
      "text/plain": [
       "['aabb', 'abab', 'abba', 'baab', 'baba', 'bbaa']"
      ]
     },
     "metadata": {},
     "output_type": "display_data"
    }
   ],
   "source": [
    "my_permutations('aabb')"
   ]
  },
  {
   "cell_type": "code",
   "execution_count": null,
   "id": "44892741",
   "metadata": {},
   "outputs": [
    {
     "data": {
      "text/plain": [
       "['122', '212', '221']"
      ]
     },
     "metadata": {},
     "output_type": "display_data"
    }
   ],
   "source": [
    "my_permutations('122')"
   ]
  },
  {
   "cell_type": "markdown",
   "id": "60b35248",
   "metadata": {},
   "source": [
    "### Next Bigger number"
   ]
  },
  {
   "cell_type": "code",
   "execution_count": null,
   "id": "799c76d0",
   "metadata": {},
   "outputs": [],
   "source": [
    "data = 12\n",
    "data2 = 315\n",
    "data3 = 2017\n",
    "\n",
    "expected = 21\n",
    "expected2 = 351\n",
    "expected3 = 2071"
   ]
  },
  {
   "cell_type": "code",
   "execution_count": null,
   "id": "3c4ce8a1",
   "metadata": {},
   "outputs": [
    {
     "data": {
      "text/plain": [
       "3"
      ]
     },
     "metadata": {},
     "output_type": "display_data"
    }
   ],
   "source": [
    "len(str(432))"
   ]
  },
  {
   "cell_type": "code",
   "execution_count": null,
   "id": "6f0aee89",
   "metadata": {},
   "outputs": [
    {
     "data": {
      "text/plain": [
       "'123'"
      ]
     },
     "metadata": {},
     "output_type": "display_data"
    }
   ],
   "source": [
    "num = 123\n",
    "''.join(str(num))"
   ]
  },
  {
   "cell_type": "code",
   "execution_count": null,
   "id": "906a9189",
   "metadata": {},
   "outputs": [],
   "source": [
    "def next_bigger(num):\n",
    "    perms = list(set(permutations(str(num),len(str(num)))))\n",
    "    list_of_nums = [''.join(nums) for nums in perms]\n",
    "    list_of_nums.sort()\n",
    "    \n",
    "    next_bigger_num = int(list_of_nums[list_of_nums.index(str(num)) + 1])\n",
    "    return next_bigger_num"
   ]
  },
  {
   "cell_type": "code",
   "execution_count": null,
   "id": "bcd4980d",
   "metadata": {},
   "outputs": [
    {
     "data": {
      "text/plain": [
       "132"
      ]
     },
     "metadata": {},
     "output_type": "display_data"
    }
   ],
   "source": [
    "next_bigger(123)"
   ]
  }
 ],
 "metadata": {
  "kernelspec": {
   "display_name": "Python 3 (ipykernel)",
   "language": "python",
   "name": "python3"
  },
  "language_info": {
   "codemirror_mode": {
    "name": "ipython",
    "version": 3
   },
   "file_extension": ".py",
   "mimetype": "text/x-python",
   "name": "python",
   "nbconvert_exporter": "python",
   "pygments_lexer": "ipython3",
   "version": "3.9.11"
  }
 },
 "nbformat": 4,
 "nbformat_minor": 5
}
