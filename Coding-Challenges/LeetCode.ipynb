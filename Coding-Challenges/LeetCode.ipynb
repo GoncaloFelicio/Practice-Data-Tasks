{
 "cells": [
  {
   "cell_type": "markdown",
   "id": "bb42054b-6c09-4865-b7d2-e94b8a6ec8db",
   "metadata": {},
   "source": [
    "### Same tree\n",
    "given two binary trees, check if they are the same"
   ]
  },
  {
   "cell_type": "code",
   "execution_count": 91,
   "id": "017f84f0-c987-4650-95a0-36cfc380d015",
   "metadata": {},
   "outputs": [],
   "source": [
    "def isSameTree(p, q):\n",
    "    \"\"\"\n",
    "    :type p: TreeNode\n",
    "    :type q: TreeNode\n",
    "    :rtype: bool\n",
    "    \"\"\"\n",
    "    if not p and not q:\n",
    "        return True\n",
    "    if not p or not q:\n",
    "        return False\n",
    "    if p.val != q.val:\n",
    "        return False\n",
    "    return isSameTree(p.right, q.right) and isSameTree(p.left, q.left)"
   ]
  },
  {
   "cell_type": "code",
   "execution_count": 70,
   "id": "de11d8bc-c72d-4aab-9719-0fd4de0b7941",
   "metadata": {},
   "outputs": [],
   "source": [
    "class TreeNode(object):\n",
    "    def __init__(self, val=0, left=None, right=None):\n",
    "        self.val = val\n",
    "        self.left = left\n",
    "        self.right = right"
   ]
  },
  {
   "cell_type": "code",
   "execution_count": 92,
   "id": "084748e3-a0b5-48b8-b8f5-c853e83bbb71",
   "metadata": {},
   "outputs": [],
   "source": [
    "p = TreeNode(1)\n",
    "p.right = TreeNode(2)\n",
    "\n",
    "q = TreeNode(1)\n",
    "q.left = TreeNode(None)\n",
    "q.right = TreeNode(2)"
   ]
  },
  {
   "cell_type": "markdown",
   "id": "d25ac2a2-17ac-45cf-97bc-56e553e2a358",
   "metadata": {},
   "source": [
    "To see if they are equal need to check each val and node. Works by first checking tree vals\n",
    "and then recursively calling the child nodes"
   ]
  },
  {
   "cell_type": "code",
   "execution_count": 93,
   "id": "0f82be31-af83-4a4e-bdb0-65394b2229a5",
   "metadata": {},
   "outputs": [
    {
     "data": {
      "text/plain": [
       "False"
      ]
     },
     "execution_count": 93,
     "metadata": {},
     "output_type": "execute_result"
    }
   ],
   "source": [
    "isSameTree(p, q)"
   ]
  },
  {
   "cell_type": "markdown",
   "id": "5fc8aacc-f5d1-4f34-82e6-ee0aa5d7914e",
   "metadata": {},
   "source": [
    "### Two Sum\n",
    "given an array of integers and a target integer, return indices of array that respective values add up to target integer "
   ]
  },
  {
   "cell_type": "code",
   "execution_count": 117,
   "id": "0ddda583-d1f1-4e71-905f-470af4e55d5c",
   "metadata": {},
   "outputs": [],
   "source": [
    "nums = [2, 7, 11, 15]\n",
    "target = 26"
   ]
  },
  {
   "cell_type": "code",
   "execution_count": 118,
   "id": "c6b4015c-e2fe-49b1-9c42-7a69c9a7fcfb",
   "metadata": {},
   "outputs": [],
   "source": [
    "def twoSum(nums, target):\n",
    "    \"\"\"\n",
    "    :nums: List[int]\n",
    "    :target: int\n",
    "    :return: List[int]\n",
    "    \"\"\"\n",
    "    num_dict = {}\n",
    "    for i, num in enumerate(nums):\n",
    "        complement = target - num\n",
    "        if complement in num_dict:\n",
    "            return [num_dict[complement], i]\n",
    "        num_dict[num] = i\n",
    "    return []"
   ]
  },
  {
   "cell_type": "code",
   "execution_count": 119,
   "id": "69c309ee-39c0-423b-ad98-f32b35dc71de",
   "metadata": {},
   "outputs": [
    {
     "data": {
      "text/plain": [
       "[2, 3]"
      ]
     },
     "execution_count": 119,
     "metadata": {},
     "output_type": "execute_result"
    }
   ],
   "source": [
    "twoSum(nums, target)"
   ]
  },
  {
   "cell_type": "code",
   "execution_count": null,
   "id": "470e8d34-5f6a-4035-ab51-2294282364d6",
   "metadata": {},
   "outputs": [],
   "source": []
  }
 ],
 "metadata": {
  "kernelspec": {
   "display_name": "Python 3 (ipykernel)",
   "language": "python",
   "name": "python3"
  },
  "language_info": {
   "codemirror_mode": {
    "name": "ipython",
    "version": 3
   },
   "file_extension": ".py",
   "mimetype": "text/x-python",
   "name": "python",
   "nbconvert_exporter": "python",
   "pygments_lexer": "ipython3",
   "version": "3.9.12"
  }
 },
 "nbformat": 4,
 "nbformat_minor": 5
}
