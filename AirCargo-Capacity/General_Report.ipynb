{
 "cells": [
  {
   "cell_type": "markdown",
   "metadata": {},
   "source": [
    "### General Report"
   ]
  },
  {
   "cell_type": "markdown",
   "metadata": {},
   "source": [
    "Determine the actual cargo capacity from history data defined from 2 sources:  \n",
    "The number of flights that have traveled between different airports   \n",
    "The total amount of volume and/or weight that can be shipped if an aircraft would\n",
    "be fully packed  \n",
    "\n",
    "Tech used: \n",
    "- Pandas\n",
    "- Seaborn\n",
    "- Scikit-learn"
   ]
  },
  {
   "cell_type": "code",
   "execution_count": 3,
   "metadata": {},
   "outputs": [],
   "source": [
    "import os\n",
    "import pandas as pd\n",
    "import matplotlib.pyplot as plt\n",
    "import seaborn as sns\n",
    "\n",
    "# Set the plot style\n",
    "sns.set_theme(style=\"white\")"
   ]
  },
  {
   "cell_type": "markdown",
   "metadata": {},
   "source": [
    "#### Question 1\n",
    "Access the available datasets and EDA"
   ]
  },
  {
   "cell_type": "markdown",
   "metadata": {},
   "source": [
    "The datasets are CSV and JSON type, easy to read with pandas library and then analyse and process it"
   ]
  },
  {
   "cell_type": "code",
   "execution_count": 4,
   "metadata": {},
   "outputs": [
    {
     "data": {
      "text/html": [
       "<div>\n",
       "<style scoped>\n",
       "    .dataframe tbody tr th:only-of-type {\n",
       "        vertical-align: middle;\n",
       "    }\n",
       "\n",
       "    .dataframe tbody tr th {\n",
       "        vertical-align: top;\n",
       "    }\n",
       "\n",
       "    .dataframe thead th {\n",
       "        text-align: right;\n",
       "    }\n",
       "</style>\n",
       "<table border=\"1\" class=\"dataframe\">\n",
       "  <thead>\n",
       "    <tr style=\"text-align: right;\">\n",
       "      <th></th>\n",
       "      <th>address</th>\n",
       "      <th>altitude</th>\n",
       "      <th>callsign</th>\n",
       "      <th>date</th>\n",
       "      <th>destination_iata</th>\n",
       "      <th>destination_icao</th>\n",
       "      <th>equipment</th>\n",
       "      <th>event</th>\n",
       "      <th>flight</th>\n",
       "      <th>flight_id</th>\n",
       "      <th>latitude</th>\n",
       "      <th>longitude</th>\n",
       "      <th>operator</th>\n",
       "      <th>origin_iata</th>\n",
       "      <th>origin_icao</th>\n",
       "      <th>registration</th>\n",
       "      <th>time</th>\n",
       "    </tr>\n",
       "  </thead>\n",
       "  <tbody>\n",
       "    <tr>\n",
       "      <th>15060</th>\n",
       "      <td>A7946A</td>\n",
       "      <td>32000</td>\n",
       "      <td>JBU1328</td>\n",
       "      <td>2022-10-03</td>\n",
       "      <td>GUA</td>\n",
       "      <td>MGGT</td>\n",
       "      <td>A320</td>\n",
       "      <td>cruising</td>\n",
       "      <td>B61328</td>\n",
       "      <td>766610276</td>\n",
       "      <td>39.85440</td>\n",
       "      <td>-76.10535</td>\n",
       "      <td>JBU</td>\n",
       "      <td>JFK</td>\n",
       "      <td>KJFK</td>\n",
       "      <td>N588JB</td>\n",
       "      <td>00:35:22</td>\n",
       "    </tr>\n",
       "    <tr>\n",
       "      <th>1786</th>\n",
       "      <td>06A0EA</td>\n",
       "      <td>39900</td>\n",
       "      <td>QTR945</td>\n",
       "      <td>2022-10-03</td>\n",
       "      <td>DOH</td>\n",
       "      <td>OTHH</td>\n",
       "      <td>A359</td>\n",
       "      <td>descent</td>\n",
       "      <td>QR945</td>\n",
       "      <td>766571550</td>\n",
       "      <td>24.51911</td>\n",
       "      <td>53.93411</td>\n",
       "      <td>QTR</td>\n",
       "      <td>SIN</td>\n",
       "      <td>WSSS</td>\n",
       "      <td>A7-AMK</td>\n",
       "      <td>01:32:28</td>\n",
       "    </tr>\n",
       "    <tr>\n",
       "      <th>63231</th>\n",
       "      <td>A1ADAB</td>\n",
       "      <td>0</td>\n",
       "      <td>SKW5306</td>\n",
       "      <td>2022-10-03</td>\n",
       "      <td>ACV</td>\n",
       "      <td>KACV</td>\n",
       "      <td>E75L</td>\n",
       "      <td>landed</td>\n",
       "      <td>UA5306</td>\n",
       "      <td>766627600</td>\n",
       "      <td>40.98088</td>\n",
       "      <td>-124.11015</td>\n",
       "      <td>SKW</td>\n",
       "      <td>SFO</td>\n",
       "      <td>KSFO</td>\n",
       "      <td>N207SY</td>\n",
       "      <td>02:22:49</td>\n",
       "    </tr>\n",
       "    <tr>\n",
       "      <th>87263</th>\n",
       "      <td>C81D86</td>\n",
       "      <td>1800</td>\n",
       "      <td>ZKHIW</td>\n",
       "      <td>2022-10-03</td>\n",
       "      <td>TUO</td>\n",
       "      <td>NZAP</td>\n",
       "      <td>R44</td>\n",
       "      <td>takeoff</td>\n",
       "      <td>NaN</td>\n",
       "      <td>766634690</td>\n",
       "      <td>-38.64287</td>\n",
       "      <td>176.09192</td>\n",
       "      <td>NaN</td>\n",
       "      <td>NaN</td>\n",
       "      <td>NaN</td>\n",
       "      <td>ZK-HIW</td>\n",
       "      <td>02:40:13</td>\n",
       "    </tr>\n",
       "    <tr>\n",
       "      <th>33198</th>\n",
       "      <td>AC0B50</td>\n",
       "      <td>35000</td>\n",
       "      <td>SWA1089</td>\n",
       "      <td>2022-10-03</td>\n",
       "      <td>SJC</td>\n",
       "      <td>KSJC</td>\n",
       "      <td>B38M</td>\n",
       "      <td>cruising</td>\n",
       "      <td>WN1089</td>\n",
       "      <td>766618800</td>\n",
       "      <td>22.44502</td>\n",
       "      <td>-155.53340</td>\n",
       "      <td>SWA</td>\n",
       "      <td>HNL</td>\n",
       "      <td>PHNL</td>\n",
       "      <td>N8750Q</td>\n",
       "      <td>01:08:42</td>\n",
       "    </tr>\n",
       "  </tbody>\n",
       "</table>\n",
       "</div>"
      ],
      "text/plain": [
       "      address  altitude callsign        date destination_iata  \\\n",
       "15060  A7946A     32000  JBU1328  2022-10-03              GUA   \n",
       "1786   06A0EA     39900   QTR945  2022-10-03              DOH   \n",
       "63231  A1ADAB         0  SKW5306  2022-10-03              ACV   \n",
       "87263  C81D86      1800    ZKHIW  2022-10-03              TUO   \n",
       "33198  AC0B50     35000  SWA1089  2022-10-03              SJC   \n",
       "\n",
       "      destination_icao equipment     event  flight  flight_id  latitude  \\\n",
       "15060             MGGT      A320  cruising  B61328  766610276  39.85440   \n",
       "1786              OTHH      A359   descent   QR945  766571550  24.51911   \n",
       "63231             KACV      E75L    landed  UA5306  766627600  40.98088   \n",
       "87263             NZAP       R44   takeoff     NaN  766634690 -38.64287   \n",
       "33198             KSJC      B38M  cruising  WN1089  766618800  22.44502   \n",
       "\n",
       "       longitude operator origin_iata origin_icao registration      time  \n",
       "15060  -76.10535      JBU         JFK        KJFK       N588JB  00:35:22  \n",
       "1786    53.93411      QTR         SIN        WSSS       A7-AMK  01:32:28  \n",
       "63231 -124.11015      SKW         SFO        KSFO       N207SY  02:22:49  \n",
       "87263  176.09192      NaN         NaN         NaN       ZK-HIW  02:40:13  \n",
       "33198 -155.53340      SWA         HNL        PHNL       N8750Q  01:08:42  "
      ]
     },
     "execution_count": 4,
     "metadata": {},
     "output_type": "execute_result"
    }
   ],
   "source": [
    "# repo was previously in a zipped folder, and was manually extracted\n",
    "dir = './data/flight_events/' \n",
    "filename = '2022-10-03.csv'\n",
    "flight_events = pd.read_csv(dir+filename, delimiter=';') # Load the CSV\n",
    "sampled_flight_events = flight_events.sample(n=1000)  # Sample 1000 rows for analysis\n",
    "sampled_flight_events.head()"
   ]
  },
  {
   "cell_type": "code",
   "execution_count": 169,
   "metadata": {},
   "outputs": [
    {
     "data": {
      "text/html": [
       "<div>\n",
       "<style scoped>\n",
       "    .dataframe tbody tr th:only-of-type {\n",
       "        vertical-align: middle;\n",
       "    }\n",
       "\n",
       "    .dataframe tbody tr th {\n",
       "        vertical-align: top;\n",
       "    }\n",
       "\n",
       "    .dataframe thead th {\n",
       "        text-align: right;\n",
       "    }\n",
       "</style>\n",
       "<table border=\"1\" class=\"dataframe\">\n",
       "  <thead>\n",
       "    <tr style=\"text-align: right;\">\n",
       "      <th></th>\n",
       "      <th>address</th>\n",
       "      <th>altitude</th>\n",
       "      <th>callsign</th>\n",
       "      <th>date</th>\n",
       "      <th>destination_iata</th>\n",
       "      <th>destination_icao</th>\n",
       "      <th>equipment</th>\n",
       "      <th>event</th>\n",
       "      <th>flight</th>\n",
       "      <th>flight_id</th>\n",
       "      <th>latitude</th>\n",
       "      <th>longitude</th>\n",
       "      <th>operator</th>\n",
       "      <th>origin_iata</th>\n",
       "      <th>origin_icao</th>\n",
       "      <th>registration</th>\n",
       "      <th>time</th>\n",
       "    </tr>\n",
       "  </thead>\n",
       "  <tbody>\n",
       "    <tr>\n",
       "      <th>33145</th>\n",
       "      <td>A97626</td>\n",
       "      <td>0</td>\n",
       "      <td>SKW5949</td>\n",
       "      <td>2022-10-03</td>\n",
       "      <td>SBP</td>\n",
       "      <td>KSBP</td>\n",
       "      <td>CRJ2</td>\n",
       "      <td>gate_departure</td>\n",
       "      <td>UA5949</td>\n",
       "      <td>766618783</td>\n",
       "      <td>37.62079</td>\n",
       "      <td>-122.38635</td>\n",
       "      <td>SKW</td>\n",
       "      <td>SFO</td>\n",
       "      <td>KSFO</td>\n",
       "      <td>N709BR</td>\n",
       "      <td>00:09:05</td>\n",
       "    </tr>\n",
       "    <tr>\n",
       "      <th>33146</th>\n",
       "      <td>A97626</td>\n",
       "      <td>75</td>\n",
       "      <td>SKW5949</td>\n",
       "      <td>2022-10-03</td>\n",
       "      <td>SBP</td>\n",
       "      <td>KSBP</td>\n",
       "      <td>CRJ2</td>\n",
       "      <td>takeoff</td>\n",
       "      <td>UA5949</td>\n",
       "      <td>766618783</td>\n",
       "      <td>37.62357</td>\n",
       "      <td>-122.37259</td>\n",
       "      <td>SKW</td>\n",
       "      <td>SFO</td>\n",
       "      <td>KSFO</td>\n",
       "      <td>N709BR</td>\n",
       "      <td>00:18:21</td>\n",
       "    </tr>\n",
       "    <tr>\n",
       "      <th>33147</th>\n",
       "      <td>A97626</td>\n",
       "      <td>27025</td>\n",
       "      <td>SKW5949</td>\n",
       "      <td>2022-10-03</td>\n",
       "      <td>SBP</td>\n",
       "      <td>KSBP</td>\n",
       "      <td>CRJ2</td>\n",
       "      <td>cruising</td>\n",
       "      <td>UA5949</td>\n",
       "      <td>766618783</td>\n",
       "      <td>36.43681</td>\n",
       "      <td>-121.89635</td>\n",
       "      <td>SKW</td>\n",
       "      <td>SFO</td>\n",
       "      <td>KSFO</td>\n",
       "      <td>N709BR</td>\n",
       "      <td>00:37:59</td>\n",
       "    </tr>\n",
       "    <tr>\n",
       "      <th>33148</th>\n",
       "      <td>A97626</td>\n",
       "      <td>26825</td>\n",
       "      <td>SKW5949</td>\n",
       "      <td>2022-10-03</td>\n",
       "      <td>SBP</td>\n",
       "      <td>KSBP</td>\n",
       "      <td>CRJ2</td>\n",
       "      <td>descent</td>\n",
       "      <td>UA5949</td>\n",
       "      <td>766618783</td>\n",
       "      <td>36.24385</td>\n",
       "      <td>-121.71233</td>\n",
       "      <td>SKW</td>\n",
       "      <td>SFO</td>\n",
       "      <td>KSFO</td>\n",
       "      <td>N709BR</td>\n",
       "      <td>00:38:27</td>\n",
       "    </tr>\n",
       "    <tr>\n",
       "      <th>33149</th>\n",
       "      <td>A97626</td>\n",
       "      <td>0</td>\n",
       "      <td>SKW5949</td>\n",
       "      <td>2022-10-03</td>\n",
       "      <td>SBP</td>\n",
       "      <td>KSBP</td>\n",
       "      <td>CRJ2</td>\n",
       "      <td>landed</td>\n",
       "      <td>UA5949</td>\n",
       "      <td>766618783</td>\n",
       "      <td>35.24131</td>\n",
       "      <td>-120.64609</td>\n",
       "      <td>SKW</td>\n",
       "      <td>SFO</td>\n",
       "      <td>KSFO</td>\n",
       "      <td>N709BR</td>\n",
       "      <td>01:00:19</td>\n",
       "    </tr>\n",
       "  </tbody>\n",
       "</table>\n",
       "</div>"
      ],
      "text/plain": [
       "      address  altitude callsign        date destination_iata  \\\n",
       "33145  A97626         0  SKW5949  2022-10-03              SBP   \n",
       "33146  A97626        75  SKW5949  2022-10-03              SBP   \n",
       "33147  A97626     27025  SKW5949  2022-10-03              SBP   \n",
       "33148  A97626     26825  SKW5949  2022-10-03              SBP   \n",
       "33149  A97626         0  SKW5949  2022-10-03              SBP   \n",
       "\n",
       "      destination_icao equipment           event  flight  flight_id  latitude  \\\n",
       "33145             KSBP      CRJ2  gate_departure  UA5949  766618783  37.62079   \n",
       "33146             KSBP      CRJ2         takeoff  UA5949  766618783  37.62357   \n",
       "33147             KSBP      CRJ2        cruising  UA5949  766618783  36.43681   \n",
       "33148             KSBP      CRJ2         descent  UA5949  766618783  36.24385   \n",
       "33149             KSBP      CRJ2          landed  UA5949  766618783  35.24131   \n",
       "\n",
       "       longitude operator origin_iata origin_icao registration      time  \n",
       "33145 -122.38635      SKW         SFO        KSFO       N709BR  00:09:05  \n",
       "33146 -122.37259      SKW         SFO        KSFO       N709BR  00:18:21  \n",
       "33147 -121.89635      SKW         SFO        KSFO       N709BR  00:37:59  \n",
       "33148 -121.71233      SKW         SFO        KSFO       N709BR  00:38:27  \n",
       "33149 -120.64609      SKW         SFO        KSFO       N709BR  01:00:19  "
      ]
     },
     "execution_count": 169,
     "metadata": {},
     "output_type": "execute_result"
    }
   ],
   "source": [
    "filtered_df = flight_events[flight_events['address'] == 'A97626']\n",
    "filtered_df.head()"
   ]
  },
  {
   "cell_type": "markdown",
   "metadata": {},
   "source": [
    "Each address represents a single airplane, so we could expect rows with the same address to have events like 'Gate_departure', 'Takeoff', 'Cruising', 'Landed', 'Gate_arrival', etc.   \n",
    "For this task the relevant fields are **flight_id, date, destination, equipment, origin**, as flight id is the unique identifier for each flight an aircraft does.  \n",
    "Destination and origin give us the airports this flight traveled, equipment gives the type of aircraft, that can be matched with *airplane_details.json* to get the cargo capacity of that flight."
   ]
  },
  {
   "cell_type": "code",
   "execution_count": 13,
   "metadata": {},
   "outputs": [],
   "source": [
    "def summarize(df, filename, n_rows_to_show=5):\n",
    "    \"\"\"Simply summarize the given DataFrame.\n",
    "    \n",
    "    Parameters:\n",
    "        df: pd.DataFrame, raw DataFrame\n",
    "        n_rows_to_show: int, number of rows to show \n",
    "    \"\"\"\n",
    "    print(f\"=====Summary of {filename}=====\")\n",
    "    print(f\"Shape: {df.shape}\")\n",
    "    \n",
    "    nan_ratio = pd.isna(df).sum() / len(df) * 100\n",
    "    nan_ratio.sort_values(ascending=False, inplace=True)\n",
    "    nan_ratio = nan_ratio.to_frame(name='NaN Ratio').T\n",
    "    print(\"NaN ratio:\")\n",
    "    display(nan_ratio)   "
   ]
  },
  {
   "cell_type": "code",
   "execution_count": 20,
   "metadata": {},
   "outputs": [
    {
     "name": "stdout",
     "output_type": "stream",
     "text": [
      "=====Summary of 2022-10-03.csv=====\n",
      "Shape: (1000, 17)\n",
      "NaN ratio:\n"
     ]
    },
    {
     "data": {
      "text/html": [
       "<div>\n",
       "<style scoped>\n",
       "    .dataframe tbody tr th:only-of-type {\n",
       "        vertical-align: middle;\n",
       "    }\n",
       "\n",
       "    .dataframe tbody tr th {\n",
       "        vertical-align: top;\n",
       "    }\n",
       "\n",
       "    .dataframe thead th {\n",
       "        text-align: right;\n",
       "    }\n",
       "</style>\n",
       "<table border=\"1\" class=\"dataframe\">\n",
       "  <thead>\n",
       "    <tr style=\"text-align: right;\">\n",
       "      <th></th>\n",
       "      <th>flight</th>\n",
       "      <th>operator</th>\n",
       "      <th>origin_iata</th>\n",
       "      <th>origin_icao</th>\n",
       "      <th>destination_iata</th>\n",
       "      <th>destination_icao</th>\n",
       "      <th>callsign</th>\n",
       "      <th>registration</th>\n",
       "      <th>equipment</th>\n",
       "      <th>address</th>\n",
       "      <th>event</th>\n",
       "      <th>altitude</th>\n",
       "      <th>date</th>\n",
       "      <th>longitude</th>\n",
       "      <th>latitude</th>\n",
       "      <th>flight_id</th>\n",
       "      <th>time</th>\n",
       "    </tr>\n",
       "  </thead>\n",
       "  <tbody>\n",
       "    <tr>\n",
       "      <th>NaN Ratio</th>\n",
       "      <td>17.6</td>\n",
       "      <td>16.4</td>\n",
       "      <td>4.8</td>\n",
       "      <td>4.6</td>\n",
       "      <td>4.5</td>\n",
       "      <td>4.3</td>\n",
       "      <td>1.5</td>\n",
       "      <td>0.4</td>\n",
       "      <td>0.2</td>\n",
       "      <td>0.0</td>\n",
       "      <td>0.0</td>\n",
       "      <td>0.0</td>\n",
       "      <td>0.0</td>\n",
       "      <td>0.0</td>\n",
       "      <td>0.0</td>\n",
       "      <td>0.0</td>\n",
       "      <td>0.0</td>\n",
       "    </tr>\n",
       "  </tbody>\n",
       "</table>\n",
       "</div>"
      ],
      "text/plain": [
       "           flight  operator  origin_iata  origin_icao  destination_iata  \\\n",
       "NaN Ratio    17.6      16.4          4.8          4.6               4.5   \n",
       "\n",
       "           destination_icao  callsign  registration  equipment  address  \\\n",
       "NaN Ratio               4.3       1.5           0.4        0.2      0.0   \n",
       "\n",
       "           event  altitude  date  longitude  latitude  flight_id  time  \n",
       "NaN Ratio    0.0       0.0   0.0        0.0       0.0        0.0   0.0  "
      ]
     },
     "metadata": {},
     "output_type": "display_data"
    }
   ],
   "source": [
    "summarize(sampled_flight_events, filename)"
   ]
  },
  {
   "cell_type": "markdown",
   "metadata": {},
   "source": [
    "As expected from the data documentation, there are some missing values in some of the fields. The percentage is low for the relevant fields and the quantity of data is high, 100k rows per CSV."
   ]
  },
  {
   "cell_type": "code",
   "execution_count": 6,
   "metadata": {},
   "outputs": [
    {
     "data": {
      "text/html": [
       "<div>\n",
       "<style scoped>\n",
       "    .dataframe tbody tr th:only-of-type {\n",
       "        vertical-align: middle;\n",
       "    }\n",
       "\n",
       "    .dataframe tbody tr th {\n",
       "        vertical-align: top;\n",
       "    }\n",
       "\n",
       "    .dataframe thead th {\n",
       "        text-align: right;\n",
       "    }\n",
       "</style>\n",
       "<table border=\"1\" class=\"dataframe\">\n",
       "  <thead>\n",
       "    <tr style=\"text-align: right;\">\n",
       "      <th></th>\n",
       "      <th>code_iata</th>\n",
       "      <th>code_icao</th>\n",
       "      <th>full_name</th>\n",
       "      <th>category</th>\n",
       "      <th>average_speed_mph</th>\n",
       "      <th>volume</th>\n",
       "      <th>payload</th>\n",
       "    </tr>\n",
       "  </thead>\n",
       "  <tbody>\n",
       "    <tr>\n",
       "      <th>0</th>\n",
       "      <td>388</td>\n",
       "      <td>A388</td>\n",
       "      <td>Airbus A380-800</td>\n",
       "      <td>A380</td>\n",
       "      <td>550</td>\n",
       "      <td>86.74944</td>\n",
       "      <td>83417.6077</td>\n",
       "    </tr>\n",
       "    <tr>\n",
       "      <th>1</th>\n",
       "      <td>351</td>\n",
       "      <td>A35K</td>\n",
       "      <td>Airbus A350-1000</td>\n",
       "      <td>A350</td>\n",
       "      <td>558</td>\n",
       "      <td>120.12864</td>\n",
       "      <td>66242.9000</td>\n",
       "    </tr>\n",
       "    <tr>\n",
       "      <th>2</th>\n",
       "      <td>788</td>\n",
       "      <td>B788</td>\n",
       "      <td>Boeing B787-8</td>\n",
       "      <td>B787</td>\n",
       "      <td>570</td>\n",
       "      <td>74.78400</td>\n",
       "      <td>40610.8525</td>\n",
       "    </tr>\n",
       "    <tr>\n",
       "      <th>3</th>\n",
       "      <td>M82</td>\n",
       "      <td>MD82</td>\n",
       "      <td>Boeing MD80-82</td>\n",
       "      <td>MD80</td>\n",
       "      <td>461</td>\n",
       "      <td>9.85872</td>\n",
       "      <td>17989.3965</td>\n",
       "    </tr>\n",
       "    <tr>\n",
       "      <th>4</th>\n",
       "      <td>AR8</td>\n",
       "      <td>RJ85</td>\n",
       "      <td>Avro RJ85</td>\n",
       "      <td>RJ</td>\n",
       "      <td>368</td>\n",
       "      <td>3.92160</td>\n",
       "      <td>12136.2925</td>\n",
       "    </tr>\n",
       "  </tbody>\n",
       "</table>\n",
       "</div>"
      ],
      "text/plain": [
       "  code_iata code_icao         full_name category  average_speed_mph  \\\n",
       "0       388      A388   Airbus A380-800     A380                550   \n",
       "1       351      A35K  Airbus A350-1000     A350                558   \n",
       "2       788      B788     Boeing B787-8     B787                570   \n",
       "3       M82      MD82    Boeing MD80-82     MD80                461   \n",
       "4       AR8      RJ85         Avro RJ85       RJ                368   \n",
       "\n",
       "      volume     payload  \n",
       "0   86.74944  83417.6077  \n",
       "1  120.12864  66242.9000  \n",
       "2   74.78400  40610.8525  \n",
       "3    9.85872  17989.3965  \n",
       "4    3.92160  12136.2925  "
      ]
     },
     "execution_count": 6,
     "metadata": {},
     "output_type": "execute_result"
    }
   ],
   "source": [
    "airplane_df = pd.read_json('./data/airplane_details.json', lines=True)\n",
    "airplane_df.head()"
   ]
  },
  {
   "cell_type": "code",
   "execution_count": 28,
   "metadata": {},
   "outputs": [
    {
     "name": "stdout",
     "output_type": "stream",
     "text": [
      "=====Summary of airplane_details.json=====\n",
      "Shape: (100, 7)\n",
      "NaN ratio:\n"
     ]
    },
    {
     "data": {
      "text/html": [
       "<div>\n",
       "<style scoped>\n",
       "    .dataframe tbody tr th:only-of-type {\n",
       "        vertical-align: middle;\n",
       "    }\n",
       "\n",
       "    .dataframe tbody tr th {\n",
       "        vertical-align: top;\n",
       "    }\n",
       "\n",
       "    .dataframe thead th {\n",
       "        text-align: right;\n",
       "    }\n",
       "</style>\n",
       "<table border=\"1\" class=\"dataframe\">\n",
       "  <thead>\n",
       "    <tr style=\"text-align: right;\">\n",
       "      <th></th>\n",
       "      <th>volume</th>\n",
       "      <th>category</th>\n",
       "      <th>code_iata</th>\n",
       "      <th>full_name</th>\n",
       "      <th>code_icao</th>\n",
       "      <th>average_speed_mph</th>\n",
       "      <th>payload</th>\n",
       "    </tr>\n",
       "  </thead>\n",
       "  <tbody>\n",
       "    <tr>\n",
       "      <th>NaN Ratio</th>\n",
       "      <td>43.0</td>\n",
       "      <td>1.0</td>\n",
       "      <td>0.0</td>\n",
       "      <td>0.0</td>\n",
       "      <td>0.0</td>\n",
       "      <td>0.0</td>\n",
       "      <td>0.0</td>\n",
       "    </tr>\n",
       "  </tbody>\n",
       "</table>\n",
       "</div>"
      ],
      "text/plain": [
       "           volume  category  code_iata  full_name  code_icao  \\\n",
       "NaN Ratio    43.0       1.0        0.0        0.0        0.0   \n",
       "\n",
       "           average_speed_mph  payload  \n",
       "NaN Ratio                0.0      0.0  "
      ]
     },
     "metadata": {},
     "output_type": "display_data"
    }
   ],
   "source": [
    "summarize(airplane_df, filename2)"
   ]
  },
  {
   "cell_type": "markdown",
   "metadata": {},
   "source": [
    "Volume data[m3] is missing in half the airplanes but payload[kg] is 100% present, the matching column is code_icao, the ICAO Aircraft Type designator"
   ]
  },
  {
   "cell_type": "markdown",
   "metadata": {},
   "source": [
    "When it comes to calculating the actual cargo capacity of a flight, its extremely important both the volume capacity and the payload capacity. Missing half the data on volume capacity means the analysis will be significantly impacted as, even if we have perfect cargo capacity assessment in terms of weight, different cargo have different densities, and without satisfying the volume capacity constraint, we can't determine if an aircraft can carry the cargo at all.\n",
    "\n",
    "Possible solutions to this are:\n",
    "- removing all the aircraft types that dont have volume data available, but this could end up with a severely reduced data size and representativeness.\n",
    "- estimating a volume capacity based on similar aircraft categories, this requires additional data that can identify which categories are similar, and increases innacuracy, from being an estimation\n",
    "- estimate volume from other fields like payload values, this also increases innacuracy, possibly even more than the category field, if the correlation is not strong enough"
   ]
  },
  {
   "cell_type": "code",
   "execution_count": 77,
   "metadata": {},
   "outputs": [
    {
     "data": {
      "image/png": "[encoded data removed]",
      "text/plain": [
       "<Figure size 800x600 with 1 Axes>"
      ]
     },
     "metadata": {},
     "output_type": "display_data"
    }
   ],
   "source": [
    "# Drop rows with missing values for visualization\n",
    "df_clean = airplane_df.dropna()\n",
    "\n",
    "# Scatter plot\n",
    "plt.figure(figsize=(8, 6))\n",
    "sns.regplot(data=df_clean, x='payload', y='volume')\n",
    "plt.title('Scatter Plot of Volume vs. Payload')\n",
    "plt.xlabel('Payload (kg)')\n",
    "plt.ylabel('Volume (m³)')\n",
    "plt.grid()\n",
    "plt.show()"
   ]
  },
  {
   "cell_type": "markdown",
   "metadata": {},
   "source": [
    "The relation seems linear for lower and mid values of payload, but higher payload values seem to plateau, giving more a logistic relation. There also seems to exist a huge outlier in the data that could be an error."
   ]
  },
  {
   "cell_type": "code",
   "execution_count": null,
   "metadata": {},
   "outputs": [
    {
     "data": {
      "text/plain": [
       "code_iata                     M11\n",
       "code_icao                    MD11\n",
       "full_name            Boeing MD-11\n",
       "category                    MD-11\n",
       "average_speed_mph             522\n",
       "volume                  490.95696\n",
       "payload                52037.2584\n",
       "Name: 18, dtype: object"
      ]
     },
     "metadata": {},
     "output_type": "display_data"
    }
   ],
   "source": [
    "max_volume_index = df_clean['volume'].idxmax()\n",
    "max_volume_row = df_clean.loc[max_volume_index]\n",
    "max_volume_row"
   ]
  },
  {
   "cell_type": "markdown",
   "metadata": {},
   "source": [
    "Researching online this aircraft is already retired, and the volume cargo capacity was high, around 300m3, but not the reported 500, so indeed seems an error but without repercussions as it should not match any equipment in flight."
   ]
  },
  {
   "cell_type": "code",
   "execution_count": null,
   "metadata": {},
   "outputs": [
    {
     "name": "stdout",
     "output_type": "stream",
     "text": [
      "Correlation between Volume and Payload: 0.6139093489530223\n"
     ]
    }
   ],
   "source": [
    "correlation = df_clean['volume'].corr(df_clean['payload'])\n",
    "print(f'Correlation between Volume and Payload: {correlation}')"
   ]
  },
  {
   "cell_type": "code",
   "execution_count": 83,
   "metadata": {},
   "outputs": [
    {
     "name": "stderr",
     "output_type": "stream",
     "text": [
      "C:\\Users\\Goncalo\\AppData\\Local\\Temp\\ipykernel_11912\\746754551.py:12: FutureWarning: \n",
      "\n",
      "Passing `palette` without assigning `hue` is deprecated and will be removed in v0.14.0. Assign the `x` variable to `hue` and set `legend=False` for the same effect.\n",
      "\n",
      "  sns.barplot(x='Payload Bin', y='Number of Aircrafts', data=payload_counts, palette='muted')\n"
     ]
    },
    {
     "data": {
      "image/png": "[encoded data removed]",
      "text/plain": [
       "<Figure size 800x600 with 1 Axes>"
      ]
     },
     "metadata": {},
     "output_type": "display_data"
    }
   ],
   "source": [
    "#define number of bins\n",
    "num_bins = 10\n",
    "\n",
    "# Create bins using pd.cut with equal-width intervals\n",
    "airplane_df['payload_bin'] = pd.cut(airplane_df['payload'], bins=num_bins)\n",
    "\n",
    "# Count the number of aircrafts in each payload bin\n",
    "payload_counts = airplane_df['payload_bin'].value_counts().sort_index().reset_index()\n",
    "payload_counts.columns = ['Payload Bin', 'Number of Aircrafts']\n",
    "\n",
    "plt.figure(figsize=(8, 6))\n",
    "sns.barplot(x='Payload Bin', y='Number of Aircrafts', data=payload_counts, palette='muted')\n",
    "# Add labels and title\n",
    "plt.title('Number of Aircrafts per Payload Bin')\n",
    "plt.xlabel('Payload Bins (kg)')\n",
    "plt.ylabel('Number of Aircrafts')\n",
    "plt.xticks(rotation=45)\n",
    "plt.grid(axis='y')\n",
    "# Show the plot\n",
    "plt.tight_layout()\n",
    "plt.show()"
   ]
  },
  {
   "cell_type": "markdown",
   "metadata": {},
   "source": [
    "As expected, theres a strong correlation between the two properties of volume and weight, and the number of aircrafts on the lower and mid payload range is much higher than on the high payload range, which means using a regression to estimate the volumes missing should give good accuracy."
   ]
  },
  {
   "cell_type": "markdown",
   "metadata": {},
   "source": [
    "Previously a mistake was made of confusing the *category* column with the *code_icao* column, this caused a large gap in the join, some good analysis came out of it in the end trying to fix the issue, but now i have fixed the error and left those previous cells comented out for reference"
   ]
  },
  {
   "cell_type": "code",
   "execution_count": 7,
   "metadata": {},
   "outputs": [
    {
     "data": {
      "text/html": [
       "<div>\n",
       "<style scoped>\n",
       "    .dataframe tbody tr th:only-of-type {\n",
       "        vertical-align: middle;\n",
       "    }\n",
       "\n",
       "    .dataframe tbody tr th {\n",
       "        vertical-align: top;\n",
       "    }\n",
       "\n",
       "    .dataframe thead th {\n",
       "        text-align: right;\n",
       "    }\n",
       "</style>\n",
       "<table border=\"1\" class=\"dataframe\">\n",
       "  <thead>\n",
       "    <tr style=\"text-align: right;\">\n",
       "      <th></th>\n",
       "      <th>volume</th>\n",
       "      <th>code_icao</th>\n",
       "      <th>payload</th>\n",
       "    </tr>\n",
       "  </thead>\n",
       "  <tbody>\n",
       "    <tr>\n",
       "      <th>0</th>\n",
       "      <td>86.74944</td>\n",
       "      <td>A388</td>\n",
       "      <td>83417.6077</td>\n",
       "    </tr>\n",
       "    <tr>\n",
       "      <th>1</th>\n",
       "      <td>120.12864</td>\n",
       "      <td>A35K</td>\n",
       "      <td>66242.9000</td>\n",
       "    </tr>\n",
       "    <tr>\n",
       "      <th>2</th>\n",
       "      <td>74.78400</td>\n",
       "      <td>B788</td>\n",
       "      <td>40610.8525</td>\n",
       "    </tr>\n",
       "    <tr>\n",
       "      <th>3</th>\n",
       "      <td>9.85872</td>\n",
       "      <td>MD82</td>\n",
       "      <td>17989.3965</td>\n",
       "    </tr>\n",
       "    <tr>\n",
       "      <th>4</th>\n",
       "      <td>3.92160</td>\n",
       "      <td>RJ85</td>\n",
       "      <td>12136.2925</td>\n",
       "    </tr>\n",
       "  </tbody>\n",
       "</table>\n",
       "</div>"
      ],
      "text/plain": [
       "      volume code_icao     payload\n",
       "0   86.74944      A388  83417.6077\n",
       "1  120.12864      A35K  66242.9000\n",
       "2   74.78400      B788  40610.8525\n",
       "3    9.85872      MD82  17989.3965\n",
       "4    3.92160      RJ85  12136.2925"
      ]
     },
     "execution_count": 7,
     "metadata": {},
     "output_type": "execute_result"
    }
   ],
   "source": [
    "cargo_data_df = airplane_df[['volume', 'code_icao', 'payload']]\n",
    "cargo_data_df.head()"
   ]
  },
  {
   "cell_type": "code",
   "execution_count": 15,
   "metadata": {},
   "outputs": [
    {
     "data": {
      "text/plain": [
       "volume        57\n",
       "code_icao    100\n",
       "payload      100\n",
       "dtype: int64"
      ]
     },
     "execution_count": 15,
     "metadata": {},
     "output_type": "execute_result"
    }
   ],
   "source": [
    "cargo_data_df.count()"
   ]
  },
  {
   "cell_type": "code",
   "execution_count": 105,
   "metadata": {},
   "outputs": [
    {
     "data": {
      "text/plain": [
       "volume      56\n",
       "category    99\n",
       "payload     99\n",
       "dtype: int64"
      ]
     },
     "execution_count": 105,
     "metadata": {},
     "output_type": "execute_result"
    }
   ],
   "source": [
    "# Dropping the row without category\n",
    "# cargo_data_df_clean = cargo_data_df.dropna(subset=['category']).sort_index()\n",
    "# cargo_data_df_clean.count()"
   ]
  },
  {
   "cell_type": "code",
   "execution_count": 135,
   "metadata": {},
   "outputs": [
    {
     "data": {
      "text/html": [
       "<div>\n",
       "<style scoped>\n",
       "    .dataframe tbody tr th:only-of-type {\n",
       "        vertical-align: middle;\n",
       "    }\n",
       "\n",
       "    .dataframe tbody tr th {\n",
       "        vertical-align: top;\n",
       "    }\n",
       "\n",
       "    .dataframe thead th {\n",
       "        text-align: right;\n",
       "    }\n",
       "</style>\n",
       "<table border=\"1\" class=\"dataframe\">\n",
       "  <thead>\n",
       "    <tr style=\"text-align: right;\">\n",
       "      <th></th>\n",
       "      <th>volume</th>\n",
       "      <th>payload</th>\n",
       "    </tr>\n",
       "  </thead>\n",
       "  <tbody>\n",
       "    <tr>\n",
       "      <th>count</th>\n",
       "      <td>56.000000</td>\n",
       "      <td>99.000000</td>\n",
       "    </tr>\n",
       "    <tr>\n",
       "      <th>mean</th>\n",
       "      <td>55.103203</td>\n",
       "      <td>31352.226278</td>\n",
       "    </tr>\n",
       "    <tr>\n",
       "      <th>std</th>\n",
       "      <td>71.539349</td>\n",
       "      <td>21163.579255</td>\n",
       "    </tr>\n",
       "    <tr>\n",
       "      <th>min</th>\n",
       "      <td>3.274080</td>\n",
       "      <td>1581.920000</td>\n",
       "    </tr>\n",
       "    <tr>\n",
       "      <th>25%</th>\n",
       "      <td>9.835920</td>\n",
       "      <td>14530.923900</td>\n",
       "    </tr>\n",
       "    <tr>\n",
       "      <th>50%</th>\n",
       "      <td>37.474080</td>\n",
       "      <td>21078.095300</td>\n",
       "    </tr>\n",
       "    <tr>\n",
       "      <th>75%</th>\n",
       "      <td>86.070000</td>\n",
       "      <td>45516.287550</td>\n",
       "    </tr>\n",
       "    <tr>\n",
       "      <th>max</th>\n",
       "      <td>490.956960</td>\n",
       "      <td>83417.607700</td>\n",
       "    </tr>\n",
       "  </tbody>\n",
       "</table>\n",
       "</div>"
      ],
      "text/plain": [
       "           volume       payload\n",
       "count   56.000000     99.000000\n",
       "mean    55.103203  31352.226278\n",
       "std     71.539349  21163.579255\n",
       "min      3.274080   1581.920000\n",
       "25%      9.835920  14530.923900\n",
       "50%     37.474080  21078.095300\n",
       "75%     86.070000  45516.287550\n",
       "max    490.956960  83417.607700"
      ]
     },
     "execution_count": 135,
     "metadata": {},
     "output_type": "execute_result"
    }
   ],
   "source": [
    "cargo_data_df_clean.describe()"
   ]
  },
  {
   "cell_type": "markdown",
   "metadata": {},
   "source": [
    "The Min and Max values seem too small and too large respectively, but clearing this requires some domain knowledge to make sure."
   ]
  },
  {
   "cell_type": "markdown",
   "metadata": {},
   "source": [
    "#### Question 2\n",
    "Create a capacity table that includes capacity in weight and volume"
   ]
  },
  {
   "cell_type": "code",
   "execution_count": null,
   "metadata": {},
   "outputs": [
    {
     "data": {
      "text/plain": [
       "Index(['address', 'altitude', 'callsign', 'date', 'destination_iata',\n",
       "       'destination_icao', 'equipment', 'event', 'flight', 'flight_id',\n",
       "       'latitude', 'longitude', 'operator', 'origin_iata', 'origin_icao',\n",
       "       'registration', 'time'],\n",
       "      dtype='object')"
      ]
     },
     "metadata": {},
     "output_type": "display_data"
    }
   ],
   "source": [
    "sampled_flight_events.columns"
   ]
  },
  {
   "cell_type": "code",
   "execution_count": 9,
   "metadata": {},
   "outputs": [
    {
     "data": {
      "text/html": [
       "<div>\n",
       "<style scoped>\n",
       "    .dataframe tbody tr th:only-of-type {\n",
       "        vertical-align: middle;\n",
       "    }\n",
       "\n",
       "    .dataframe tbody tr th {\n",
       "        vertical-align: top;\n",
       "    }\n",
       "\n",
       "    .dataframe thead th {\n",
       "        text-align: right;\n",
       "    }\n",
       "</style>\n",
       "<table border=\"1\" class=\"dataframe\">\n",
       "  <thead>\n",
       "    <tr style=\"text-align: right;\">\n",
       "      <th></th>\n",
       "      <th>flight_id</th>\n",
       "      <th>destination_iata</th>\n",
       "      <th>destination_icao</th>\n",
       "      <th>equipment</th>\n",
       "      <th>origin_iata</th>\n",
       "      <th>origin_icao</th>\n",
       "    </tr>\n",
       "  </thead>\n",
       "  <tbody>\n",
       "    <tr>\n",
       "      <th>15060</th>\n",
       "      <td>766610276</td>\n",
       "      <td>GUA</td>\n",
       "      <td>MGGT</td>\n",
       "      <td>A320</td>\n",
       "      <td>JFK</td>\n",
       "      <td>KJFK</td>\n",
       "    </tr>\n",
       "    <tr>\n",
       "      <th>1786</th>\n",
       "      <td>766571550</td>\n",
       "      <td>DOH</td>\n",
       "      <td>OTHH</td>\n",
       "      <td>A359</td>\n",
       "      <td>SIN</td>\n",
       "      <td>WSSS</td>\n",
       "    </tr>\n",
       "    <tr>\n",
       "      <th>63231</th>\n",
       "      <td>766627600</td>\n",
       "      <td>ACV</td>\n",
       "      <td>KACV</td>\n",
       "      <td>E75L</td>\n",
       "      <td>SFO</td>\n",
       "      <td>KSFO</td>\n",
       "    </tr>\n",
       "    <tr>\n",
       "      <th>87263</th>\n",
       "      <td>766634690</td>\n",
       "      <td>TUO</td>\n",
       "      <td>NZAP</td>\n",
       "      <td>R44</td>\n",
       "      <td>NaN</td>\n",
       "      <td>NaN</td>\n",
       "    </tr>\n",
       "    <tr>\n",
       "      <th>33198</th>\n",
       "      <td>766618800</td>\n",
       "      <td>SJC</td>\n",
       "      <td>KSJC</td>\n",
       "      <td>B38M</td>\n",
       "      <td>HNL</td>\n",
       "      <td>PHNL</td>\n",
       "    </tr>\n",
       "  </tbody>\n",
       "</table>\n",
       "</div>"
      ],
      "text/plain": [
       "       flight_id destination_iata destination_icao equipment origin_iata  \\\n",
       "15060  766610276              GUA             MGGT      A320         JFK   \n",
       "1786   766571550              DOH             OTHH      A359         SIN   \n",
       "63231  766627600              ACV             KACV      E75L         SFO   \n",
       "87263  766634690              TUO             NZAP       R44         NaN   \n",
       "33198  766618800              SJC             KSJC      B38M         HNL   \n",
       "\n",
       "      origin_icao  \n",
       "15060        KJFK  \n",
       "1786         WSSS  \n",
       "63231        KSFO  \n",
       "87263         NaN  \n",
       "33198        PHNL  "
      ]
     },
     "execution_count": 9,
     "metadata": {},
     "output_type": "execute_result"
    }
   ],
   "source": [
    "# keeping only the relevant columns for the processing\n",
    "sampled_flight_data = sampled_flight_events[['flight_id','destination_iata', 'destination_icao', 'equipment', 'origin_iata', 'origin_icao']]\n",
    "sampled_flight_data.head()"
   ]
  },
  {
   "cell_type": "code",
   "execution_count": null,
   "metadata": {},
   "outputs": [
    {
     "data": {
      "text/html": [
       "<div>\n",
       "<style scoped>\n",
       "    .dataframe tbody tr th:only-of-type {\n",
       "        vertical-align: middle;\n",
       "    }\n",
       "\n",
       "    .dataframe tbody tr th {\n",
       "        vertical-align: top;\n",
       "    }\n",
       "\n",
       "    .dataframe thead th {\n",
       "        text-align: right;\n",
       "    }\n",
       "</style>\n",
       "<table border=\"1\" class=\"dataframe\">\n",
       "  <thead>\n",
       "    <tr style=\"text-align: right;\">\n",
       "      <th></th>\n",
       "      <th>flight_id</th>\n",
       "      <th>destination_iata</th>\n",
       "      <th>destination_icao</th>\n",
       "      <th>equipment</th>\n",
       "      <th>origin_iata</th>\n",
       "      <th>origin_icao</th>\n",
       "    </tr>\n",
       "  </thead>\n",
       "  <tbody>\n",
       "    <tr>\n",
       "      <th>65436</th>\n",
       "      <td>766628228</td>\n",
       "      <td>SFO</td>\n",
       "      <td>KSFO</td>\n",
       "      <td>CRJ2</td>\n",
       "      <td>SBP</td>\n",
       "      <td>KSBP</td>\n",
       "    </tr>\n",
       "  </tbody>\n",
       "</table>\n",
       "</div>"
      ],
      "text/plain": [
       "       flight_id destination_iata destination_icao equipment origin_iata  \\\n",
       "65436  766628228              SFO             KSFO      CRJ2         SBP   \n",
       "\n",
       "      origin_icao  \n",
       "65436        KSBP  "
      ]
     },
     "metadata": {},
     "output_type": "display_data"
    }
   ],
   "source": [
    "# checking results\n",
    "filtered_df = sampled_flight_data[sampled_flight_data['flight_id'] == 766628228]\n",
    "filtered_df"
   ]
  },
  {
   "cell_type": "code",
   "execution_count": 32,
   "metadata": {},
   "outputs": [
    {
     "data": {
      "text/html": [
       "<div>\n",
       "<style scoped>\n",
       "    .dataframe tbody tr th:only-of-type {\n",
       "        vertical-align: middle;\n",
       "    }\n",
       "\n",
       "    .dataframe tbody tr th {\n",
       "        vertical-align: top;\n",
       "    }\n",
       "\n",
       "    .dataframe thead th {\n",
       "        text-align: right;\n",
       "    }\n",
       "</style>\n",
       "<table border=\"1\" class=\"dataframe\">\n",
       "  <thead>\n",
       "    <tr style=\"text-align: right;\">\n",
       "      <th></th>\n",
       "      <th>flight_id</th>\n",
       "      <th>destination_iata</th>\n",
       "      <th>destination_icao</th>\n",
       "      <th>equipment</th>\n",
       "      <th>origin_iata</th>\n",
       "      <th>origin_icao</th>\n",
       "      <th>volume</th>\n",
       "      <th>code_icao</th>\n",
       "      <th>payload</th>\n",
       "    </tr>\n",
       "  </thead>\n",
       "  <tbody>\n",
       "    <tr>\n",
       "      <th>0</th>\n",
       "      <td>766610276</td>\n",
       "      <td>GUA</td>\n",
       "      <td>MGGT</td>\n",
       "      <td>A320</td>\n",
       "      <td>JFK</td>\n",
       "      <td>KJFK</td>\n",
       "      <td>14.21808</td>\n",
       "      <td>A320</td>\n",
       "      <td>19279.6500</td>\n",
       "    </tr>\n",
       "    <tr>\n",
       "      <th>1</th>\n",
       "      <td>766571550</td>\n",
       "      <td>DOH</td>\n",
       "      <td>OTHH</td>\n",
       "      <td>A359</td>\n",
       "      <td>SIN</td>\n",
       "      <td>WSSS</td>\n",
       "      <td>99.19824</td>\n",
       "      <td>A359</td>\n",
       "      <td>53389.8000</td>\n",
       "    </tr>\n",
       "    <tr>\n",
       "      <th>2</th>\n",
       "      <td>766618800</td>\n",
       "      <td>SJC</td>\n",
       "      <td>KSJC</td>\n",
       "      <td>B38M</td>\n",
       "      <td>HNL</td>\n",
       "      <td>PHNL</td>\n",
       "      <td>10.69776</td>\n",
       "      <td>B38M</td>\n",
       "      <td>20646.0334</td>\n",
       "    </tr>\n",
       "    <tr>\n",
       "      <th>3</th>\n",
       "      <td>766629677</td>\n",
       "      <td>TLC</td>\n",
       "      <td>MMTO</td>\n",
       "      <td>LJ35</td>\n",
       "      <td>TGZ</td>\n",
       "      <td>MMTG</td>\n",
       "      <td>NaN</td>\n",
       "      <td>LJ35</td>\n",
       "      <td>1581.9200</td>\n",
       "    </tr>\n",
       "    <tr>\n",
       "      <th>4</th>\n",
       "      <td>766635033</td>\n",
       "      <td>SNA</td>\n",
       "      <td>KSNA</td>\n",
       "      <td>A320</td>\n",
       "      <td>SEA</td>\n",
       "      <td>KSEA</td>\n",
       "      <td>14.21808</td>\n",
       "      <td>A320</td>\n",
       "      <td>19279.6500</td>\n",
       "    </tr>\n",
       "  </tbody>\n",
       "</table>\n",
       "</div>"
      ],
      "text/plain": [
       "   flight_id destination_iata destination_icao equipment origin_iata  \\\n",
       "0  766610276              GUA             MGGT      A320         JFK   \n",
       "1  766571550              DOH             OTHH      A359         SIN   \n",
       "2  766618800              SJC             KSJC      B38M         HNL   \n",
       "3  766629677              TLC             MMTO      LJ35         TGZ   \n",
       "4  766635033              SNA             KSNA      A320         SEA   \n",
       "\n",
       "  origin_icao    volume code_icao     payload  \n",
       "0        KJFK  14.21808      A320  19279.6500  \n",
       "1        WSSS  99.19824      A359  53389.8000  \n",
       "2        PHNL  10.69776      B38M  20646.0334  \n",
       "3        MMTG       NaN      LJ35   1581.9200  \n",
       "4        KSEA  14.21808      A320  19279.6500  "
      ]
     },
     "execution_count": 32,
     "metadata": {},
     "output_type": "execute_result"
    }
   ],
   "source": [
    "# joining both tables, here sampled_flight_data has minimal processing done \n",
    "flights_with_cap_df = pd.merge(sampled_flight_data, cargo_data_df, left_on='equipment', right_on='code_icao', how='left')\n",
    "flights_with_cap_df.head()"
   ]
  },
  {
   "cell_type": "markdown",
   "metadata": {},
   "source": [
    "Some of the flights did not find a match between equipment and code_icao, they can only be dropped at this point"
   ]
  },
  {
   "cell_type": "code",
   "execution_count": 36,
   "metadata": {},
   "outputs": [],
   "source": [
    "flights_with_cap_clean_df = flights_with_cap_df.dropna(subset=['code_icao']).reset_index(drop=True)"
   ]
  },
  {
   "cell_type": "code",
   "execution_count": 37,
   "metadata": {},
   "outputs": [
    {
     "data": {
      "text/plain": [
       "(618, 9)"
      ]
     },
     "execution_count": 37,
     "metadata": {},
     "output_type": "execute_result"
    }
   ],
   "source": [
    "flights_with_cap_clean_df.shape"
   ]
  },
  {
   "cell_type": "code",
   "execution_count": 38,
   "metadata": {},
   "outputs": [
    {
     "name": "stdout",
     "output_type": "stream",
     "text": [
      "=====Summary of flights and capacity joined=====\n",
      "Shape: (618, 9)\n",
      "NaN ratio:\n"
     ]
    },
    {
     "data": {
      "text/html": [
       "<div>\n",
       "<style scoped>\n",
       "    .dataframe tbody tr th:only-of-type {\n",
       "        vertical-align: middle;\n",
       "    }\n",
       "\n",
       "    .dataframe tbody tr th {\n",
       "        vertical-align: top;\n",
       "    }\n",
       "\n",
       "    .dataframe thead th {\n",
       "        text-align: right;\n",
       "    }\n",
       "</style>\n",
       "<table border=\"1\" class=\"dataframe\">\n",
       "  <thead>\n",
       "    <tr style=\"text-align: right;\">\n",
       "      <th></th>\n",
       "      <th>volume</th>\n",
       "      <th>destination_icao</th>\n",
       "      <th>destination_iata</th>\n",
       "      <th>flight_id</th>\n",
       "      <th>equipment</th>\n",
       "      <th>origin_iata</th>\n",
       "      <th>origin_icao</th>\n",
       "      <th>code_icao</th>\n",
       "      <th>payload</th>\n",
       "    </tr>\n",
       "  </thead>\n",
       "  <tbody>\n",
       "    <tr>\n",
       "      <th>NaN Ratio</th>\n",
       "      <td>0.647249</td>\n",
       "      <td>0.161812</td>\n",
       "      <td>0.161812</td>\n",
       "      <td>0.0</td>\n",
       "      <td>0.0</td>\n",
       "      <td>0.0</td>\n",
       "      <td>0.0</td>\n",
       "      <td>0.0</td>\n",
       "      <td>0.0</td>\n",
       "    </tr>\n",
       "  </tbody>\n",
       "</table>\n",
       "</div>"
      ],
      "text/plain": [
       "             volume  destination_icao  destination_iata  flight_id  equipment  \\\n",
       "NaN Ratio  0.647249          0.161812          0.161812        0.0        0.0   \n",
       "\n",
       "           origin_iata  origin_icao  code_icao  payload  \n",
       "NaN Ratio          0.0          0.0        0.0      0.0  "
      ]
     },
     "metadata": {},
     "output_type": "display_data"
    }
   ],
   "source": [
    "summarize(flights_with_cap_df, 'flights and capacity joined')"
   ]
  },
  {
   "cell_type": "markdown",
   "metadata": {},
   "source": [
    "This was because of using category to join the tables:  \n",
    "        It seems some rows were duplicated (1000 -> 1410), but still expected to have a much higher matching ratio. It seems many categories in the *flight_events* dataset are not present in the *airplane_details* dataset, making it impossible to assess their cargo capacity. The only way to fix this would be to update the *airplane_details* dataset to include more recent categories in it."
   ]
  },
  {
   "cell_type": "code",
   "execution_count": 48,
   "metadata": {},
   "outputs": [
    {
     "data": {
      "text/html": [
       "<div>\n",
       "<style scoped>\n",
       "    .dataframe tbody tr th:only-of-type {\n",
       "        vertical-align: middle;\n",
       "    }\n",
       "\n",
       "    .dataframe tbody tr th {\n",
       "        vertical-align: top;\n",
       "    }\n",
       "\n",
       "    .dataframe thead th {\n",
       "        text-align: right;\n",
       "    }\n",
       "</style>\n",
       "<table border=\"1\" class=\"dataframe\">\n",
       "  <thead>\n",
       "    <tr style=\"text-align: right;\">\n",
       "      <th></th>\n",
       "      <th>flight_id</th>\n",
       "      <th>destination_iata</th>\n",
       "      <th>destination_icao</th>\n",
       "      <th>equipment</th>\n",
       "      <th>origin_iata</th>\n",
       "      <th>origin_icao</th>\n",
       "      <th>volume</th>\n",
       "      <th>category</th>\n",
       "      <th>payload</th>\n",
       "    </tr>\n",
       "  </thead>\n",
       "  <tbody>\n",
       "    <tr>\n",
       "      <th>10</th>\n",
       "      <td>766603897</td>\n",
       "      <td>JAX</td>\n",
       "      <td>KJAX</td>\n",
       "      <td>A320</td>\n",
       "      <td>JFK</td>\n",
       "      <td>KJFK</td>\n",
       "      <td>14.21808</td>\n",
       "      <td>A320</td>\n",
       "      <td>19279.65</td>\n",
       "    </tr>\n",
       "    <tr>\n",
       "      <th>11</th>\n",
       "      <td>766603897</td>\n",
       "      <td>JAX</td>\n",
       "      <td>KJAX</td>\n",
       "      <td>A320</td>\n",
       "      <td>JFK</td>\n",
       "      <td>KJFK</td>\n",
       "      <td>14.16336</td>\n",
       "      <td>A320</td>\n",
       "      <td>18785.30</td>\n",
       "    </tr>\n",
       "    <tr>\n",
       "      <th>12</th>\n",
       "      <td>766619360</td>\n",
       "      <td>YVR</td>\n",
       "      <td>CYVR</td>\n",
       "      <td>A321</td>\n",
       "      <td>YYZ</td>\n",
       "      <td>CYYZ</td>\n",
       "      <td>20.38320</td>\n",
       "      <td>A321</td>\n",
       "      <td>24717.50</td>\n",
       "    </tr>\n",
       "    <tr>\n",
       "      <th>13</th>\n",
       "      <td>766619360</td>\n",
       "      <td>YVR</td>\n",
       "      <td>CYVR</td>\n",
       "      <td>A321</td>\n",
       "      <td>YYZ</td>\n",
       "      <td>CYYZ</td>\n",
       "      <td>20.32848</td>\n",
       "      <td>A321</td>\n",
       "      <td>24717.50</td>\n",
       "    </tr>\n",
       "    <tr>\n",
       "      <th>36</th>\n",
       "      <td>766630103</td>\n",
       "      <td>SCL</td>\n",
       "      <td>SCEL</td>\n",
       "      <td>A320</td>\n",
       "      <td>IQQ</td>\n",
       "      <td>SCDA</td>\n",
       "      <td>14.21808</td>\n",
       "      <td>A320</td>\n",
       "      <td>19279.65</td>\n",
       "    </tr>\n",
       "  </tbody>\n",
       "</table>\n",
       "</div>"
      ],
      "text/plain": [
       "    flight_id destination_iata destination_icao equipment origin_iata  \\\n",
       "10  766603897              JAX             KJAX      A320         JFK   \n",
       "11  766603897              JAX             KJAX      A320         JFK   \n",
       "12  766619360              YVR             CYVR      A321         YYZ   \n",
       "13  766619360              YVR             CYVR      A321         YYZ   \n",
       "36  766630103              SCL             SCEL      A320         IQQ   \n",
       "\n",
       "   origin_icao    volume category   payload  \n",
       "10        KJFK  14.21808     A320  19279.65  \n",
       "11        KJFK  14.16336     A320  18785.30  \n",
       "12        CYYZ  20.38320     A321  24717.50  \n",
       "13        CYYZ  20.32848     A321  24717.50  \n",
       "36        SCDA  14.21808     A320  19279.65  "
      ]
     },
     "execution_count": 48,
     "metadata": {},
     "output_type": "execute_result"
    }
   ],
   "source": [
    "flights_with_cap_df[flights_with_cap_df['category'].notna()].head()"
   ]
  },
  {
   "cell_type": "markdown",
   "metadata": {},
   "source": [
    "Here is the reason for the duplicated rows.  \n",
    "The *airplane details* json has the same category 'A320' for two different airplanes, the Airbus A320-200 and the Airbus A320-200 neo, that have different cargo capacities. How to identify the correct one? There doesnt seem to be enough matching info in the datasets to make this distinction through other features like the average speed or aircraft name. The *airplane details* json contains the full aircraft names, that distinguishes them, but theres no way to match it witht he flight events data, who onlyl have the equipment column to id the aircraft type. \n",
    "\n",
    "In this case, we can take a few hypothesis to choose a single cargo capacity value:\n",
    "- The number of Airbus A320-200 and Airbus A320-200 neo in the flights is simillar -> calculate the average of the cargo capacities. This would require domain knowledge and may differ for each category that has this issue, so not a great solution\n",
    "- It's better for clients to have the planes with cargo capacity in exceess, than planning more cargo than the capacity of the aircraft -> choose the lowest value of the cargo capacity, this one seems the better alternative, as planning more cargo and then not being able to load it to the airplane is probably more hurtfull to the clients than the reverse.\n",
    "\n",
    "Going with the second option and take the lowest capacity possible for each category of aircraft, either way the difference seems small, so the \"wasted\" cargo capacity should not be very significant."
   ]
  },
  {
   "cell_type": "code",
   "execution_count": 131,
   "metadata": {},
   "outputs": [
    {
     "data": {
      "text/html": [
       "<div>\n",
       "<style scoped>\n",
       "    .dataframe tbody tr th:only-of-type {\n",
       "        vertical-align: middle;\n",
       "    }\n",
       "\n",
       "    .dataframe tbody tr th {\n",
       "        vertical-align: top;\n",
       "    }\n",
       "\n",
       "    .dataframe thead th {\n",
       "        text-align: right;\n",
       "    }\n",
       "</style>\n",
       "<table border=\"1\" class=\"dataframe\">\n",
       "  <thead>\n",
       "    <tr style=\"text-align: right;\">\n",
       "      <th></th>\n",
       "      <th>flight_id</th>\n",
       "      <th>destination_iata</th>\n",
       "      <th>destination_icao</th>\n",
       "      <th>equipment</th>\n",
       "      <th>origin_iata</th>\n",
       "      <th>origin_icao</th>\n",
       "      <th>volume</th>\n",
       "      <th>category</th>\n",
       "      <th>payload</th>\n",
       "    </tr>\n",
       "  </thead>\n",
       "  <tbody>\n",
       "    <tr>\n",
       "      <th>942</th>\n",
       "      <td>766619199</td>\n",
       "      <td>DCA</td>\n",
       "      <td>KDCA</td>\n",
       "      <td>B737</td>\n",
       "      <td>DAL</td>\n",
       "      <td>KDAL</td>\n",
       "      <td>3.27408</td>\n",
       "      <td>B737</td>\n",
       "      <td>14530.9239</td>\n",
       "    </tr>\n",
       "    <tr>\n",
       "      <th>69</th>\n",
       "      <td>766605067</td>\n",
       "      <td>ATL</td>\n",
       "      <td>KATL</td>\n",
       "      <td>B737</td>\n",
       "      <td>AUS</td>\n",
       "      <td>KAUS</td>\n",
       "      <td>3.27408</td>\n",
       "      <td>B737</td>\n",
       "      <td>14530.9239</td>\n",
       "    </tr>\n",
       "    <tr>\n",
       "      <th>895</th>\n",
       "      <td>766622221</td>\n",
       "      <td>OAK</td>\n",
       "      <td>KOAK</td>\n",
       "      <td>B737</td>\n",
       "      <td>BUR</td>\n",
       "      <td>KBUR</td>\n",
       "      <td>3.27408</td>\n",
       "      <td>B737</td>\n",
       "      <td>14530.9239</td>\n",
       "    </tr>\n",
       "    <tr>\n",
       "      <th>868</th>\n",
       "      <td>766635247</td>\n",
       "      <td>STL</td>\n",
       "      <td>KSTL</td>\n",
       "      <td>B737</td>\n",
       "      <td>HOU</td>\n",
       "      <td>KHOU</td>\n",
       "      <td>3.27408</td>\n",
       "      <td>B737</td>\n",
       "      <td>14530.9239</td>\n",
       "    </tr>\n",
       "    <tr>\n",
       "      <th>185</th>\n",
       "      <td>766622348</td>\n",
       "      <td>MCO</td>\n",
       "      <td>KMCO</td>\n",
       "      <td>B737</td>\n",
       "      <td>CMH</td>\n",
       "      <td>KCMH</td>\n",
       "      <td>3.27408</td>\n",
       "      <td>B737</td>\n",
       "      <td>14530.9239</td>\n",
       "    </tr>\n",
       "  </tbody>\n",
       "</table>\n",
       "</div>"
      ],
      "text/plain": [
       "     flight_id destination_iata destination_icao equipment origin_iata  \\\n",
       "942  766619199              DCA             KDCA      B737         DAL   \n",
       "69   766605067              ATL             KATL      B737         AUS   \n",
       "895  766622221              OAK             KOAK      B737         BUR   \n",
       "868  766635247              STL             KSTL      B737         HOU   \n",
       "185  766622348              MCO             KMCO      B737         CMH   \n",
       "\n",
       "    origin_icao   volume category     payload  \n",
       "942        KDAL  3.27408     B737  14530.9239  \n",
       "69         KAUS  3.27408     B737  14530.9239  \n",
       "895        KBUR  3.27408     B737  14530.9239  \n",
       "868        KHOU  3.27408     B737  14530.9239  \n",
       "185        KCMH  3.27408     B737  14530.9239  "
      ]
     },
     "execution_count": 131,
     "metadata": {},
     "output_type": "execute_result"
    }
   ],
   "source": [
    "# Sort by ascending payload values and drop duplicates in the flight id row to keep the lowest payload value for each flight\n",
    "flights_with_mincap_df = flights_with_cap_df.sort_values('payload', ascending=True).drop_duplicates('flight_id')\n",
    "flights_with_mincap_df[flights_with_mincap_df['category'].notna()].head()"
   ]
  },
  {
   "cell_type": "code",
   "execution_count": 132,
   "metadata": {},
   "outputs": [
    {
     "data": {
      "text/plain": [
       "flight_id           985\n",
       "destination_iata    941\n",
       "destination_icao    943\n",
       "equipment           983\n",
       "origin_iata         938\n",
       "origin_icao         940\n",
       "volume              190\n",
       "category            190\n",
       "payload             190\n",
       "dtype: int64"
      ]
     },
     "execution_count": 132,
     "metadata": {},
     "output_type": "execute_result"
    }
   ],
   "source": [
    "flights_with_mincap_df.count()"
   ]
  },
  {
   "cell_type": "code",
   "execution_count": 24,
   "metadata": {},
   "outputs": [
    {
     "ename": "NameError",
     "evalue": "name 'flights_with_mincap_df' is not defined",
     "output_type": "error",
     "traceback": [
      "\u001b[1;31m---------------------------------------------------------------------------\u001b[0m",
      "\u001b[1;31mNameError\u001b[0m                                 Traceback (most recent call last)",
      "Cell \u001b[1;32mIn[24], line 1\u001b[0m\n\u001b[1;32m----> 1\u001b[0m \u001b[43mflights_with_mincap_df\u001b[49m\u001b[38;5;241m.\u001b[39mnunique()\n",
      "\u001b[1;31mNameError\u001b[0m: name 'flights_with_mincap_df' is not defined"
     ]
    }
   ],
   "source": [
    "flights_with_mincap_df.nunique()"
   ]
  },
  {
   "cell_type": "code",
   "execution_count": 128,
   "metadata": {},
   "outputs": [
    {
     "name": "stdout",
     "output_type": "stream",
     "text": [
      "=====Summary of merged_dfs=====\n",
      "Shape: (985, 10)\n",
      "NaN ratio:\n"
     ]
    },
    {
     "data": {
      "text/html": [
       "<div>\n",
       "<style scoped>\n",
       "    .dataframe tbody tr th:only-of-type {\n",
       "        vertical-align: middle;\n",
       "    }\n",
       "\n",
       "    .dataframe tbody tr th {\n",
       "        vertical-align: top;\n",
       "    }\n",
       "\n",
       "    .dataframe thead th {\n",
       "        text-align: right;\n",
       "    }\n",
       "</style>\n",
       "<table border=\"1\" class=\"dataframe\">\n",
       "  <thead>\n",
       "    <tr style=\"text-align: right;\">\n",
       "      <th></th>\n",
       "      <th>payload</th>\n",
       "      <th>category</th>\n",
       "      <th>volume</th>\n",
       "      <th>origin_iata</th>\n",
       "      <th>origin_icao</th>\n",
       "      <th>destination_iata</th>\n",
       "      <th>destination_icao</th>\n",
       "      <th>equipment</th>\n",
       "      <th>flight_id</th>\n",
       "      <th>index</th>\n",
       "    </tr>\n",
       "  </thead>\n",
       "  <tbody>\n",
       "    <tr>\n",
       "      <th>NaN Ratio</th>\n",
       "      <td>80.71066</td>\n",
       "      <td>80.71066</td>\n",
       "      <td>80.71066</td>\n",
       "      <td>4.771574</td>\n",
       "      <td>4.568528</td>\n",
       "      <td>4.467005</td>\n",
       "      <td>4.263959</td>\n",
       "      <td>0.203046</td>\n",
       "      <td>0.0</td>\n",
       "      <td>0.0</td>\n",
       "    </tr>\n",
       "  </tbody>\n",
       "</table>\n",
       "</div>"
      ],
      "text/plain": [
       "            payload  category    volume  origin_iata  origin_icao  \\\n",
       "NaN Ratio  80.71066  80.71066  80.71066     4.771574     4.568528   \n",
       "\n",
       "           destination_iata  destination_icao  equipment  flight_id  index  \n",
       "NaN Ratio          4.467005          4.263959   0.203046        0.0    0.0  "
      ]
     },
     "metadata": {},
     "output_type": "display_data"
    }
   ],
   "source": [
    "summarize(flights_with_mincap_df, 'merged_dfs')"
   ]
  },
  {
   "cell_type": "code",
   "execution_count": 175,
   "metadata": {},
   "outputs": [
    {
     "data": {
      "text/html": [
       "<div>\n",
       "<style scoped>\n",
       "    .dataframe tbody tr th:only-of-type {\n",
       "        vertical-align: middle;\n",
       "    }\n",
       "\n",
       "    .dataframe tbody tr th {\n",
       "        vertical-align: top;\n",
       "    }\n",
       "\n",
       "    .dataframe thead th {\n",
       "        text-align: right;\n",
       "    }\n",
       "</style>\n",
       "<table border=\"1\" class=\"dataframe\">\n",
       "  <thead>\n",
       "    <tr style=\"text-align: right;\">\n",
       "      <th></th>\n",
       "      <th>flight_id</th>\n",
       "      <th>destination_iata</th>\n",
       "      <th>destination_icao</th>\n",
       "      <th>equipment</th>\n",
       "      <th>origin_iata</th>\n",
       "      <th>origin_icao</th>\n",
       "      <th>volume</th>\n",
       "      <th>category</th>\n",
       "      <th>payload</th>\n",
       "    </tr>\n",
       "  </thead>\n",
       "  <tbody>\n",
       "    <tr>\n",
       "      <th>0</th>\n",
       "      <td>766619199</td>\n",
       "      <td>DCA</td>\n",
       "      <td>KDCA</td>\n",
       "      <td>B737</td>\n",
       "      <td>DAL</td>\n",
       "      <td>KDAL</td>\n",
       "      <td>3.27408</td>\n",
       "      <td>B737</td>\n",
       "      <td>14530.9239</td>\n",
       "    </tr>\n",
       "    <tr>\n",
       "      <th>1</th>\n",
       "      <td>766605067</td>\n",
       "      <td>ATL</td>\n",
       "      <td>KATL</td>\n",
       "      <td>B737</td>\n",
       "      <td>AUS</td>\n",
       "      <td>KAUS</td>\n",
       "      <td>3.27408</td>\n",
       "      <td>B737</td>\n",
       "      <td>14530.9239</td>\n",
       "    </tr>\n",
       "    <tr>\n",
       "      <th>2</th>\n",
       "      <td>766622221</td>\n",
       "      <td>OAK</td>\n",
       "      <td>KOAK</td>\n",
       "      <td>B737</td>\n",
       "      <td>BUR</td>\n",
       "      <td>KBUR</td>\n",
       "      <td>3.27408</td>\n",
       "      <td>B737</td>\n",
       "      <td>14530.9239</td>\n",
       "    </tr>\n",
       "    <tr>\n",
       "      <th>3</th>\n",
       "      <td>766635247</td>\n",
       "      <td>STL</td>\n",
       "      <td>KSTL</td>\n",
       "      <td>B737</td>\n",
       "      <td>HOU</td>\n",
       "      <td>KHOU</td>\n",
       "      <td>3.27408</td>\n",
       "      <td>B737</td>\n",
       "      <td>14530.9239</td>\n",
       "    </tr>\n",
       "    <tr>\n",
       "      <th>4</th>\n",
       "      <td>766622348</td>\n",
       "      <td>MCO</td>\n",
       "      <td>KMCO</td>\n",
       "      <td>B737</td>\n",
       "      <td>CMH</td>\n",
       "      <td>KCMH</td>\n",
       "      <td>3.27408</td>\n",
       "      <td>B737</td>\n",
       "      <td>14530.9239</td>\n",
       "    </tr>\n",
       "  </tbody>\n",
       "</table>\n",
       "</div>"
      ],
      "text/plain": [
       "   flight_id destination_iata destination_icao equipment origin_iata  \\\n",
       "0  766619199              DCA             KDCA      B737         DAL   \n",
       "1  766605067              ATL             KATL      B737         AUS   \n",
       "2  766622221              OAK             KOAK      B737         BUR   \n",
       "3  766635247              STL             KSTL      B737         HOU   \n",
       "4  766622348              MCO             KMCO      B737         CMH   \n",
       "\n",
       "  origin_icao   volume category     payload  \n",
       "0        KDAL  3.27408     B737  14530.9239  \n",
       "1        KAUS  3.27408     B737  14530.9239  \n",
       "2        KBUR  3.27408     B737  14530.9239  \n",
       "3        KHOU  3.27408     B737  14530.9239  \n",
       "4        KCMH  3.27408     B737  14530.9239  "
      ]
     },
     "execution_count": 175,
     "metadata": {},
     "output_type": "execute_result"
    }
   ],
   "source": [
    "flights_with_mincap_df.reset_index(drop=True)\n",
    "flights_with_mincap_df.head()"
   ]
  },
  {
   "cell_type": "markdown",
   "metadata": {},
   "source": [
    "Looking at these volume values, and searching online, the Boeing 737 should have a volume capacity higher than 3.2 m3, but cant really fix this issue lacking better data on airplane details "
   ]
  },
  {
   "cell_type": "code",
   "execution_count": 176,
   "metadata": {},
   "outputs": [
    {
     "data": {
      "text/plain": [
       "(190, 10)"
      ]
     },
     "execution_count": 176,
     "metadata": {},
     "output_type": "execute_result"
    }
   ],
   "source": [
    "clean_flights_with_mincap_df = flights_with_mincap_df.dropna(subset=['category']).reset_index()\n",
    "clean_flights_with_mincap_df.shape\n"
   ]
  },
  {
   "cell_type": "code",
   "execution_count": 177,
   "metadata": {},
   "outputs": [
    {
     "data": {
      "text/html": [
       "<div>\n",
       "<style scoped>\n",
       "    .dataframe tbody tr th:only-of-type {\n",
       "        vertical-align: middle;\n",
       "    }\n",
       "\n",
       "    .dataframe tbody tr th {\n",
       "        vertical-align: top;\n",
       "    }\n",
       "\n",
       "    .dataframe thead th {\n",
       "        text-align: right;\n",
       "    }\n",
       "</style>\n",
       "<table border=\"1\" class=\"dataframe\">\n",
       "  <thead>\n",
       "    <tr style=\"text-align: right;\">\n",
       "      <th></th>\n",
       "      <th>index</th>\n",
       "      <th>flight_id</th>\n",
       "      <th>destination_iata</th>\n",
       "      <th>destination_icao</th>\n",
       "      <th>equipment</th>\n",
       "      <th>origin_iata</th>\n",
       "      <th>origin_icao</th>\n",
       "      <th>volume</th>\n",
       "      <th>category</th>\n",
       "      <th>payload</th>\n",
       "    </tr>\n",
       "  </thead>\n",
       "  <tbody>\n",
       "    <tr>\n",
       "      <th>0</th>\n",
       "      <td>0</td>\n",
       "      <td>766619199</td>\n",
       "      <td>DCA</td>\n",
       "      <td>KDCA</td>\n",
       "      <td>B737</td>\n",
       "      <td>DAL</td>\n",
       "      <td>KDAL</td>\n",
       "      <td>3.27408</td>\n",
       "      <td>B737</td>\n",
       "      <td>14530.9239</td>\n",
       "    </tr>\n",
       "    <tr>\n",
       "      <th>1</th>\n",
       "      <td>1</td>\n",
       "      <td>766605067</td>\n",
       "      <td>ATL</td>\n",
       "      <td>KATL</td>\n",
       "      <td>B737</td>\n",
       "      <td>AUS</td>\n",
       "      <td>KAUS</td>\n",
       "      <td>3.27408</td>\n",
       "      <td>B737</td>\n",
       "      <td>14530.9239</td>\n",
       "    </tr>\n",
       "    <tr>\n",
       "      <th>2</th>\n",
       "      <td>2</td>\n",
       "      <td>766622221</td>\n",
       "      <td>OAK</td>\n",
       "      <td>KOAK</td>\n",
       "      <td>B737</td>\n",
       "      <td>BUR</td>\n",
       "      <td>KBUR</td>\n",
       "      <td>3.27408</td>\n",
       "      <td>B737</td>\n",
       "      <td>14530.9239</td>\n",
       "    </tr>\n",
       "    <tr>\n",
       "      <th>3</th>\n",
       "      <td>3</td>\n",
       "      <td>766635247</td>\n",
       "      <td>STL</td>\n",
       "      <td>KSTL</td>\n",
       "      <td>B737</td>\n",
       "      <td>HOU</td>\n",
       "      <td>KHOU</td>\n",
       "      <td>3.27408</td>\n",
       "      <td>B737</td>\n",
       "      <td>14530.9239</td>\n",
       "    </tr>\n",
       "    <tr>\n",
       "      <th>4</th>\n",
       "      <td>4</td>\n",
       "      <td>766622348</td>\n",
       "      <td>MCO</td>\n",
       "      <td>KMCO</td>\n",
       "      <td>B737</td>\n",
       "      <td>CMH</td>\n",
       "      <td>KCMH</td>\n",
       "      <td>3.27408</td>\n",
       "      <td>B737</td>\n",
       "      <td>14530.9239</td>\n",
       "    </tr>\n",
       "  </tbody>\n",
       "</table>\n",
       "</div>"
      ],
      "text/plain": [
       "   index  flight_id destination_iata destination_icao equipment origin_iata  \\\n",
       "0      0  766619199              DCA             KDCA      B737         DAL   \n",
       "1      1  766605067              ATL             KATL      B737         AUS   \n",
       "2      2  766622221              OAK             KOAK      B737         BUR   \n",
       "3      3  766635247              STL             KSTL      B737         HOU   \n",
       "4      4  766622348              MCO             KMCO      B737         CMH   \n",
       "\n",
       "  origin_icao   volume category     payload  \n",
       "0        KDAL  3.27408     B737  14530.9239  \n",
       "1        KAUS  3.27408     B737  14530.9239  \n",
       "2        KBUR  3.27408     B737  14530.9239  \n",
       "3        KHOU  3.27408     B737  14530.9239  \n",
       "4        KCMH  3.27408     B737  14530.9239  "
      ]
     },
     "execution_count": 177,
     "metadata": {},
     "output_type": "execute_result"
    }
   ],
   "source": [
    "\n",
    "clean_flights_with_mincap_df.head()"
   ]
  },
  {
   "cell_type": "markdown",
   "metadata": {},
   "source": [
    "#### Calculating Cargo Capacity"
   ]
  },
  {
   "cell_type": "code",
   "execution_count": null,
   "metadata": {},
   "outputs": [
    {
     "data": {
      "text/html": [
       "<div>\n",
       "<style scoped>\n",
       "    .dataframe tbody tr th:only-of-type {\n",
       "        vertical-align: middle;\n",
       "    }\n",
       "\n",
       "    .dataframe tbody tr th {\n",
       "        vertical-align: top;\n",
       "    }\n",
       "\n",
       "    .dataframe thead th {\n",
       "        text-align: right;\n",
       "    }\n",
       "</style>\n",
       "<table border=\"1\" class=\"dataframe\">\n",
       "  <thead>\n",
       "    <tr style=\"text-align: right;\">\n",
       "      <th></th>\n",
       "      <th>origin_iata</th>\n",
       "      <th>destination_iata</th>\n",
       "      <th>total_payload</th>\n",
       "      <th>total_volume</th>\n",
       "    </tr>\n",
       "  </thead>\n",
       "  <tbody>\n",
       "    <tr>\n",
       "      <th>0</th>\n",
       "      <td>ABQ</td>\n",
       "      <td>DAL</td>\n",
       "      <td>17355.6398</td>\n",
       "      <td>7.82496</td>\n",
       "    </tr>\n",
       "    <tr>\n",
       "      <th>1</th>\n",
       "      <td>ACE</td>\n",
       "      <td>CGN</td>\n",
       "      <td>21078.0953</td>\n",
       "      <td>14.03568</td>\n",
       "    </tr>\n",
       "    <tr>\n",
       "      <th>2</th>\n",
       "      <td>ADB</td>\n",
       "      <td>CGN</td>\n",
       "      <td>21078.0953</td>\n",
       "      <td>14.03568</td>\n",
       "    </tr>\n",
       "    <tr>\n",
       "      <th>3</th>\n",
       "      <td>ADE</td>\n",
       "      <td>CAI</td>\n",
       "      <td>44846.4433</td>\n",
       "      <td>75.51360</td>\n",
       "    </tr>\n",
       "    <tr>\n",
       "      <th>4</th>\n",
       "      <td>ADL</td>\n",
       "      <td>CNS</td>\n",
       "      <td>19279.6500</td>\n",
       "      <td>14.21808</td>\n",
       "    </tr>\n",
       "  </tbody>\n",
       "</table>\n",
       "</div>"
      ],
      "text/plain": [
       "  origin_iata destination_iata  total_payload  total_volume\n",
       "0         ABQ              DAL     17355.6398       7.82496\n",
       "1         ACE              CGN     21078.0953      14.03568\n",
       "2         ADB              CGN     21078.0953      14.03568\n",
       "3         ADE              CAI     44846.4433      75.51360\n",
       "4         ADL              CNS     19279.6500      14.21808"
      ]
     },
     "execution_count": 39,
     "metadata": {},
     "output_type": "execute_result"
    }
   ],
   "source": [
    "#total_cargo = clean_flights_with_mincap_df.groupby(['origin_iata', 'destination_iata']).agg(\n",
    "# Using the correct table with matching ICAO codes\n",
    "total_cargo = flights_with_cap_clean_df.groupby(['origin_iata', 'destination_iata']).agg(\n",
    "    total_payload = ('payload', 'sum'),\n",
    "    total_volume = ('volume', 'sum')).reset_index()\n",
    "total_cargo.head()"
   ]
  },
  {
   "cell_type": "markdown",
   "metadata": {},
   "source": [
    "#### Question 3\n",
    "Presenting the data"
   ]
  },
  {
   "cell_type": "code",
   "execution_count": 45,
   "metadata": {},
   "outputs": [],
   "source": [
    "# Create a pivot table for better visualization\n",
    "pivot_table = total_cargo.pivot(index='origin_iata', columns='destination_iata', values='total_payload')\n",
    "# Remove rows and columns with all NaN values (i.e., keep only matching values)\n",
    "pivot_table_clean = pivot_table.dropna(how='all').dropna(axis=1,how='all')"
   ]
  },
  {
   "cell_type": "code",
   "execution_count": 47,
   "metadata": {},
   "outputs": [
    {
     "data": {
      "text/html": [
       "<div>\n",
       "<style scoped>\n",
       "    .dataframe tbody tr th:only-of-type {\n",
       "        vertical-align: middle;\n",
       "    }\n",
       "\n",
       "    .dataframe tbody tr th {\n",
       "        vertical-align: top;\n",
       "    }\n",
       "\n",
       "    .dataframe thead th {\n",
       "        text-align: right;\n",
       "    }\n",
       "</style>\n",
       "<table border=\"1\" class=\"dataframe\">\n",
       "  <thead>\n",
       "    <tr style=\"text-align: right;\">\n",
       "      <th>destination_iata</th>\n",
       "      <th>ADD</th>\n",
       "      <th>AER</th>\n",
       "      <th>AKL</th>\n",
       "      <th>AMQ</th>\n",
       "      <th>AMS</th>\n",
       "      <th>ANC</th>\n",
       "      <th>ARN</th>\n",
       "      <th>ATL</th>\n",
       "      <th>AUS</th>\n",
       "      <th>AYQ</th>\n",
       "      <th>...</th>\n",
       "      <th>YHM</th>\n",
       "      <th>YLW</th>\n",
       "      <th>YUL</th>\n",
       "      <th>YVR</th>\n",
       "      <th>YXX</th>\n",
       "      <th>YYC</th>\n",
       "      <th>YYZ</th>\n",
       "      <th>ZAG</th>\n",
       "      <th>ZNZ</th>\n",
       "      <th>ZUH</th>\n",
       "    </tr>\n",
       "    <tr>\n",
       "      <th>origin_iata</th>\n",
       "      <th></th>\n",
       "      <th></th>\n",
       "      <th></th>\n",
       "      <th></th>\n",
       "      <th></th>\n",
       "      <th></th>\n",
       "      <th></th>\n",
       "      <th></th>\n",
       "      <th></th>\n",
       "      <th></th>\n",
       "      <th></th>\n",
       "      <th></th>\n",
       "      <th></th>\n",
       "      <th></th>\n",
       "      <th></th>\n",
       "      <th></th>\n",
       "      <th></th>\n",
       "      <th></th>\n",
       "      <th></th>\n",
       "      <th></th>\n",
       "      <th></th>\n",
       "    </tr>\n",
       "  </thead>\n",
       "  <tbody>\n",
       "    <tr>\n",
       "      <th>ABQ</th>\n",
       "      <td>NaN</td>\n",
       "      <td>NaN</td>\n",
       "      <td>NaN</td>\n",
       "      <td>NaN</td>\n",
       "      <td>NaN</td>\n",
       "      <td>NaN</td>\n",
       "      <td>NaN</td>\n",
       "      <td>NaN</td>\n",
       "      <td>NaN</td>\n",
       "      <td>NaN</td>\n",
       "      <td>...</td>\n",
       "      <td>NaN</td>\n",
       "      <td>NaN</td>\n",
       "      <td>NaN</td>\n",
       "      <td>NaN</td>\n",
       "      <td>NaN</td>\n",
       "      <td>NaN</td>\n",
       "      <td>NaN</td>\n",
       "      <td>NaN</td>\n",
       "      <td>NaN</td>\n",
       "      <td>NaN</td>\n",
       "    </tr>\n",
       "  </tbody>\n",
       "</table>\n",
       "<p>1 rows × 280 columns</p>\n",
       "</div>"
      ],
      "text/plain": [
       "destination_iata  ADD  AER  AKL  AMQ  AMS  ANC  ARN  ATL  AUS  AYQ  ...  YHM  \\\n",
       "origin_iata                                                         ...        \n",
       "ABQ               NaN  NaN  NaN  NaN  NaN  NaN  NaN  NaN  NaN  NaN  ...  NaN   \n",
       "\n",
       "destination_iata  YLW  YUL  YVR  YXX  YYC  YYZ  ZAG  ZNZ  ZUH  \n",
       "origin_iata                                                    \n",
       "ABQ               NaN  NaN  NaN  NaN  NaN  NaN  NaN  NaN  NaN  \n",
       "\n",
       "[1 rows x 280 columns]"
      ]
     },
     "execution_count": 47,
     "metadata": {},
     "output_type": "execute_result"
    }
   ],
   "source": [
    "pivot_table_clean.head(1)"
   ]
  },
  {
   "cell_type": "code",
   "execution_count": 49,
   "metadata": {},
   "outputs": [
    {
     "data": {
      "text/html": [
       "<div>\n",
       "<style scoped>\n",
       "    .dataframe tbody tr th:only-of-type {\n",
       "        vertical-align: middle;\n",
       "    }\n",
       "\n",
       "    .dataframe tbody tr th {\n",
       "        vertical-align: top;\n",
       "    }\n",
       "\n",
       "    .dataframe thead th {\n",
       "        text-align: right;\n",
       "    }\n",
       "</style>\n",
       "<table border=\"1\" class=\"dataframe\">\n",
       "  <thead>\n",
       "    <tr style=\"text-align: right;\">\n",
       "      <th>destination_iata</th>\n",
       "      <th>ADD</th>\n",
       "      <th>AER</th>\n",
       "      <th>AKL</th>\n",
       "      <th>AMQ</th>\n",
       "      <th>AMS</th>\n",
       "      <th>ANC</th>\n",
       "      <th>ARN</th>\n",
       "      <th>ATL</th>\n",
       "      <th>AUS</th>\n",
       "      <th>AYQ</th>\n",
       "      <th>...</th>\n",
       "      <th>YHM</th>\n",
       "      <th>YLW</th>\n",
       "      <th>YUL</th>\n",
       "      <th>YVR</th>\n",
       "      <th>YXX</th>\n",
       "      <th>YYC</th>\n",
       "      <th>YYZ</th>\n",
       "      <th>ZAG</th>\n",
       "      <th>ZNZ</th>\n",
       "      <th>ZUH</th>\n",
       "    </tr>\n",
       "    <tr>\n",
       "      <th>origin_iata</th>\n",
       "      <th></th>\n",
       "      <th></th>\n",
       "      <th></th>\n",
       "      <th></th>\n",
       "      <th></th>\n",
       "      <th></th>\n",
       "      <th></th>\n",
       "      <th></th>\n",
       "      <th></th>\n",
       "      <th></th>\n",
       "      <th></th>\n",
       "      <th></th>\n",
       "      <th></th>\n",
       "      <th></th>\n",
       "      <th></th>\n",
       "      <th></th>\n",
       "      <th></th>\n",
       "      <th></th>\n",
       "      <th></th>\n",
       "      <th></th>\n",
       "      <th></th>\n",
       "    </tr>\n",
       "  </thead>\n",
       "  <tbody>\n",
       "    <tr>\n",
       "      <th>DXB</th>\n",
       "      <td>40610.8525</td>\n",
       "      <td>NaN</td>\n",
       "      <td>NaN</td>\n",
       "      <td>NaN</td>\n",
       "      <td>NaN</td>\n",
       "      <td>NaN</td>\n",
       "      <td>NaN</td>\n",
       "      <td>NaN</td>\n",
       "      <td>NaN</td>\n",
       "      <td>NaN</td>\n",
       "      <td>...</td>\n",
       "      <td>NaN</td>\n",
       "      <td>NaN</td>\n",
       "      <td>NaN</td>\n",
       "      <td>NaN</td>\n",
       "      <td>NaN</td>\n",
       "      <td>NaN</td>\n",
       "      <td>NaN</td>\n",
       "      <td>NaN</td>\n",
       "      <td>NaN</td>\n",
       "      <td>NaN</td>\n",
       "    </tr>\n",
       "  </tbody>\n",
       "</table>\n",
       "<p>1 rows × 280 columns</p>\n",
       "</div>"
      ],
      "text/plain": [
       "destination_iata         ADD  AER  AKL  AMQ  AMS  ANC  ARN  ATL  AUS  AYQ  \\\n",
       "origin_iata                                                                 \n",
       "DXB               40610.8525  NaN  NaN  NaN  NaN  NaN  NaN  NaN  NaN  NaN   \n",
       "\n",
       "destination_iata  ...  YHM  YLW  YUL  YVR  YXX  YYC  YYZ  ZAG  ZNZ  ZUH  \n",
       "origin_iata       ...                                                    \n",
       "DXB               ...  NaN  NaN  NaN  NaN  NaN  NaN  NaN  NaN  NaN  NaN  \n",
       "\n",
       "[1 rows x 280 columns]"
      ]
     },
     "execution_count": 49,
     "metadata": {},
     "output_type": "execute_result"
    }
   ],
   "source": [
    "pivot_table_clean[pivot_table_clean['ADD'].notna()]"
   ]
  },
  {
   "cell_type": "markdown",
   "metadata": {},
   "source": [
    "Pivoting the table this way is a good idea, but there is a huge number of destinations and departures anyway, so it is hard to visualize the results. \n",
    "In the end, i will plot the top ten origin-destination pairs based on total payload and respective volume"
   ]
  },
  {
   "cell_type": "code",
   "execution_count": 50,
   "metadata": {},
   "outputs": [
    {
     "data": {
      "text/html": [
       "<div>\n",
       "<style scoped>\n",
       "    .dataframe tbody tr th:only-of-type {\n",
       "        vertical-align: middle;\n",
       "    }\n",
       "\n",
       "    .dataframe tbody tr th {\n",
       "        vertical-align: top;\n",
       "    }\n",
       "\n",
       "    .dataframe thead th {\n",
       "        text-align: right;\n",
       "    }\n",
       "</style>\n",
       "<table border=\"1\" class=\"dataframe\">\n",
       "  <thead>\n",
       "    <tr style=\"text-align: right;\">\n",
       "      <th></th>\n",
       "      <th>origin_iata</th>\n",
       "      <th>destination_iata</th>\n",
       "      <th>total_payload</th>\n",
       "      <th>total_volume</th>\n",
       "    </tr>\n",
       "  </thead>\n",
       "  <tbody>\n",
       "    <tr>\n",
       "      <th>0</th>\n",
       "      <td>ORD</td>\n",
       "      <td>PVG</td>\n",
       "      <td>126466.5944</td>\n",
       "      <td>172.55040</td>\n",
       "    </tr>\n",
       "    <tr>\n",
       "      <th>1</th>\n",
       "      <td>SIN</td>\n",
       "      <td>SFO</td>\n",
       "      <td>103983.5564</td>\n",
       "      <td>198.39648</td>\n",
       "    </tr>\n",
       "    <tr>\n",
       "      <th>2</th>\n",
       "      <td>CTS</td>\n",
       "      <td>HND</td>\n",
       "      <td>99673.8131</td>\n",
       "      <td>149.26704</td>\n",
       "    </tr>\n",
       "    <tr>\n",
       "      <th>3</th>\n",
       "      <td>SIN</td>\n",
       "      <td>LHR</td>\n",
       "      <td>83417.6077</td>\n",
       "      <td>86.74944</td>\n",
       "    </tr>\n",
       "    <tr>\n",
       "      <th>4</th>\n",
       "      <td>LUX</td>\n",
       "      <td>LAX</td>\n",
       "      <td>74311.6807</td>\n",
       "      <td>101.79744</td>\n",
       "    </tr>\n",
       "    <tr>\n",
       "      <th>5</th>\n",
       "      <td>ANC</td>\n",
       "      <td>LCK</td>\n",
       "      <td>74311.6807</td>\n",
       "      <td>101.79744</td>\n",
       "    </tr>\n",
       "    <tr>\n",
       "      <th>6</th>\n",
       "      <td>HNL</td>\n",
       "      <td>SYD</td>\n",
       "      <td>74311.6807</td>\n",
       "      <td>101.79744</td>\n",
       "    </tr>\n",
       "    <tr>\n",
       "      <th>7</th>\n",
       "      <td>JFK</td>\n",
       "      <td>LAX</td>\n",
       "      <td>70091.9091</td>\n",
       "      <td>83.37504</td>\n",
       "    </tr>\n",
       "    <tr>\n",
       "      <th>8</th>\n",
       "      <td>YUL</td>\n",
       "      <td>DOH</td>\n",
       "      <td>69064.6498</td>\n",
       "      <td>121.75200</td>\n",
       "    </tr>\n",
       "    <tr>\n",
       "      <th>9</th>\n",
       "      <td>ATL</td>\n",
       "      <td>DOH</td>\n",
       "      <td>69064.6498</td>\n",
       "      <td>121.75200</td>\n",
       "    </tr>\n",
       "  </tbody>\n",
       "</table>\n",
       "</div>"
      ],
      "text/plain": [
       "  origin_iata destination_iata  total_payload  total_volume\n",
       "0         ORD              PVG    126466.5944     172.55040\n",
       "1         SIN              SFO    103983.5564     198.39648\n",
       "2         CTS              HND     99673.8131     149.26704\n",
       "3         SIN              LHR     83417.6077      86.74944\n",
       "4         LUX              LAX     74311.6807     101.79744\n",
       "5         ANC              LCK     74311.6807     101.79744\n",
       "6         HNL              SYD     74311.6807     101.79744\n",
       "7         JFK              LAX     70091.9091      83.37504\n",
       "8         YUL              DOH     69064.6498     121.75200\n",
       "9         ATL              DOH     69064.6498     121.75200"
      ]
     },
     "execution_count": 50,
     "metadata": {},
     "output_type": "execute_result"
    }
   ],
   "source": [
    "top_pairs = total_cargo.sort_values(by='total_payload', ascending=False).head(10).reset_index(drop=True)\n",
    "top_pairs"
   ]
  },
  {
   "cell_type": "code",
   "execution_count": 51,
   "metadata": {},
   "outputs": [
    {
     "data": {
      "text/plain": [
       "['ORD - PVG',\n",
       " 'SIN - SFO',\n",
       " 'CTS - HND',\n",
       " 'SIN - LHR',\n",
       " 'LUX - LAX',\n",
       " 'ANC - LCK',\n",
       " 'HNL - SYD',\n",
       " 'JFK - LAX',\n",
       " 'YUL - DOH',\n",
       " 'ATL - DOH']"
      ]
     },
     "execution_count": 51,
     "metadata": {},
     "output_type": "execute_result"
    }
   ],
   "source": [
    "x_labels = [f\"{row['origin_iata']} - {row['destination_iata']}\" for _, row in top_pairs.iterrows()]\n",
    "x_labels"
   ]
  },
  {
   "cell_type": "code",
   "execution_count": 52,
   "metadata": {},
   "outputs": [
    {
     "name": "stderr",
     "output_type": "stream",
     "text": [
      "C:\\Users\\Goncalo\\AppData\\Local\\Temp\\ipykernel_2120\\1182760432.py:9: UserWarning: set_ticklabels() should only be used with a fixed number of ticks, i.e. after set_ticks() or using a FixedLocator.\n",
      "  ax1.set_xticklabels(x_labels,rotation=45)\n",
      "C:\\Users\\Goncalo\\AppData\\Local\\Temp\\ipykernel_2120\\1182760432.py:16: UserWarning: set_ticklabels() should only be used with a fixed number of ticks, i.e. after set_ticks() or using a FixedLocator.\n",
      "  ax2.set_xticklabels(x_labels,rotation=45)\n"
     ]
    },
    {
     "data": {
      "image/png": "[encoded data removed]",
      "text/plain": [
       "<Figure size 1400x600 with 2 Axes>"
      ]
     },
     "metadata": {},
     "output_type": "display_data"
    }
   ],
   "source": [
    "# Set up the figure and axes for two subplots\n",
    "fig, (ax1, ax2) = plt.subplots(1, 2, figsize=(14, 6))\n",
    "\n",
    "# Plotting total payload bars on the first subplot\n",
    "sns.barplot(x=x_labels, y='total_payload', data=top_pairs, ax=ax1, color='b')\n",
    "ax1.set_title('Total Payload by Top Origin-Destination Pairs')\n",
    "ax1.set_xlabel('Origin-Destination Pairs')\n",
    "ax1.set_ylabel('Total Payload (kg)')\n",
    "ax1.set_xticklabels(x_labels,rotation=45)\n",
    "\n",
    "# Plotting total volume bars on the second subplot\n",
    "sns.barplot(x=x_labels, y='total_volume', data=top_pairs, ax=ax2, color='orange')\n",
    "ax2.set_title('Total Volume by Top Origin-Destination Pairs')\n",
    "ax2.set_xlabel('Origin-Destination Pairs')\n",
    "ax2.set_ylabel('Total Volume (m³)')\n",
    "ax2.set_xticklabels(x_labels,rotation=45)\n",
    "\n",
    "# Adjust layout\n",
    "plt.tight_layout()\n",
    "plt.show()"
   ]
  },
  {
   "cell_type": "markdown",
   "metadata": {},
   "source": [
    "----"
   ]
  },
  {
   "cell_type": "markdown",
   "metadata": {},
   "source": [
    "#### Combining the Analysis"
   ]
  },
  {
   "cell_type": "markdown",
   "metadata": {},
   "source": [
    "Having worked on the sample dataset, extend now the results to a concise workflow that, given the datasets, outputs the table of capacity per flight and plots graphs of total payload and volume per use defined fields"
   ]
  },
  {
   "cell_type": "code",
   "execution_count": 53,
   "metadata": {},
   "outputs": [],
   "source": [
    "def read_flight_events(dir):\n",
    "    \"\"\"\n",
    "    Read the csv files of flight event data from a directory and concatenates the relevant columns into one df\n",
    "    \"\"\"\n",
    "    flight_events_list = os.listdir(dir)\n",
    "    print(f'There are {len(flight_events_list)} files in the \"{dir.split('/')[-1]}\" directory.')\n",
    "    relevant_cols = ['flight_id','destination_iata', 'destination_icao', 'equipment', 'origin_iata', 'origin_icao', 'operator', 'date']\n",
    "    chunks_list = []\n",
    "    for file in flight_events_list:\n",
    "        print(f'Reading data from {file}.')\n",
    "        for chunk in pd.read_csv(dir + '/' + file, delimiter=';', chunksize=10_000, usecols=relevant_cols): # Load the CSV\n",
    "            chunks_list.append(chunk)\n",
    "    \n",
    "    combined_df =pd.concat(chunks_list, ignore_index=True)\n",
    "    print(f'Shape of combined df: {combined_df.shape}.')\n",
    "    print(combined_df.head())\n",
    "    return combined_df\n",
    "        "
   ]
  },
  {
   "cell_type": "code",
   "execution_count": 54,
   "metadata": {},
   "outputs": [
    {
     "name": "stdout",
     "output_type": "stream",
     "text": [
      "There are 7 files in the \"flight_events\" directory.\n",
      "Reading data from 2022-10-03.csv.\n",
      "Reading data from 2022-10-04.csv.\n",
      "Reading data from 2022-10-05.csv.\n",
      "Reading data from 2022-10-06.csv.\n",
      "Reading data from 2022-10-07.csv.\n",
      "Reading data from 2022-10-08.csv.\n",
      "Reading data from 2022-10-09.csv.\n",
      "Shape of combined df: (700000, 8).\n",
      "         date destination_iata destination_icao equipment  flight_id operator  \\\n",
      "0  2022-10-03              PDX             KPDX      A119  766465831      NaN   \n",
      "1  2022-10-03              HNL             PHNL      B77L  766473984      FDX   \n",
      "2  2022-10-03              HNL             PHNL      B77L  766473984      FDX   \n",
      "3  2022-10-03              HNL             PHNL      B77L  766473984      FDX   \n",
      "4  2022-10-03              PER             YPPH      B789  766481217      QFA   \n",
      "\n",
      "  origin_iata origin_icao  \n",
      "0         NaN         NaN  \n",
      "1         MEM        KMEM  \n",
      "2         MEM        KMEM  \n",
      "3         MEM        KMEM  \n",
      "4         FCO        LIRF  \n"
     ]
    }
   ],
   "source": [
    "flight_data = read_flight_events('./data/flight_events')"
   ]
  },
  {
   "cell_type": "code",
   "execution_count": 55,
   "metadata": {},
   "outputs": [],
   "source": [
    "def read_airplane_data(filepath):\n",
    "    \"\"\"\n",
    "    Read the Json file with airplane data from a filepath and outputs as a df\n",
    "    \"\"\"\n",
    "    cargo_cols = ['code_icao', 'volume', 'payload']\n",
    "    airplane_df = pd.read_json(filepath, lines=True)\n",
    "    cargo_data_df = airplane_df[cargo_cols]\n",
    "    print(f'Shape of combined df: {cargo_data_df.shape}.')\n",
    "    print(cargo_data_df.head())\n",
    "    return cargo_data_df\n"
   ]
  },
  {
   "cell_type": "code",
   "execution_count": 56,
   "metadata": {},
   "outputs": [
    {
     "name": "stdout",
     "output_type": "stream",
     "text": [
      "Shape of combined df: (100, 3).\n",
      "  code_icao     volume     payload\n",
      "0      A388   86.74944  83417.6077\n",
      "1      A35K  120.12864  66242.9000\n",
      "2      B788   74.78400  40610.8525\n",
      "3      MD82    9.85872  17989.3965\n",
      "4      RJ85    3.92160  12136.2925\n"
     ]
    }
   ],
   "source": [
    "airplane_data = read_airplane_data('./data/airplane_details.json')"
   ]
  },
  {
   "cell_type": "code",
   "execution_count": 57,
   "metadata": {},
   "outputs": [],
   "source": [
    "def clean_flight_data(df):\n",
    "    \"\"\"\n",
    "    Given a flight events df, processes and cleans the data\n",
    "    Drops NAN values in relevant columns and groups by unique flight id\n",
    "    \"\"\"\n",
    "    df_clean = df.dropna(subset=['origin_iata', 'destination_iata', 'equipment']).reset_index(drop=True)\n",
    "    print(f'Shape of clean flight data: {df_clean.shape}.')\n",
    "    df_group = df_clean.groupby('flight_id').first().reset_index()\n",
    "    print(f'Shape of grouped flight data: {df_group.shape}.')\n",
    "    print(df_group.head())\n",
    "    return df_group\n"
   ]
  },
  {
   "cell_type": "code",
   "execution_count": 58,
   "metadata": {},
   "outputs": [
    {
     "name": "stdout",
     "output_type": "stream",
     "text": [
      "Shape of clean flight data: (633193, 8).\n",
      "Shape of grouped flight data: (165980, 8).\n",
      "   flight_id        date destination_iata destination_icao equipment operator  \\\n",
      "0  766473984  2022-10-03              HNL             PHNL      B77L      FDX   \n",
      "1  766481217  2022-10-03              PER             YPPH      B789      QFA   \n",
      "2  766481849  2022-10-03              LHR             EGLL      B789      QFA   \n",
      "3  766489649  2022-10-03              ICN             RKSI      A359      AAR   \n",
      "4  766492623  2022-10-03              JFK             KJFK      B77W      KAL   \n",
      "\n",
      "  origin_iata origin_icao  \n",
      "0         MEM        KMEM  \n",
      "1         FCO        LIRF  \n",
      "2         PER        YPPH  \n",
      "3         ATL        KATL  \n",
      "4         ICN        RKSI  \n"
     ]
    }
   ],
   "source": [
    "flight_data_clean = clean_flight_data(flight_data)"
   ]
  },
  {
   "cell_type": "code",
   "execution_count": 59,
   "metadata": {},
   "outputs": [],
   "source": [
    "def clean_airplane_data(df):\n",
    "    \"\"\"\n",
    "    Clean the airplane data by dropping the Nan values in the code_icao col\n",
    "    Keep the lowest payload values for repeated aircraft categories\n",
    "    \"\"\"\n",
    "    airplane_data_clean = df.dropna(subset=['code_icao']).reset_index(drop=True)\n",
    "    airplane_data_min_cargo = airplane_data_clean.sort_values('payload', ascending=True).drop_duplicates('code_icao').reset_index(drop=True)\n",
    "    print(f'Shape of cleaned airplane data: {airplane_data_min_cargo.shape}.')\n",
    "    print(airplane_data_min_cargo.head())\n",
    "    return airplane_data_min_cargo"
   ]
  },
  {
   "cell_type": "code",
   "execution_count": 60,
   "metadata": {},
   "outputs": [
    {
     "name": "stdout",
     "output_type": "stream",
     "text": [
      "Shape of cleaned airplane data: (97, 3).\n",
      "  code_icao  volume    payload\n",
      "0      LJ35     NaN  1581.9200\n",
      "1      WW24     NaN  1977.4000\n",
      "2      J328     NaN  3411.0150\n",
      "3      YK40     NaN  4150.5626\n",
      "4      CRJ1     NaN  6278.2450\n"
     ]
    }
   ],
   "source": [
    "airplane_data_clean = clean_airplane_data(airplane_data)"
   ]
  },
  {
   "cell_type": "code",
   "execution_count": 61,
   "metadata": {},
   "outputs": [],
   "source": [
    "def build_total_cargo_table(flights_df, airplane_df):\n",
    "    \"\"\"\n",
    "    Joins the two tables and cleans the combined data\n",
    "    \"\"\"\n",
    "    # Merge the dfs \n",
    "    merged_dfs = pd.merge(flights_df, airplane_df, left_on='equipment', right_on='code_icao', how='left')\n",
    "    clean_merged_dfs = merged_dfs.dropna(subset=['code_icao']).reset_index(drop=True)\n",
    "    print(f'Shape of capacity data: {clean_merged_dfs.shape}.')\n",
    "    print(clean_merged_dfs.head())\n",
    "    return clean_merged_dfs"
   ]
  },
  {
   "cell_type": "code",
   "execution_count": 62,
   "metadata": {},
   "outputs": [
    {
     "name": "stdout",
     "output_type": "stream",
     "text": [
      "Shape of capacity data: (103033, 11).\n",
      "   flight_id        date destination_iata destination_icao equipment operator  \\\n",
      "0  766473984  2022-10-03              HNL             PHNL      B77L      FDX   \n",
      "1  766481217  2022-10-03              PER             YPPH      B789      QFA   \n",
      "2  766481849  2022-10-03              LHR             EGLL      B789      QFA   \n",
      "3  766489649  2022-10-03              ICN             RKSI      A359      AAR   \n",
      "4  766492623  2022-10-03              JFK             KJFK      B77W      KAL   \n",
      "\n",
      "  origin_iata origin_icao code_icao     volume     payload  \n",
      "0         MEM        KMEM      B77L   86.27520  63233.2972  \n",
      "1         FCO        LIRF      B789   99.19824  51991.7782  \n",
      "2         PER        YPPH      B789   99.19824  51991.7782  \n",
      "3         ATL        KATL      A359   99.19824  53389.8000  \n",
      "4         ICN        RKSI      B77W  121.75200  69064.6498  \n"
     ]
    }
   ],
   "source": [
    "capacity_table = build_total_cargo_table(flight_data_clean, airplane_data_clean)"
   ]
  },
  {
   "cell_type": "code",
   "execution_count": 63,
   "metadata": {},
   "outputs": [],
   "source": [
    "def total_cargo_per_fields(capacity_table, field):\n",
    "    \"\"\"\n",
    "    Given the capacity table and a list of fields, outputs the total payload, volume and number of flights\n",
    "    per specified fields\n",
    "    \"\"\"\n",
    "    total_cargo_per_field = capacity_table.groupby(field).agg(\n",
    "            total_payload = ('payload', 'sum'),\n",
    "            total_volume = ('volume', 'sum'),\n",
    "            number_flights = ('flight_id', 'count')).reset_index()\n",
    "    print(f'Shape of cargo data per {'-'.join(field)}: {total_cargo_per_field.shape}.')\n",
    "    print(total_cargo_per_field.sort_values('total_payload', ascending=False).head())\n",
    "    return total_cargo_per_field"
   ]
  },
  {
   "cell_type": "code",
   "execution_count": 64,
   "metadata": {},
   "outputs": [
    {
     "name": "stdout",
     "output_type": "stream",
     "text": [
      "Shape of cargo data per destination_iata-origin_iata: (16088, 5).\n",
      "     destination_iata origin_iata  total_payload  total_volume  number_flights\n",
      "2948              CJU         GMP   6.705822e+06    6897.13680             252\n",
      "5583              GMP         CJU   6.462543e+06    6450.57600             250\n",
      "3380              CTS         HND   5.206889e+06    8095.33152             119\n",
      "8693              LHR         JFK   5.177970e+06    9048.27120              88\n",
      "6274              HND         CTS   5.054006e+06    7834.99200             115\n"
     ]
    }
   ],
   "source": [
    "total_cargo1 = total_cargo_per_fields(capacity_table, ['destination_iata', 'origin_iata'])"
   ]
  },
  {
   "cell_type": "code",
   "execution_count": 65,
   "metadata": {},
   "outputs": [
    {
     "name": "stdout",
     "output_type": "stream",
     "text": [
      "Shape of cargo data per destination_iata-origin_iata-date: (62816, 6).\n",
      "      destination_iata origin_iata        date  total_payload  total_volume  \\\n",
      "22064              GMP         CJU  2022-10-09   1.177216e+06    1139.55312   \n",
      "11241              CJU         GMP  2022-10-09   1.169022e+06    1242.85536   \n",
      "22058              GMP         CJU  2022-10-03   1.006045e+06    1030.02192   \n",
      "11235              CJU         GMP  2022-10-03   9.851397e+05    1067.21328   \n",
      "11240              CJU         GMP  2022-10-08   9.755750e+05    1055.41200   \n",
      "\n",
      "       number_flights  \n",
      "22064              46  \n",
      "11241              43  \n",
      "22058              38  \n",
      "11235              36  \n",
      "11240              35  \n"
     ]
    }
   ],
   "source": [
    "total_cargo2 = total_cargo_per_fields(capacity_table, ['destination_iata', 'origin_iata', 'date'])"
   ]
  },
  {
   "cell_type": "code",
   "execution_count": 66,
   "metadata": {},
   "outputs": [
    {
     "name": "stdout",
     "output_type": "stream",
     "text": [
      "Shape of cargo data per operator: (662, 4).\n",
      "    operator  total_payload  total_volume  number_flights\n",
      "1        AAL   1.432102e+08  132283.64832            5767\n",
      "549      SWA   1.419440e+08   74384.04240            7555\n",
      "610      UAL   1.308044e+08  132622.26480            4871\n",
      "184      DAL   1.243202e+08  123001.80480            4914\n",
      "609      UAE   7.339907e+07  108890.86656            1013\n"
     ]
    }
   ],
   "source": [
    "total_cargo3 = total_cargo_per_fields(capacity_table, ['operator'])"
   ]
  },
  {
   "cell_type": "code",
   "execution_count": 67,
   "metadata": {},
   "outputs": [
    {
     "name": "stdout",
     "output_type": "stream",
     "text": [
      "Shape of cargo data per operator-date: (3695, 5).\n",
      "     operator        date  total_payload  total_volume  number_flights\n",
      "10        AAL  2022-10-07   2.242242e+07   20561.45952             907\n",
      "11        AAL  2022-10-08   2.237632e+07   20396.19600             908\n",
      "6         AAL  2022-10-03   2.213453e+07   20117.34288             901\n",
      "3035      SWA  2022-10-08   2.176995e+07   11427.17760            1158\n",
      "3030      SWA  2022-10-03   2.171592e+07   11397.62880            1156\n"
     ]
    }
   ],
   "source": [
    "total_cargo4 = total_cargo_per_fields(capacity_table, ['operator', 'date'])"
   ]
  },
  {
   "cell_type": "code",
   "execution_count": 68,
   "metadata": {},
   "outputs": [],
   "source": [
    "def plot_top_total_cargo(data):\n",
    "\n",
    "    top_cargo_data = data.sort_values(by='total_payload', ascending=False).head(10).reset_index(drop=True)\n",
    "    # Set up the figure and axes for two subplots\n",
    "    fig, (ax1, ax2) = plt.subplots(1, 2, figsize=(14, 6))\n",
    "    x_labels = top_cargo_data.iloc[:, :-3].astype(str).agg(' '.join, axis=1)\n",
    "    fields = ' - '.join(top_cargo_data.columns[:-3])\n",
    "\n",
    "    # Plotting total payload bars on the first subplot\n",
    "    sns.barplot(x=x_labels, y='total_payload', data=top_cargo_data, ax=ax1, color='b')\n",
    "    ax1.set_title(f'Total Payload by Top {fields}')\n",
    "    ax1.set_xlabel(f'{fields}')\n",
    "    ax1.set_ylabel('Total Payload (kg)')\n",
    "    ax1.set_xticklabels(x_labels,rotation=45)\n",
    "\n",
    "    # Plotting total volume bars on the second subplot\n",
    "    sns.barplot(x=x_labels, y='total_volume', data=top_cargo_data, ax=ax2, color='orange')\n",
    "    ax2.set_title(f'Total Volume by Top {fields}')\n",
    "    ax2.set_xlabel(f'{fields}')\n",
    "    ax2.set_ylabel('Total Volume (m³)')\n",
    "    ax2.set_xticklabels(x_labels,rotation=45)\n",
    "\n",
    "    # Adjust layout\n",
    "    plt.tight_layout()\n",
    "    plt.show()"
   ]
  },
  {
   "cell_type": "code",
   "execution_count": 69,
   "metadata": {},
   "outputs": [
    {
     "name": "stderr",
     "output_type": "stream",
     "text": [
      "C:\\Users\\Goncalo\\AppData\\Local\\Temp\\ipykernel_2120\\3251108115.py:14: UserWarning: set_ticklabels() should only be used with a fixed number of ticks, i.e. after set_ticks() or using a FixedLocator.\n",
      "  ax1.set_xticklabels(x_labels,rotation=45)\n",
      "C:\\Users\\Goncalo\\AppData\\Local\\Temp\\ipykernel_2120\\3251108115.py:21: UserWarning: set_ticklabels() should only be used with a fixed number of ticks, i.e. after set_ticks() or using a FixedLocator.\n",
      "  ax2.set_xticklabels(x_labels,rotation=45)\n"
     ]
    },
    {
     "data": {
      "image/png": "[encoded data removed]",
      "text/plain": [
       "<Figure size 1400x600 with 2 Axes>"
      ]
     },
     "metadata": {},
     "output_type": "display_data"
    }
   ],
   "source": [
    "plot_top_total_cargo(total_cargo1)"
   ]
  },
  {
   "cell_type": "code",
   "execution_count": 70,
   "metadata": {},
   "outputs": [
    {
     "name": "stderr",
     "output_type": "stream",
     "text": [
      "C:\\Users\\Goncalo\\AppData\\Local\\Temp\\ipykernel_2120\\3251108115.py:14: UserWarning: set_ticklabels() should only be used with a fixed number of ticks, i.e. after set_ticks() or using a FixedLocator.\n",
      "  ax1.set_xticklabels(x_labels,rotation=45)\n",
      "C:\\Users\\Goncalo\\AppData\\Local\\Temp\\ipykernel_2120\\3251108115.py:21: UserWarning: set_ticklabels() should only be used with a fixed number of ticks, i.e. after set_ticks() or using a FixedLocator.\n",
      "  ax2.set_xticklabels(x_labels,rotation=45)\n"
     ]
    },
    {
     "data": {
      "image/png": "[encoded data removed]",
      "text/plain": [
       "<Figure size 1400x600 with 2 Axes>"
      ]
     },
     "metadata": {},
     "output_type": "display_data"
    }
   ],
   "source": [
    "plot_top_total_cargo(total_cargo2)"
   ]
  },
  {
   "cell_type": "code",
   "execution_count": 71,
   "metadata": {},
   "outputs": [
    {
     "name": "stderr",
     "output_type": "stream",
     "text": [
      "C:\\Users\\Goncalo\\AppData\\Local\\Temp\\ipykernel_2120\\3251108115.py:14: UserWarning: set_ticklabels() should only be used with a fixed number of ticks, i.e. after set_ticks() or using a FixedLocator.\n",
      "  ax1.set_xticklabels(x_labels,rotation=45)\n",
      "C:\\Users\\Goncalo\\AppData\\Local\\Temp\\ipykernel_2120\\3251108115.py:21: UserWarning: set_ticklabels() should only be used with a fixed number of ticks, i.e. after set_ticks() or using a FixedLocator.\n",
      "  ax2.set_xticklabels(x_labels,rotation=45)\n"
     ]
    },
    {
     "data": {
      "image/png": "[encoded data removed]",
      "text/plain": [
       "<Figure size 1400x600 with 2 Axes>"
      ]
     },
     "metadata": {},
     "output_type": "display_data"
    }
   ],
   "source": [
    "plot_top_total_cargo(total_cargo3)"
   ]
  },
  {
   "cell_type": "code",
   "execution_count": 72,
   "metadata": {},
   "outputs": [
    {
     "name": "stderr",
     "output_type": "stream",
     "text": [
      "C:\\Users\\Goncalo\\AppData\\Local\\Temp\\ipykernel_2120\\3251108115.py:14: UserWarning: set_ticklabels() should only be used with a fixed number of ticks, i.e. after set_ticks() or using a FixedLocator.\n",
      "  ax1.set_xticklabels(x_labels,rotation=45)\n",
      "C:\\Users\\Goncalo\\AppData\\Local\\Temp\\ipykernel_2120\\3251108115.py:21: UserWarning: set_ticklabels() should only be used with a fixed number of ticks, i.e. after set_ticks() or using a FixedLocator.\n",
      "  ax2.set_xticklabels(x_labels,rotation=45)\n"
     ]
    },
    {
     "data": {
      "image/png": "[encoded data removed]",
      "text/plain": [
       "<Figure size 1400x600 with 2 Axes>"
      ]
     },
     "metadata": {},
     "output_type": "display_data"
    }
   ],
   "source": [
    "plot_top_total_cargo(total_cargo4)"
   ]
  },
  {
   "cell_type": "markdown",
   "metadata": {},
   "source": [
    "#### Fixing the Volume issue"
   ]
  },
  {
   "cell_type": "markdown",
   "metadata": {},
   "source": [
    "\n",
    "As analysed in Question 1 section, almost 50% of volume data is missing in the aiplanes details json.  \n",
    "This is very significant for an accurate assessment of cargo capacity so I'll try to estimate these values from the payload data and evaluate the accuracy\n",
    "\n",
    "Correlation between the 2 fields is high."
   ]
  },
  {
   "cell_type": "code",
   "execution_count": 521,
   "metadata": {},
   "outputs": [],
   "source": [
    "from sklearn.model_selection import train_test_split\n",
    "from sklearn.linear_model import LinearRegression\n",
    "from sklearn.metrics import mean_squared_error, r2_score"
   ]
  },
  {
   "cell_type": "code",
   "execution_count": 565,
   "metadata": {},
   "outputs": [
    {
     "name": "stdout",
     "output_type": "stream",
     "text": [
      "Shape of combined df: (100, 3).\n",
      "  category     volume     payload\n",
      "0     A380   86.74944  83417.6077\n",
      "1     A350  120.12864  66242.9000\n",
      "2     B787   74.78400  40610.8525\n",
      "3     MD80    9.85872  17989.3965\n",
      "4       RJ    3.92160  12136.2925\n"
     ]
    }
   ],
   "source": [
    "airplane_data = read_airplane_data('./data/airplane_details.json')"
   ]
  },
  {
   "cell_type": "code",
   "execution_count": 548,
   "metadata": {},
   "outputs": [],
   "source": [
    "def remove_outliers(df):\n",
    "    \"\"\"\n",
    "    Calculate Interquantile range for the volume column\n",
    "    \"\"\"\n",
    "    Q1 = df['volume'].quantile(0.25)\n",
    "    Q3 = df['volume'].quantile(0.75)\n",
    "    IQR = Q3 - Q1\n",
    "\n",
    "    # Define bounds for outliers\n",
    "    lower_bound = Q1 - 1.5 * IQR\n",
    "    upper_bound = Q3 + 1.5 * IQR\n",
    "\n",
    "    # Remove outliers\n",
    "    df_cleaned = df[(df['volume'] >= lower_bound) & (df['volume'] <= upper_bound)]\n",
    "    print(f'Shape of no outliers df: {df_cleaned.shape}.')\n",
    "    return df_cleaned"
   ]
  },
  {
   "cell_type": "code",
   "execution_count": 549,
   "metadata": {},
   "outputs": [
    {
     "name": "stdout",
     "output_type": "stream",
     "text": [
      "Shape of no outliers df: (56, 3).\n"
     ]
    }
   ],
   "source": [
    "train_test_data_clean = remove_outliers(airplane_data)"
   ]
  },
  {
   "cell_type": "code",
   "execution_count": 550,
   "metadata": {},
   "outputs": [
    {
     "data": {
      "image/png": "[encoded data removed]",
      "text/plain": [
       "<Figure size 800x600 with 1 Axes>"
      ]
     },
     "metadata": {},
     "output_type": "display_data"
    }
   ],
   "source": [
    "# Scatter plot\n",
    "plt.figure(figsize=(8, 6))\n",
    "sns.regplot(data=train_test_data_clean, x='payload', y='volume')\n",
    "plt.title('Scatter Plot of Volume vs. Payload')\n",
    "plt.xlabel('Payload (kg)')\n",
    "plt.ylabel('Volume (m³)')\n",
    "plt.grid()\n",
    "plt.show()"
   ]
  },
  {
   "cell_type": "code",
   "execution_count": 619,
   "metadata": {},
   "outputs": [],
   "source": [
    "# Define features and target variable\n",
    "X = train_test_data_clean[['payload']]  # Features\n",
    "y = train_test_data_clean['volume']      # Target variable\n",
    "X_train, X_test, y_train, y_test = train_test_split(X, y, test_size=0.3, random_state=42)"
   ]
  },
  {
   "cell_type": "code",
   "execution_count": 620,
   "metadata": {},
   "outputs": [
    {
     "data": {
      "text/html": [
       "<style>#sk-container-id-18 {\n",
       "  /* Definition of color scheme common for light and dark mode */\n",
       "  --sklearn-color-text: #000;\n",
       "  --sklearn-color-text-muted: #666;\n",
       "  --sklearn-color-line: gray;\n",
       "  /* Definition of color scheme for unfitted estimators */\n",
       "  --sklearn-color-unfitted-level-0: #fff5e6;\n",
       "  --sklearn-color-unfitted-level-1: #f6e4d2;\n",
       "  --sklearn-color-unfitted-level-2: #ffe0b3;\n",
       "  --sklearn-color-unfitted-level-3: chocolate;\n",
       "  /* Definition of color scheme for fitted estimators */\n",
       "  --sklearn-color-fitted-level-0: #f0f8ff;\n",
       "  --sklearn-color-fitted-level-1: #d4ebff;\n",
       "  --sklearn-color-fitted-level-2: #b3dbfd;\n",
       "  --sklearn-color-fitted-level-3: cornflowerblue;\n",
       "\n",
       "  /* Specific color for light theme */\n",
       "  --sklearn-color-text-on-default-background: var(--sg-text-color, var(--theme-code-foreground, var(--jp-content-font-color1, black)));\n",
       "  --sklearn-color-background: var(--sg-background-color, var(--theme-background, var(--jp-layout-color0, white)));\n",
       "  --sklearn-color-border-box: var(--sg-text-color, var(--theme-code-foreground, var(--jp-content-font-color1, black)));\n",
       "  --sklearn-color-icon: #696969;\n",
       "\n",
       "  @media (prefers-color-scheme: dark) {\n",
       "    /* Redefinition of color scheme for dark theme */\n",
       "    --sklearn-color-text-on-default-background: var(--sg-text-color, var(--theme-code-foreground, var(--jp-content-font-color1, white)));\n",
       "    --sklearn-color-background: var(--sg-background-color, var(--theme-background, var(--jp-layout-color0, #111)));\n",
       "    --sklearn-color-border-box: var(--sg-text-color, var(--theme-code-foreground, var(--jp-content-font-color1, white)));\n",
       "    --sklearn-color-icon: #878787;\n",
       "  }\n",
       "}\n",
       "\n",
       "#sk-container-id-18 {\n",
       "  color: var(--sklearn-color-text);\n",
       "}\n",
       "\n",
       "#sk-container-id-18 pre {\n",
       "  padding: 0;\n",
       "}\n",
       "\n",
       "#sk-container-id-18 input.sk-hidden--visually {\n",
       "  border: 0;\n",
       "  clip: rect(1px 1px 1px 1px);\n",
       "  clip: rect(1px, 1px, 1px, 1px);\n",
       "  height: 1px;\n",
       "  margin: -1px;\n",
       "  overflow: hidden;\n",
       "  padding: 0;\n",
       "  position: absolute;\n",
       "  width: 1px;\n",
       "}\n",
       "\n",
       "#sk-container-id-18 div.sk-dashed-wrapped {\n",
       "  border: 1px dashed var(--sklearn-color-line);\n",
       "  margin: 0 0.4em 0.5em 0.4em;\n",
       "  box-sizing: border-box;\n",
       "  padding-bottom: 0.4em;\n",
       "  background-color: var(--sklearn-color-background);\n",
       "}\n",
       "\n",
       "#sk-container-id-18 div.sk-container {\n",
       "  /* jupyter's `normalize.less` sets `[hidden] { display: none; }`\n",
       "     but bootstrap.min.css set `[hidden] { display: none !important; }`\n",
       "     so we also need the `!important` here to be able to override the\n",
       "     default hidden behavior on the sphinx rendered scikit-learn.org.\n",
       "     See: https://github.com/scikit-learn/scikit-learn/issues/21755 */\n",
       "  display: inline-block !important;\n",
       "  position: relative;\n",
       "}\n",
       "\n",
       "#sk-container-id-18 div.sk-text-repr-fallback {\n",
       "  display: none;\n",
       "}\n",
       "\n",
       "div.sk-parallel-item,\n",
       "div.sk-serial,\n",
       "div.sk-item {\n",
       "  /* draw centered vertical line to link estimators */\n",
       "  background-image: linear-gradient(var(--sklearn-color-text-on-default-background), var(--sklearn-color-text-on-default-background));\n",
       "  background-size: 2px 100%;\n",
       "  background-repeat: no-repeat;\n",
       "  background-position: center center;\n",
       "}\n",
       "\n",
       "/* Parallel-specific style estimator block */\n",
       "\n",
       "#sk-container-id-18 div.sk-parallel-item::after {\n",
       "  content: \"\";\n",
       "  width: 100%;\n",
       "  border-bottom: 2px solid var(--sklearn-color-text-on-default-background);\n",
       "  flex-grow: 1;\n",
       "}\n",
       "\n",
       "#sk-container-id-18 div.sk-parallel {\n",
       "  display: flex;\n",
       "  align-items: stretch;\n",
       "  justify-content: center;\n",
       "  background-color: var(--sklearn-color-background);\n",
       "  position: relative;\n",
       "}\n",
       "\n",
       "#sk-container-id-18 div.sk-parallel-item {\n",
       "  display: flex;\n",
       "  flex-direction: column;\n",
       "}\n",
       "\n",
       "#sk-container-id-18 div.sk-parallel-item:first-child::after {\n",
       "  align-self: flex-end;\n",
       "  width: 50%;\n",
       "}\n",
       "\n",
       "#sk-container-id-18 div.sk-parallel-item:last-child::after {\n",
       "  align-self: flex-start;\n",
       "  width: 50%;\n",
       "}\n",
       "\n",
       "#sk-container-id-18 div.sk-parallel-item:only-child::after {\n",
       "  width: 0;\n",
       "}\n",
       "\n",
       "/* Serial-specific style estimator block */\n",
       "\n",
       "#sk-container-id-18 div.sk-serial {\n",
       "  display: flex;\n",
       "  flex-direction: column;\n",
       "  align-items: center;\n",
       "  background-color: var(--sklearn-color-background);\n",
       "  padding-right: 1em;\n",
       "  padding-left: 1em;\n",
       "}\n",
       "\n",
       "\n",
       "/* Toggleable style: style used for estimator/Pipeline/ColumnTransformer box that is\n",
       "clickable and can be expanded/collapsed.\n",
       "- Pipeline and ColumnTransformer use this feature and define the default style\n",
       "- Estimators will overwrite some part of the style using the `sk-estimator` class\n",
       "*/\n",
       "\n",
       "/* Pipeline and ColumnTransformer style (default) */\n",
       "\n",
       "#sk-container-id-18 div.sk-toggleable {\n",
       "  /* Default theme specific background. It is overwritten whether we have a\n",
       "  specific estimator or a Pipeline/ColumnTransformer */\n",
       "  background-color: var(--sklearn-color-background);\n",
       "}\n",
       "\n",
       "/* Toggleable label */\n",
       "#sk-container-id-18 label.sk-toggleable__label {\n",
       "  cursor: pointer;\n",
       "  display: flex;\n",
       "  width: 100%;\n",
       "  margin-bottom: 0;\n",
       "  padding: 0.5em;\n",
       "  box-sizing: border-box;\n",
       "  text-align: center;\n",
       "  align-items: start;\n",
       "  justify-content: space-between;\n",
       "  gap: 0.5em;\n",
       "}\n",
       "\n",
       "#sk-container-id-18 label.sk-toggleable__label .caption {\n",
       "  font-size: 0.6rem;\n",
       "  font-weight: lighter;\n",
       "  color: var(--sklearn-color-text-muted);\n",
       "}\n",
       "\n",
       "#sk-container-id-18 label.sk-toggleable__label-arrow:before {\n",
       "  /* Arrow on the left of the label */\n",
       "  content: \"▸\";\n",
       "  float: left;\n",
       "  margin-right: 0.25em;\n",
       "  color: var(--sklearn-color-icon);\n",
       "}\n",
       "\n",
       "#sk-container-id-18 label.sk-toggleable__label-arrow:hover:before {\n",
       "  color: var(--sklearn-color-text);\n",
       "}\n",
       "\n",
       "/* Toggleable content - dropdown */\n",
       "\n",
       "#sk-container-id-18 div.sk-toggleable__content {\n",
       "  max-height: 0;\n",
       "  max-width: 0;\n",
       "  overflow: hidden;\n",
       "  text-align: left;\n",
       "  /* unfitted */\n",
       "  background-color: var(--sklearn-color-unfitted-level-0);\n",
       "}\n",
       "\n",
       "#sk-container-id-18 div.sk-toggleable__content.fitted {\n",
       "  /* fitted */\n",
       "  background-color: var(--sklearn-color-fitted-level-0);\n",
       "}\n",
       "\n",
       "#sk-container-id-18 div.sk-toggleable__content pre {\n",
       "  margin: 0.2em;\n",
       "  border-radius: 0.25em;\n",
       "  color: var(--sklearn-color-text);\n",
       "  /* unfitted */\n",
       "  background-color: var(--sklearn-color-unfitted-level-0);\n",
       "}\n",
       "\n",
       "#sk-container-id-18 div.sk-toggleable__content.fitted pre {\n",
       "  /* unfitted */\n",
       "  background-color: var(--sklearn-color-fitted-level-0);\n",
       "}\n",
       "\n",
       "#sk-container-id-18 input.sk-toggleable__control:checked~div.sk-toggleable__content {\n",
       "  /* Expand drop-down */\n",
       "  max-height: 200px;\n",
       "  max-width: 100%;\n",
       "  overflow: auto;\n",
       "}\n",
       "\n",
       "#sk-container-id-18 input.sk-toggleable__control:checked~label.sk-toggleable__label-arrow:before {\n",
       "  content: \"▾\";\n",
       "}\n",
       "\n",
       "/* Pipeline/ColumnTransformer-specific style */\n",
       "\n",
       "#sk-container-id-18 div.sk-label input.sk-toggleable__control:checked~label.sk-toggleable__label {\n",
       "  color: var(--sklearn-color-text);\n",
       "  background-color: var(--sklearn-color-unfitted-level-2);\n",
       "}\n",
       "\n",
       "#sk-container-id-18 div.sk-label.fitted input.sk-toggleable__control:checked~label.sk-toggleable__label {\n",
       "  background-color: var(--sklearn-color-fitted-level-2);\n",
       "}\n",
       "\n",
       "/* Estimator-specific style */\n",
       "\n",
       "/* Colorize estimator box */\n",
       "#sk-container-id-18 div.sk-estimator input.sk-toggleable__control:checked~label.sk-toggleable__label {\n",
       "  /* unfitted */\n",
       "  background-color: var(--sklearn-color-unfitted-level-2);\n",
       "}\n",
       "\n",
       "#sk-container-id-18 div.sk-estimator.fitted input.sk-toggleable__control:checked~label.sk-toggleable__label {\n",
       "  /* fitted */\n",
       "  background-color: var(--sklearn-color-fitted-level-2);\n",
       "}\n",
       "\n",
       "#sk-container-id-18 div.sk-label label.sk-toggleable__label,\n",
       "#sk-container-id-18 div.sk-label label {\n",
       "  /* The background is the default theme color */\n",
       "  color: var(--sklearn-color-text-on-default-background);\n",
       "}\n",
       "\n",
       "/* On hover, darken the color of the background */\n",
       "#sk-container-id-18 div.sk-label:hover label.sk-toggleable__label {\n",
       "  color: var(--sklearn-color-text);\n",
       "  background-color: var(--sklearn-color-unfitted-level-2);\n",
       "}\n",
       "\n",
       "/* Label box, darken color on hover, fitted */\n",
       "#sk-container-id-18 div.sk-label.fitted:hover label.sk-toggleable__label.fitted {\n",
       "  color: var(--sklearn-color-text);\n",
       "  background-color: var(--sklearn-color-fitted-level-2);\n",
       "}\n",
       "\n",
       "/* Estimator label */\n",
       "\n",
       "#sk-container-id-18 div.sk-label label {\n",
       "  font-family: monospace;\n",
       "  font-weight: bold;\n",
       "  display: inline-block;\n",
       "  line-height: 1.2em;\n",
       "}\n",
       "\n",
       "#sk-container-id-18 div.sk-label-container {\n",
       "  text-align: center;\n",
       "}\n",
       "\n",
       "/* Estimator-specific */\n",
       "#sk-container-id-18 div.sk-estimator {\n",
       "  font-family: monospace;\n",
       "  border: 1px dotted var(--sklearn-color-border-box);\n",
       "  border-radius: 0.25em;\n",
       "  box-sizing: border-box;\n",
       "  margin-bottom: 0.5em;\n",
       "  /* unfitted */\n",
       "  background-color: var(--sklearn-color-unfitted-level-0);\n",
       "}\n",
       "\n",
       "#sk-container-id-18 div.sk-estimator.fitted {\n",
       "  /* fitted */\n",
       "  background-color: var(--sklearn-color-fitted-level-0);\n",
       "}\n",
       "\n",
       "/* on hover */\n",
       "#sk-container-id-18 div.sk-estimator:hover {\n",
       "  /* unfitted */\n",
       "  background-color: var(--sklearn-color-unfitted-level-2);\n",
       "}\n",
       "\n",
       "#sk-container-id-18 div.sk-estimator.fitted:hover {\n",
       "  /* fitted */\n",
       "  background-color: var(--sklearn-color-fitted-level-2);\n",
       "}\n",
       "\n",
       "/* Specification for estimator info (e.g. \"i\" and \"?\") */\n",
       "\n",
       "/* Common style for \"i\" and \"?\" */\n",
       "\n",
       ".sk-estimator-doc-link,\n",
       "a:link.sk-estimator-doc-link,\n",
       "a:visited.sk-estimator-doc-link {\n",
       "  float: right;\n",
       "  font-size: smaller;\n",
       "  line-height: 1em;\n",
       "  font-family: monospace;\n",
       "  background-color: var(--sklearn-color-background);\n",
       "  border-radius: 1em;\n",
       "  height: 1em;\n",
       "  width: 1em;\n",
       "  text-decoration: none !important;\n",
       "  margin-left: 0.5em;\n",
       "  text-align: center;\n",
       "  /* unfitted */\n",
       "  border: var(--sklearn-color-unfitted-level-1) 1pt solid;\n",
       "  color: var(--sklearn-color-unfitted-level-1);\n",
       "}\n",
       "\n",
       ".sk-estimator-doc-link.fitted,\n",
       "a:link.sk-estimator-doc-link.fitted,\n",
       "a:visited.sk-estimator-doc-link.fitted {\n",
       "  /* fitted */\n",
       "  border: var(--sklearn-color-fitted-level-1) 1pt solid;\n",
       "  color: var(--sklearn-color-fitted-level-1);\n",
       "}\n",
       "\n",
       "/* On hover */\n",
       "div.sk-estimator:hover .sk-estimator-doc-link:hover,\n",
       ".sk-estimator-doc-link:hover,\n",
       "div.sk-label-container:hover .sk-estimator-doc-link:hover,\n",
       ".sk-estimator-doc-link:hover {\n",
       "  /* unfitted */\n",
       "  background-color: var(--sklearn-color-unfitted-level-3);\n",
       "  color: var(--sklearn-color-background);\n",
       "  text-decoration: none;\n",
       "}\n",
       "\n",
       "div.sk-estimator.fitted:hover .sk-estimator-doc-link.fitted:hover,\n",
       ".sk-estimator-doc-link.fitted:hover,\n",
       "div.sk-label-container:hover .sk-estimator-doc-link.fitted:hover,\n",
       ".sk-estimator-doc-link.fitted:hover {\n",
       "  /* fitted */\n",
       "  background-color: var(--sklearn-color-fitted-level-3);\n",
       "  color: var(--sklearn-color-background);\n",
       "  text-decoration: none;\n",
       "}\n",
       "\n",
       "/* Span, style for the box shown on hovering the info icon */\n",
       ".sk-estimator-doc-link span {\n",
       "  display: none;\n",
       "  z-index: 9999;\n",
       "  position: relative;\n",
       "  font-weight: normal;\n",
       "  right: .2ex;\n",
       "  padding: .5ex;\n",
       "  margin: .5ex;\n",
       "  width: min-content;\n",
       "  min-width: 20ex;\n",
       "  max-width: 50ex;\n",
       "  color: var(--sklearn-color-text);\n",
       "  box-shadow: 2pt 2pt 4pt #999;\n",
       "  /* unfitted */\n",
       "  background: var(--sklearn-color-unfitted-level-0);\n",
       "  border: .5pt solid var(--sklearn-color-unfitted-level-3);\n",
       "}\n",
       "\n",
       ".sk-estimator-doc-link.fitted span {\n",
       "  /* fitted */\n",
       "  background: var(--sklearn-color-fitted-level-0);\n",
       "  border: var(--sklearn-color-fitted-level-3);\n",
       "}\n",
       "\n",
       ".sk-estimator-doc-link:hover span {\n",
       "  display: block;\n",
       "}\n",
       "\n",
       "/* \"?\"-specific style due to the `<a>` HTML tag */\n",
       "\n",
       "#sk-container-id-18 a.estimator_doc_link {\n",
       "  float: right;\n",
       "  font-size: 1rem;\n",
       "  line-height: 1em;\n",
       "  font-family: monospace;\n",
       "  background-color: var(--sklearn-color-background);\n",
       "  border-radius: 1rem;\n",
       "  height: 1rem;\n",
       "  width: 1rem;\n",
       "  text-decoration: none;\n",
       "  /* unfitted */\n",
       "  color: var(--sklearn-color-unfitted-level-1);\n",
       "  border: var(--sklearn-color-unfitted-level-1) 1pt solid;\n",
       "}\n",
       "\n",
       "#sk-container-id-18 a.estimator_doc_link.fitted {\n",
       "  /* fitted */\n",
       "  border: var(--sklearn-color-fitted-level-1) 1pt solid;\n",
       "  color: var(--sklearn-color-fitted-level-1);\n",
       "}\n",
       "\n",
       "/* On hover */\n",
       "#sk-container-id-18 a.estimator_doc_link:hover {\n",
       "  /* unfitted */\n",
       "  background-color: var(--sklearn-color-unfitted-level-3);\n",
       "  color: var(--sklearn-color-background);\n",
       "  text-decoration: none;\n",
       "}\n",
       "\n",
       "#sk-container-id-18 a.estimator_doc_link.fitted:hover {\n",
       "  /* fitted */\n",
       "  background-color: var(--sklearn-color-fitted-level-3);\n",
       "}\n",
       "</style><div id=\"sk-container-id-18\" class=\"sk-top-container\"><div class=\"sk-text-repr-fallback\"><pre>LinearRegression()</pre><b>In a Jupyter environment, please rerun this cell to show the HTML representation or trust the notebook. <br />On GitHub, the HTML representation is unable to render, please try loading this page with nbviewer.org.</b></div><div class=\"sk-container\" hidden><div class=\"sk-item\"><div class=\"sk-estimator fitted sk-toggleable\"><input class=\"sk-toggleable__control sk-hidden--visually\" id=\"sk-estimator-id-18\" type=\"checkbox\" checked><label for=\"sk-estimator-id-18\" class=\"sk-toggleable__label fitted sk-toggleable__label-arrow\"><div><div>LinearRegression</div></div><div><a class=\"sk-estimator-doc-link fitted\" rel=\"noreferrer\" target=\"_blank\" href=\"https://scikit-learn.org/1.6/modules/generated/sklearn.linear_model.LinearRegression.html\">?<span>Documentation for LinearRegression</span></a><span class=\"sk-estimator-doc-link fitted\">i<span>Fitted</span></span></div></label><div class=\"sk-toggleable__content fitted\"><pre>LinearRegression()</pre></div> </div></div></div></div>"
      ],
      "text/plain": [
       "LinearRegression()"
      ]
     },
     "execution_count": 620,
     "metadata": {},
     "output_type": "execute_result"
    }
   ],
   "source": [
    "# Initialize and fit the model \n",
    "model = LinearRegression()\n",
    "model.fit(X_train, y_train)"
   ]
  },
  {
   "cell_type": "code",
   "execution_count": 621,
   "metadata": {},
   "outputs": [
    {
     "name": "stdout",
     "output_type": "stream",
     "text": [
      "Mean Squared Error: 376.95\n",
      "R² Score: 0.74\n"
     ]
    }
   ],
   "source": [
    "# Predict on the test set and evaluate performance\n",
    "y_pred = model.predict(X_test)\n",
    "\n",
    "# Calculate evaluation metrics\n",
    "mse = mean_squared_error(y_test, y_pred)\n",
    "r2 = r2_score(y_test, y_pred)\n",
    "\n",
    "print(f'Mean Squared Error: {mse:.2f}')\n",
    "print(f'R² Score: {r2:.2f}')"
   ]
  },
  {
   "cell_type": "code",
   "execution_count": 622,
   "metadata": {},
   "outputs": [],
   "source": [
    "# Predict on the original DataFrame where volume is missing\n",
    "missing_mask = airplane_data['volume'].isna()\n",
    "predicted_values = model.predict(airplane_data[['payload']][missing_mask])\n",
    "\n",
    "# Fill in missing values in the original DataFrame with predicted values\n",
    "new_airplane_data = airplane_data.copy()\n",
    "new_airplane_data.loc[missing_mask, 'volume'] = predicted_values"
   ]
  },
  {
   "cell_type": "code",
   "execution_count": 623,
   "metadata": {},
   "outputs": [
    {
     "name": "stdout",
     "output_type": "stream",
     "text": [
      "Shape of no outliers df: (99, 3).\n"
     ]
    }
   ],
   "source": [
    "new_airplane_data_clean = remove_outliers(new_airplane_data)"
   ]
  },
  {
   "cell_type": "code",
   "execution_count": 624,
   "metadata": {},
   "outputs": [
    {
     "data": {
      "image/png": "[encoded data removed]",
      "text/plain": [
       "<Figure size 800x600 with 1 Axes>"
      ]
     },
     "metadata": {},
     "output_type": "display_data"
    }
   ],
   "source": [
    "# Scatter plot\n",
    "plt.figure(figsize=(8, 6))\n",
    "sns.regplot(data=new_airplane_data_clean, x='payload', y='volume')\n",
    "plt.title('Scatter Plot of Volume vs. Payload')\n",
    "plt.xlabel('Payload (kg)')\n",
    "plt.ylabel('Volume (m³)')\n",
    "plt.grid()\n",
    "plt.show()"
   ]
  },
  {
   "cell_type": "markdown",
   "metadata": {},
   "source": [
    "conclusion: Using a Linear regression model we can quickly estimate volume values for the missing aircraft categories but the error is still relatively significant. For low payload values, volume values turn out negative, which is obviously impossible."
   ]
  },
  {
   "cell_type": "markdown",
   "metadata": {},
   "source": [
    "### Final Thoughts"
   ]
  },
  {
   "cell_type": "markdown",
   "metadata": {},
   "source": [
    "Even though the volume estimations are not very accurate, this seems like a good direction to improve on the data available. Estimating using only 50 rows really hurts the accuracy.\n",
    "\n",
    "The analysis of data is also quite good and useful, specially the outlier analysis and the graphs, but combining all the insights into a single presentation would have been even better to comunicate the results of the analysis.\n",
    "\n",
    "Another useful tool would have been to create a general function that given some parameters can return the cargo capacity, since a cargo capacity table is now available, this can also expand on time analysis and spewecific airports. This tool could also be changed into an API later on\n"
   ]
  },
  {
   "cell_type": "markdown",
   "metadata": {},
   "source": []
  }
 ],
 "metadata": {
  "kernelspec": {
   "display_name": "venv",
   "language": "python",
   "name": "python3"
  },
  "language_info": {
   "codemirror_mode": {
    "name": "ipython",
    "version": 3
   },
   "file_extension": ".py",
   "mimetype": "text/x-python",
   "name": "python",
   "nbconvert_exporter": "python",
   "pygments_lexer": "ipython3",
   "version": "3.13.0"
  }
 },
 "nbformat": 4,
 "nbformat_minor": 2
}
